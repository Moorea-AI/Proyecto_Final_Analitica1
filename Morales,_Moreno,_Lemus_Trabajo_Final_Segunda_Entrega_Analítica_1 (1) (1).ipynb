{
  "nbformat": 4,
  "nbformat_minor": 0,
  "metadata": {
    "colab": {
      "provenance": []
    },
    "kernelspec": {
      "name": "python3",
      "display_name": "Python 3"
    },
    "language_info": {
      "name": "python"
    }
  },
  "cells": [
    {
      "cell_type": "markdown",
      "source": [
        "FACULTAD DE INGENIERÍA<br>\n",
        "DEPARTAMENTO DE INGENIERÍA INDUSTRIAL<br>\n",
        "INTRODUCCIÓN A LA ANALÍTICA DE NEGOCIOS<br>\n",
        "TRABAJO DEL CURSO - SEGUNDA ENTREGA: 15% <br>\n",
        "Semestre 2023-01<br>\n",
        "\n",
        "Equipo de trabajo: Aura Luz Moreno Díaz, Marcelo Lemus, Verónica Andrea Morales González\n",
        "\n",
        "---"
      ],
      "metadata": {
        "id": "eiyAt0afmg7P"
      }
    },
    {
      "cell_type": "markdown",
      "source": [
        "# **Carga de datos**\n",
        "\n",
        "*Carga de las librerias necesarias para la ejecución del código. En este caso usaremos Pandas y Numpy renombrándolas como pd y np*"
      ],
      "metadata": {
        "id": "LuXWT_Inm9-b"
      }
    },
    {
      "cell_type": "code",
      "source": [
        "#Carga de las librerias necesarias para la ejecución del código\n",
        "import pandas as pd\n",
        "import numpy as np\n",
        "import plotly.express as px\n",
        "from plotly.subplots import make_subplots"
      ],
      "metadata": {
        "id": "a-lmdqjNnEi6"
      },
      "execution_count": 2,
      "outputs": []
    },
    {
      "cell_type": "markdown",
      "source": [
        "Hemos montado los archivos de la base de datos a un hosting para poder trabajar los 3. Modificamos los permisos y se puede acceder a los datos desde cualquier lugar, de esta manera cualquier usuario puede ejecutar la BD desde cualquier parte."
      ],
      "metadata": {
        "id": "NpfA3PetrFBM"
      }
    },
    {
      "cell_type": "code",
      "source": [
        "#Realizamos pruebas para verificar que haya conexión a la base de datos\n",
        "AH  = pd.read_csv('https://www.4minds.solutions/tarea/final/BDALARMAHUMO.csv', sep=';',  low_memory=False) #Base de datos de Alarmas de Humo\n",
        "MOR = pd.read_csv('https://www.4minds.solutions/tarea/final/BDMORTALIDAD.csv', sep=';',  low_memory=False) #Base de datos de Mortalidad\n",
        "ROC = pd.read_csv('https://www.4minds.solutions/tarea/final/BDROCIADORES.csv', sep=';',  low_memory=False) #Base de datos de Rociadores\n",
        "DES = pd.read_csv('https://www.4minds.solutions/tarea/final/BDGENERALDESASTRES.csv', sep=';',  low_memory=False) #Base de datos de Desastres en general"
      ],
      "metadata": {
        "id": "LwFODaCirI6q"
      },
      "execution_count": 3,
      "outputs": []
    },
    {
      "cell_type": "code",
      "source": [
        "#Vemos los nombres de las columnas-variables de la base de alarma de humo y cantidad de datos de cada una.\n",
        "AH.count()"
      ],
      "metadata": {
        "colab": {
          "base_uri": "https://localhost:8080/"
        },
        "id": "rPm2-AtxLIHR",
        "outputId": "b1fc28a8-d096-4240-d93b-3a3b63bca9ac"
      },
      "execution_count": 4,
      "outputs": [
        {
          "output_type": "execute_result",
          "data": {
            "text/plain": [
              "REF_DATE                                                1050\n",
              "GEO                                                     1050\n",
              "DGUID                                                    900\n",
              "Performance of smoke alarm device, residential fires    1050\n",
              "Incidents and casualties                                1050\n",
              "UOM                                                     1050\n",
              "UOM_ID                                                  1050\n",
              "SCALAR_FACTOR                                           1050\n",
              "SCALAR_ID                                               1050\n",
              "VECTOR                                                  1050\n",
              "COORDINATE                                              1050\n",
              "VALUE                                                    845\n",
              "STATUS                                                   205\n",
              "SYMBOL                                                     0\n",
              "TERMINATED                                                 0\n",
              "DECIMALS                                                1050\n",
              "dtype: int64"
            ]
          },
          "metadata": {},
          "execution_count": 4
        }
      ]
    },
    {
      "cell_type": "code",
      "source": [
        "#Vemos los nombres de las columnas-variables de la base de rociadores y cantidad de datos de cada una.\n",
        "ROC.count()"
      ],
      "metadata": {
        "colab": {
          "base_uri": "https://localhost:8080/"
        },
        "id": "iIOxNZf9gtWf",
        "outputId": "ae28850b-ba30-4efa-8bba-82b7a01e31b3"
      },
      "execution_count": 5,
      "outputs": [
        {
          "output_type": "execute_result",
          "data": {
            "text/plain": [
              "REF_DATE                                             1050\n",
              "GEO                                                  1050\n",
              "DGUID                                                 900\n",
              "Performance of sprinkler system, structural fires    1050\n",
              "Incidents and casualties                             1050\n",
              "UOM                                                  1050\n",
              "UOM_ID                                               1050\n",
              "SCALAR_FACTOR                                        1050\n",
              "SCALAR_ID                                            1050\n",
              "VECTOR                                               1050\n",
              "COORDINATE                                           1050\n",
              "VALUE                                                 845\n",
              "STATUS                                                205\n",
              "SYMBOL                                                  0\n",
              "TERMINATED                                              0\n",
              "DECIMALS                                             1050\n",
              "dtype: int64"
            ]
          },
          "metadata": {},
          "execution_count": 5
        }
      ]
    },
    {
      "cell_type": "code",
      "source": [
        "#Vemos los nombres de las columnas-variables de la base de mortalidad y cantidad de datos de cada una.\n",
        "MOR.count()"
      ],
      "metadata": {
        "colab": {
          "base_uri": "https://localhost:8080/"
        },
        "id": "AatYmfAmjhOU",
        "outputId": "96486e76-a15a-44ce-a531-8fa4f962ec69"
      },
      "execution_count": 6,
      "outputs": [
        {
          "output_type": "execute_result",
          "data": {
            "text/plain": [
              "REF_DATE                 24840\n",
              "GEO                      24840\n",
              "DGUID                    24840\n",
              "Casualties               24840\n",
              "Age group of casualty    24840\n",
              "Status of casualty       24840\n",
              "Type of structure        24840\n",
              "UOM                      24840\n",
              "UOM_ID                   24840\n",
              "SCALAR_FACTOR            24840\n",
              "SCALAR_ID                24840\n",
              "VECTOR                   24840\n",
              "COORDINATE               24840\n",
              "VALUE                    21942\n",
              "STATUS                    2898\n",
              "SYMBOL                       0\n",
              "TERMINATED                   0\n",
              "DECIMALS                 24840\n",
              "dtype: int64"
            ]
          },
          "metadata": {},
          "execution_count": 6
        }
      ]
    },
    {
      "cell_type": "code",
      "source": [
        "#Vemos los nombres de las columnas-variables de la base general de desastres.\n",
        "DES.count()"
      ],
      "metadata": {
        "colab": {
          "base_uri": "https://localhost:8080/"
        },
        "id": "vurumY6VkTtI",
        "outputId": "88913fb4-dc44-46c3-fa5b-1d91032fe1b4"
      },
      "execution_count": 7,
      "outputs": [
        {
          "output_type": "execute_result",
          "data": {
            "text/plain": [
              "EVENT CATEGORY                    1444\n",
              "EVENT GROUP                       1430\n",
              "EVENT SUBGROUP                    1426\n",
              "EVENT TYPE                        1430\n",
              "PLACE                             1436\n",
              "EVENT START DATE                  1425\n",
              "COMMENTS                          1436\n",
              "FATALITIES                        1278\n",
              "INJURED / INFECTED                1197\n",
              "EVACUATED                         1139\n",
              "ESTIMATED TOTAL COST               577\n",
              "NORMALIZED TOTAL COST              557\n",
              "EVENT END DATE                    1408\n",
              "FEDERAL DFAA PAYMENTS              481\n",
              "PROVINCIAL DFAA PAYMENTS           413\n",
              "PROVINCIAL DEPARTMENT PAYMENTS      91\n",
              "MUNICIPAL COSTS                     28\n",
              "OGD COSTS                           14\n",
              "INSURANCE PAYMENTS                 139\n",
              "NGO PAYMENTS                         8\n",
              "UTILITY - PEOPLE AFFECTED         1005\n",
              "MAGNITUDE                         1152\n",
              "dtype: int64"
            ]
          },
          "metadata": {},
          "execution_count": 7
        }
      ]
    },
    {
      "cell_type": "markdown",
      "source": [
        "Se identifican columnas con nombres similares y otras relacionadas en las bases de mortalidad, rociadores y alarma de humo, por ejemplo **casualties** con **incidents** y **casualties**. Así como *Performance of sprinkler system*, *structural fires* y *Performance of smoke alarm device*, *residential fires*  que se refieren al funcionamiento del sistema como tal, por lo tanto se procede a unificar estas variables en las bases.\n",
        "\n",
        "Como la tabla general de desastres tiene unas variables totalmente diferentes, se procede a concatenar las otras tres tablas."
      ],
      "metadata": {
        "id": "IuSDd2xyjpnF"
      }
    },
    {
      "cell_type": "markdown",
      "source": [
        "## Renombrar algunas columnas\n",
        "\n",
        "Antes de concatenar las bases, se renombran algunas columnas para que al concatenar, queden en la misma, dado que se refieren a una misma variable, pero en cada base tienen un nombre diferente."
      ],
      "metadata": {
        "id": "6dTSxtyDIpjm"
      }
    },
    {
      "cell_type": "code",
      "source": [
        "MOR.rename(columns={'GEO':'GEO','Casualties':'Incidents&Casualties', 'REF_DATE':'YEAR'}, inplace=True)\n",
        "MOR.columns"
      ],
      "metadata": {
        "colab": {
          "base_uri": "https://localhost:8080/"
        },
        "id": "mMaeYgb5Iv--",
        "outputId": "c240a1f0-27e8-4328-990f-5417ef603aa4"
      },
      "execution_count": 8,
      "outputs": [
        {
          "output_type": "execute_result",
          "data": {
            "text/plain": [
              "Index(['YEAR', 'GEO', 'DGUID', 'Incidents&Casualties', 'Age group of casualty',\n",
              "       'Status of casualty', 'Type of structure', 'UOM', 'UOM_ID',\n",
              "       'SCALAR_FACTOR', 'SCALAR_ID', 'VECTOR', 'COORDINATE', 'VALUE', 'STATUS',\n",
              "       'SYMBOL', 'TERMINATED', 'DECIMALS'],\n",
              "      dtype='object')"
            ]
          },
          "metadata": {},
          "execution_count": 8
        }
      ]
    },
    {
      "cell_type": "code",
      "source": [
        "ROC.rename(columns={'GEO':'GEO','Incidents and casualties':'Incidents&Casualties','Performance of sprinkler system, structural fires':'performance_of_system','REF_DATE':'YEAR'}, inplace=True)\n",
        "ROC.columns"
      ],
      "metadata": {
        "colab": {
          "base_uri": "https://localhost:8080/"
        },
        "id": "VqdQZ5FmK7j9",
        "outputId": "6a42819d-6ab8-4303-c6a6-86e8c3bcc09a"
      },
      "execution_count": 9,
      "outputs": [
        {
          "output_type": "execute_result",
          "data": {
            "text/plain": [
              "Index(['YEAR', 'GEO', 'DGUID', 'performance_of_system', 'Incidents&Casualties',\n",
              "       'UOM', 'UOM_ID', 'SCALAR_FACTOR', 'SCALAR_ID', 'VECTOR', 'COORDINATE',\n",
              "       'VALUE', 'STATUS', 'SYMBOL', 'TERMINATED', 'DECIMALS'],\n",
              "      dtype='object')"
            ]
          },
          "metadata": {},
          "execution_count": 9
        }
      ]
    },
    {
      "cell_type": "code",
      "source": [
        "AH.rename(columns={'GEO':'GEO','Incidents and casualties':'Incidents&Casualties','Performance of smoke alarm device, residential fires':'performance_of_system','REF_DATE':'YEAR'},inplace=True)\n",
        "AH.columns"
      ],
      "metadata": {
        "colab": {
          "base_uri": "https://localhost:8080/"
        },
        "id": "TO2mNCvHLoV7",
        "outputId": "6f480331-5e97-4c72-d07b-2a1c32eb0b51"
      },
      "execution_count": 10,
      "outputs": [
        {
          "output_type": "execute_result",
          "data": {
            "text/plain": [
              "Index(['YEAR', 'GEO', 'DGUID', 'performance_of_system', 'Incidents&Casualties',\n",
              "       'UOM', 'UOM_ID', 'SCALAR_FACTOR', 'SCALAR_ID', 'VECTOR', 'COORDINATE',\n",
              "       'VALUE', 'STATUS', 'SYMBOL', 'TERMINATED', 'DECIMALS'],\n",
              "      dtype='object')"
            ]
          },
          "metadata": {},
          "execution_count": 10
        }
      ]
    },
    {
      "cell_type": "code",
      "source": [
        "#DE la base de datos de desastres quitaremos los puntos para poder hacer bien los cálculos numéricos\n",
        "DES['ESTIMATED TOTAL COST'] = DES['ESTIMATED TOTAL COST'].str.replace('.', '')\n",
        "print(DES['ESTIMATED TOTAL COST'].head(10))"
      ],
      "metadata": {
        "colab": {
          "base_uri": "https://localhost:8080/"
        },
        "id": "ewZUbrprvoNq",
        "outputId": "1c69a1f8-d4a9-4785-e7a3-d4e891c45e7d"
      },
      "execution_count": 11,
      "outputs": [
        {
          "output_type": "stream",
          "name": "stdout",
          "text": [
            "0            NaN\n",
            "1    51093580000\n",
            "2          00000\n",
            "3            NaN\n",
            "4          00000\n",
            "5          00000\n",
            "6            NaN\n",
            "7            NaN\n",
            "8            NaN\n",
            "9          00000\n",
            "Name: ESTIMATED TOTAL COST, dtype: object\n"
          ]
        },
        {
          "output_type": "stream",
          "name": "stderr",
          "text": [
            "<ipython-input-11-4fd6f9f62073>:2: FutureWarning: The default value of regex will change from True to False in a future version. In addition, single character regular expressions will *not* be treated as literal strings when regex=True.\n",
            "  DES['ESTIMATED TOTAL COST'] = DES['ESTIMATED TOTAL COST'].str.replace('.', '')\n"
          ]
        }
      ]
    },
    {
      "cell_type": "code",
      "source": [
        "#DE la base de datos de desastres quitaremos los puntos para poder hacer bien los cálculos numéricos\n",
        "DES['NORMALIZED TOTAL COST'] = DES['NORMALIZED TOTAL COST'].astype(str)\n",
        "DES['NORMALIZED TOTAL COST'] = DES['NORMALIZED TOTAL COST'].str.replace('.', '')\n",
        "print(DES['NORMALIZED TOTAL COST'].head(10))"
      ],
      "metadata": {
        "colab": {
          "base_uri": "https://localhost:8080/"
        },
        "id": "VLHPXY9Fvq7U",
        "outputId": "4a982fa6-4d9d-47cf-bcf3-34453a18d88e"
      },
      "execution_count": 12,
      "outputs": [
        {
          "output_type": "stream",
          "name": "stdout",
          "text": [
            "0        nan\n",
            "1    3357738\n",
            "2         00\n",
            "3        nan\n",
            "4         00\n",
            "5         00\n",
            "6        nan\n",
            "7        nan\n",
            "8        nan\n",
            "9         00\n",
            "Name: NORMALIZED TOTAL COST, dtype: object\n"
          ]
        },
        {
          "output_type": "stream",
          "name": "stderr",
          "text": [
            "<ipython-input-12-e39bdb167eb3>:3: FutureWarning: The default value of regex will change from True to False in a future version. In addition, single character regular expressions will *not* be treated as literal strings when regex=True.\n",
            "  DES['NORMALIZED TOTAL COST'] = DES['NORMALIZED TOTAL COST'].str.replace('.', '')\n"
          ]
        }
      ]
    },
    {
      "cell_type": "markdown",
      "source": [
        "## Concatenar bases\n",
        "\n",
        "Una vez renombradas, se procede a concatenar las tres bases con variables similares."
      ],
      "metadata": {
        "id": "zeKpCTM5yN69"
      }
    },
    {
      "cell_type": "code",
      "source": [
        "# concatenar las bases\n",
        "CON = pd.concat([AH, MOR, ROC])\n",
        "print('concat sin definir axis:' , CON.shape) # concatena por columnas"
      ],
      "metadata": {
        "colab": {
          "base_uri": "https://localhost:8080/"
        },
        "id": "dWJ18yzRxlRf",
        "outputId": "3ead5928-0c8a-4c87-a4af-e9e1167cb7fc"
      },
      "execution_count": 13,
      "outputs": [
        {
          "output_type": "stream",
          "name": "stdout",
          "text": [
            "concat sin definir axis: (26940, 19)\n"
          ]
        }
      ]
    },
    {
      "cell_type": "code",
      "source": [
        "#Revisamos las variables de la nueva base\n",
        "CON.count()"
      ],
      "metadata": {
        "colab": {
          "base_uri": "https://localhost:8080/"
        },
        "id": "s5TNJfvQmDyN",
        "outputId": "5893837c-4a89-40f7-befd-2894f0108fcd"
      },
      "execution_count": 14,
      "outputs": [
        {
          "output_type": "execute_result",
          "data": {
            "text/plain": [
              "YEAR                     26940\n",
              "GEO                      26940\n",
              "DGUID                    26640\n",
              "performance_of_system     2100\n",
              "Incidents&Casualties     26940\n",
              "UOM                      26940\n",
              "UOM_ID                   26940\n",
              "SCALAR_FACTOR            26940\n",
              "SCALAR_ID                26940\n",
              "VECTOR                   26940\n",
              "COORDINATE               26940\n",
              "VALUE                    23632\n",
              "STATUS                    3308\n",
              "SYMBOL                       0\n",
              "TERMINATED                   0\n",
              "DECIMALS                 26940\n",
              "Age group of casualty    24840\n",
              "Status of casualty       24840\n",
              "Type of structure        24840\n",
              "dtype: int64"
            ]
          },
          "metadata": {},
          "execution_count": 14
        }
      ]
    },
    {
      "cell_type": "markdown",
      "source": [
        "# **Depuración: Homologación de categorías, tipos de datos**\n",
        "## A. Volver el nombre de las columnas a minúscula.\n",
        "## usaremos la función lower para ponerlas todas en minúsculas"
      ],
      "metadata": {
        "id": "7JJb4HkunG-J"
      }
    },
    {
      "cell_type": "code",
      "source": [
        "#Quitamos los espacios en blanco y pasamos a minusculas de la nueva tabla\n",
        "CON['GEO'] = CON['GEO'].apply(lambda x: x.lower().strip() if pd.notnull(x) else x )\n",
        "CON['performance_of_system'] = CON['performance_of_system'].apply(lambda x: x.lower().strip() if pd.notnull(x) else x )\n",
        "CON['Incidents&Casualties'] = CON['Incidents&Casualties'].apply(lambda x: x.lower().strip() if pd.notnull(x) else x )\n",
        "CON['Status of casualty'] = CON['Status of casualty'].apply(lambda x: x.lower().strip() if pd.notnull(x) else x )\n",
        "CON['Type of structure'] = CON['Type of structure'].apply(lambda x: x.lower().strip() if pd.notnull(x) else x )"
      ],
      "metadata": {
        "id": "4l9lvMP2nMbS"
      },
      "execution_count": 15,
      "outputs": []
    },
    {
      "cell_type": "code",
      "source": [
        "#Quitamos los espacios en blanco y pasamos a minusculas de la tabla general de desastres\n",
        "DES['EVENT GROUP'] = DES['EVENT GROUP'].apply(lambda x: x.lower().strip() if pd.notnull(x) else x )\n",
        "DES['EVENT SUBGROUP'] = DES['EVENT SUBGROUP'].apply(lambda x: x.lower().strip() if pd.notnull(x) else x )\n",
        "DES['EVENT TYPE'] = DES['EVENT TYPE'].apply(lambda x: x.lower().strip() if pd.notnull(x) else x )\n",
        "DES['PLACE'] = DES['PLACE'].apply(lambda x: x.lower().strip() if pd.notnull(x) else x )"
      ],
      "metadata": {
        "id": "rheq7QVREzho"
      },
      "execution_count": 16,
      "outputs": []
    },
    {
      "cell_type": "code",
      "source": [
        "# guardamos el df con las columnas definidas para ser analizadas de acuerdo con el contenido de las tres bases concatenadas.\n",
        "CONS = CON.loc[:, ['YEAR', 'GEO', 'performance_of_system', 'Incidents&Casualties', 'VALUE', 'Status of casualty', 'Type of structure']]\n",
        "CONS"
      ],
      "metadata": {
        "colab": {
          "base_uri": "https://localhost:8080/",
          "height": 424
        },
        "id": "IipwNAtxq_Fs",
        "outputId": "3e160ed8-b2ca-4a33-d0a2-c342dcbca662"
      },
      "execution_count": 17,
      "outputs": [
        {
          "output_type": "execute_result",
          "data": {
            "text/plain": [
              "      YEAR                    GEO                    performance_of_system  \\\n",
              "0     2005                 canada                  total residential fires   \n",
              "1     2005                 canada                  total residential fires   \n",
              "2     2005                 canada                  total residential fires   \n",
              "3     2005                 canada                           no smoke alarm   \n",
              "4     2005                 canada                           no smoke alarm   \n",
              "...    ...                    ...                                      ...   \n",
              "1045  2014  canadian armed forces                sprinkler did not operate   \n",
              "1046  2014  canadian armed forces                sprinkler did not operate   \n",
              "1047  2014  canadian armed forces  unknown performance of sprinkler system   \n",
              "1048  2014  canadian armed forces  unknown performance of sprinkler system   \n",
              "1049  2014  canadian armed forces  unknown performance of sprinkler system   \n",
              "\n",
              "                               Incidents&Casualties    VALUE  \\\n",
              "0            fire incidents, residential properties  13619.0   \n",
              "1       fire-related deaths, residential properties    144.0   \n",
              "2     fire-related injuries, residential properties    998.0   \n",
              "3            fire incidents, residential properties   1183.0   \n",
              "4       fire-related deaths, residential properties     22.0   \n",
              "...                                             ...      ...   \n",
              "1045                fire-related deaths, structural      NaN   \n",
              "1046              fire-related injuries, structural      NaN   \n",
              "1047                     fire incidents, structural     55.0   \n",
              "1048                fire-related deaths, structural      NaN   \n",
              "1049              fire-related injuries, structural      NaN   \n",
              "\n",
              "     Status of casualty Type of structure  \n",
              "0                   NaN               NaN  \n",
              "1                   NaN               NaN  \n",
              "2                   NaN               NaN  \n",
              "3                   NaN               NaN  \n",
              "4                   NaN               NaN  \n",
              "...                 ...               ...  \n",
              "1045                NaN               NaN  \n",
              "1046                NaN               NaN  \n",
              "1047                NaN               NaN  \n",
              "1048                NaN               NaN  \n",
              "1049                NaN               NaN  \n",
              "\n",
              "[26940 rows x 7 columns]"
            ],
            "text/html": [
              "\n",
              "  <div id=\"df-3b701fa8-927a-41e7-bd8c-04a9ab8e94f5\">\n",
              "    <div class=\"colab-df-container\">\n",
              "      <div>\n",
              "<style scoped>\n",
              "    .dataframe tbody tr th:only-of-type {\n",
              "        vertical-align: middle;\n",
              "    }\n",
              "\n",
              "    .dataframe tbody tr th {\n",
              "        vertical-align: top;\n",
              "    }\n",
              "\n",
              "    .dataframe thead th {\n",
              "        text-align: right;\n",
              "    }\n",
              "</style>\n",
              "<table border=\"1\" class=\"dataframe\">\n",
              "  <thead>\n",
              "    <tr style=\"text-align: right;\">\n",
              "      <th></th>\n",
              "      <th>YEAR</th>\n",
              "      <th>GEO</th>\n",
              "      <th>performance_of_system</th>\n",
              "      <th>Incidents&amp;Casualties</th>\n",
              "      <th>VALUE</th>\n",
              "      <th>Status of casualty</th>\n",
              "      <th>Type of structure</th>\n",
              "    </tr>\n",
              "  </thead>\n",
              "  <tbody>\n",
              "    <tr>\n",
              "      <th>0</th>\n",
              "      <td>2005</td>\n",
              "      <td>canada</td>\n",
              "      <td>total residential fires</td>\n",
              "      <td>fire incidents, residential properties</td>\n",
              "      <td>13619.0</td>\n",
              "      <td>NaN</td>\n",
              "      <td>NaN</td>\n",
              "    </tr>\n",
              "    <tr>\n",
              "      <th>1</th>\n",
              "      <td>2005</td>\n",
              "      <td>canada</td>\n",
              "      <td>total residential fires</td>\n",
              "      <td>fire-related deaths, residential properties</td>\n",
              "      <td>144.0</td>\n",
              "      <td>NaN</td>\n",
              "      <td>NaN</td>\n",
              "    </tr>\n",
              "    <tr>\n",
              "      <th>2</th>\n",
              "      <td>2005</td>\n",
              "      <td>canada</td>\n",
              "      <td>total residential fires</td>\n",
              "      <td>fire-related injuries, residential properties</td>\n",
              "      <td>998.0</td>\n",
              "      <td>NaN</td>\n",
              "      <td>NaN</td>\n",
              "    </tr>\n",
              "    <tr>\n",
              "      <th>3</th>\n",
              "      <td>2005</td>\n",
              "      <td>canada</td>\n",
              "      <td>no smoke alarm</td>\n",
              "      <td>fire incidents, residential properties</td>\n",
              "      <td>1183.0</td>\n",
              "      <td>NaN</td>\n",
              "      <td>NaN</td>\n",
              "    </tr>\n",
              "    <tr>\n",
              "      <th>4</th>\n",
              "      <td>2005</td>\n",
              "      <td>canada</td>\n",
              "      <td>no smoke alarm</td>\n",
              "      <td>fire-related deaths, residential properties</td>\n",
              "      <td>22.0</td>\n",
              "      <td>NaN</td>\n",
              "      <td>NaN</td>\n",
              "    </tr>\n",
              "    <tr>\n",
              "      <th>...</th>\n",
              "      <td>...</td>\n",
              "      <td>...</td>\n",
              "      <td>...</td>\n",
              "      <td>...</td>\n",
              "      <td>...</td>\n",
              "      <td>...</td>\n",
              "      <td>...</td>\n",
              "    </tr>\n",
              "    <tr>\n",
              "      <th>1045</th>\n",
              "      <td>2014</td>\n",
              "      <td>canadian armed forces</td>\n",
              "      <td>sprinkler did not operate</td>\n",
              "      <td>fire-related deaths, structural</td>\n",
              "      <td>NaN</td>\n",
              "      <td>NaN</td>\n",
              "      <td>NaN</td>\n",
              "    </tr>\n",
              "    <tr>\n",
              "      <th>1046</th>\n",
              "      <td>2014</td>\n",
              "      <td>canadian armed forces</td>\n",
              "      <td>sprinkler did not operate</td>\n",
              "      <td>fire-related injuries, structural</td>\n",
              "      <td>NaN</td>\n",
              "      <td>NaN</td>\n",
              "      <td>NaN</td>\n",
              "    </tr>\n",
              "    <tr>\n",
              "      <th>1047</th>\n",
              "      <td>2014</td>\n",
              "      <td>canadian armed forces</td>\n",
              "      <td>unknown performance of sprinkler system</td>\n",
              "      <td>fire incidents, structural</td>\n",
              "      <td>55.0</td>\n",
              "      <td>NaN</td>\n",
              "      <td>NaN</td>\n",
              "    </tr>\n",
              "    <tr>\n",
              "      <th>1048</th>\n",
              "      <td>2014</td>\n",
              "      <td>canadian armed forces</td>\n",
              "      <td>unknown performance of sprinkler system</td>\n",
              "      <td>fire-related deaths, structural</td>\n",
              "      <td>NaN</td>\n",
              "      <td>NaN</td>\n",
              "      <td>NaN</td>\n",
              "    </tr>\n",
              "    <tr>\n",
              "      <th>1049</th>\n",
              "      <td>2014</td>\n",
              "      <td>canadian armed forces</td>\n",
              "      <td>unknown performance of sprinkler system</td>\n",
              "      <td>fire-related injuries, structural</td>\n",
              "      <td>NaN</td>\n",
              "      <td>NaN</td>\n",
              "      <td>NaN</td>\n",
              "    </tr>\n",
              "  </tbody>\n",
              "</table>\n",
              "<p>26940 rows × 7 columns</p>\n",
              "</div>\n",
              "      <button class=\"colab-df-convert\" onclick=\"convertToInteractive('df-3b701fa8-927a-41e7-bd8c-04a9ab8e94f5')\"\n",
              "              title=\"Convert this dataframe to an interactive table.\"\n",
              "              style=\"display:none;\">\n",
              "        \n",
              "  <svg xmlns=\"http://www.w3.org/2000/svg\" height=\"24px\"viewBox=\"0 0 24 24\"\n",
              "       width=\"24px\">\n",
              "    <path d=\"M0 0h24v24H0V0z\" fill=\"none\"/>\n",
              "    <path d=\"M18.56 5.44l.94 2.06.94-2.06 2.06-.94-2.06-.94-.94-2.06-.94 2.06-2.06.94zm-11 1L8.5 8.5l.94-2.06 2.06-.94-2.06-.94L8.5 2.5l-.94 2.06-2.06.94zm10 10l.94 2.06.94-2.06 2.06-.94-2.06-.94-.94-2.06-.94 2.06-2.06.94z\"/><path d=\"M17.41 7.96l-1.37-1.37c-.4-.4-.92-.59-1.43-.59-.52 0-1.04.2-1.43.59L10.3 9.45l-7.72 7.72c-.78.78-.78 2.05 0 2.83L4 21.41c.39.39.9.59 1.41.59.51 0 1.02-.2 1.41-.59l7.78-7.78 2.81-2.81c.8-.78.8-2.07 0-2.86zM5.41 20L4 18.59l7.72-7.72 1.47 1.35L5.41 20z\"/>\n",
              "  </svg>\n",
              "      </button>\n",
              "      \n",
              "  <style>\n",
              "    .colab-df-container {\n",
              "      display:flex;\n",
              "      flex-wrap:wrap;\n",
              "      gap: 12px;\n",
              "    }\n",
              "\n",
              "    .colab-df-convert {\n",
              "      background-color: #E8F0FE;\n",
              "      border: none;\n",
              "      border-radius: 50%;\n",
              "      cursor: pointer;\n",
              "      display: none;\n",
              "      fill: #1967D2;\n",
              "      height: 32px;\n",
              "      padding: 0 0 0 0;\n",
              "      width: 32px;\n",
              "    }\n",
              "\n",
              "    .colab-df-convert:hover {\n",
              "      background-color: #E2EBFA;\n",
              "      box-shadow: 0px 1px 2px rgba(60, 64, 67, 0.3), 0px 1px 3px 1px rgba(60, 64, 67, 0.15);\n",
              "      fill: #174EA6;\n",
              "    }\n",
              "\n",
              "    [theme=dark] .colab-df-convert {\n",
              "      background-color: #3B4455;\n",
              "      fill: #D2E3FC;\n",
              "    }\n",
              "\n",
              "    [theme=dark] .colab-df-convert:hover {\n",
              "      background-color: #434B5C;\n",
              "      box-shadow: 0px 1px 3px 1px rgba(0, 0, 0, 0.15);\n",
              "      filter: drop-shadow(0px 1px 2px rgba(0, 0, 0, 0.3));\n",
              "      fill: #FFFFFF;\n",
              "    }\n",
              "  </style>\n",
              "\n",
              "      <script>\n",
              "        const buttonEl =\n",
              "          document.querySelector('#df-3b701fa8-927a-41e7-bd8c-04a9ab8e94f5 button.colab-df-convert');\n",
              "        buttonEl.style.display =\n",
              "          google.colab.kernel.accessAllowed ? 'block' : 'none';\n",
              "\n",
              "        async function convertToInteractive(key) {\n",
              "          const element = document.querySelector('#df-3b701fa8-927a-41e7-bd8c-04a9ab8e94f5');\n",
              "          const dataTable =\n",
              "            await google.colab.kernel.invokeFunction('convertToInteractive',\n",
              "                                                     [key], {});\n",
              "          if (!dataTable) return;\n",
              "\n",
              "          const docLinkHtml = 'Like what you see? Visit the ' +\n",
              "            '<a target=\"_blank\" href=https://colab.research.google.com/notebooks/data_table.ipynb>data table notebook</a>'\n",
              "            + ' to learn more about interactive tables.';\n",
              "          element.innerHTML = '';\n",
              "          dataTable['output_type'] = 'display_data';\n",
              "          await google.colab.output.renderOutput(dataTable, element);\n",
              "          const docLink = document.createElement('div');\n",
              "          docLink.innerHTML = docLinkHtml;\n",
              "          element.appendChild(docLink);\n",
              "        }\n",
              "      </script>\n",
              "    </div>\n",
              "  </div>\n",
              "  "
            ]
          },
          "metadata": {},
          "execution_count": 17
        }
      ]
    },
    {
      "cell_type": "code",
      "source": [
        "# guardamos el df con las columnas definidas para ser analizadas de acuerdo con su contenido - para la base general de incendios\n",
        "DESA = DES.loc[:, ['EVENT GROUP', 'EVENT SUBGROUP', 'EVENT TYPE', 'EVENT START DATE', 'FATALITIES', 'INJURED / INFECTED', 'ESTIMATED TOTAL COST', 'NORMALIZED TOTAL COST', 'MAGNITUDE', 'PLACE']]\n",
        "DESA"
      ],
      "metadata": {
        "colab": {
          "base_uri": "https://localhost:8080/",
          "height": 424
        },
        "id": "joYWbB01u56g",
        "outputId": "31ae4d01-9d62-4212-d69b-0e89d0560be7"
      },
      "execution_count": 18,
      "outputs": [
        {
          "output_type": "execute_result",
          "data": {
            "text/plain": [
              "     EVENT GROUP                 EVENT SUBGROUP  \\\n",
              "0     technology        transportation accident   \n",
              "1        natural  meteorological - hydrological   \n",
              "2     technology            hazardous chemicals   \n",
              "3        natural                     biological   \n",
              "4        natural                     biological   \n",
              "...          ...                            ...   \n",
              "1444     natural  meteorological - hydrological   \n",
              "1445     natural  meteorological - hydrological   \n",
              "1446     natural  meteorological - hydrological   \n",
              "1447     natural  meteorological - hydrological   \n",
              "1448     natural  meteorological - hydrological   \n",
              "\n",
              "                           EVENT TYPE        EVENT START DATE FATALITIES  \\\n",
              "0                              marine  11/17/1987 12:00:00 AM         34   \n",
              "1     storms and severe thunderstorms   1/16/1998 12:00:00 AM         21   \n",
              "2                leak / spill release   9/28/2005 12:00:00 AM        NaN   \n",
              "3                            epidemic          1/01/1918 0:00      50000   \n",
              "4                            epidemic          8/01/2008 0:00         22   \n",
              "...                               ...                     ...        ...   \n",
              "1444                     winter storm  11/13/2004 12:00:00 AM          0   \n",
              "1445                     winter storm   1/17/2020 12:00:00 AM          2   \n",
              "1446                     winter storm          1/10/2020 0:00          0   \n",
              "1447                     winter storm          4/05/1979 0:00          9   \n",
              "1448                     winter storm          4/03/2018 0:00          0   \n",
              "\n",
              "      INJURED / INFECTED ESTIMATED TOTAL COST NORMALIZED TOTAL COST  \\\n",
              "0                    0.0                  NaN                   nan   \n",
              "1                    0.0          51093580000               3357738   \n",
              "2                    NaN                00000                    00   \n",
              "3              2000000.0                  NaN                   nan   \n",
              "4                   57.0                00000                    00   \n",
              "...                  ...                  ...                   ...   \n",
              "1444                 0.0                  NaN                   nan   \n",
              "1445                 0.0                  NaN                   nan   \n",
              "1446                 0.0                  NaN                   nan   \n",
              "1447                 0.0                  NaN                   nan   \n",
              "1448                 1.0                  NaN                   nan   \n",
              "\n",
              "      MAGNITUDE                                              PLACE  \n",
              "0           0.0                            400 km off cape race nl  \n",
              "1           0.0  45 miles southwest of the islands of saint-pie...  \n",
              "2           0.0                                      abbotsford bc  \n",
              "3           0.0                                      across canada  \n",
              "4           0.0                                      across canada  \n",
              "...         ...                                                ...  \n",
              "1444        NaN                                        nova scotia  \n",
              "1445        NaN     avalon peninsula and bell island, newfoundland  \n",
              "1446        NaN               southern ontairo and southern quebec  \n",
              "1447        NaN                                            ontario  \n",
              "1448        NaN               southern ontario and southern quebec  \n",
              "\n",
              "[1449 rows x 10 columns]"
            ],
            "text/html": [
              "\n",
              "  <div id=\"df-b5e590c6-8b14-4b94-bdbe-f5a07942dd13\">\n",
              "    <div class=\"colab-df-container\">\n",
              "      <div>\n",
              "<style scoped>\n",
              "    .dataframe tbody tr th:only-of-type {\n",
              "        vertical-align: middle;\n",
              "    }\n",
              "\n",
              "    .dataframe tbody tr th {\n",
              "        vertical-align: top;\n",
              "    }\n",
              "\n",
              "    .dataframe thead th {\n",
              "        text-align: right;\n",
              "    }\n",
              "</style>\n",
              "<table border=\"1\" class=\"dataframe\">\n",
              "  <thead>\n",
              "    <tr style=\"text-align: right;\">\n",
              "      <th></th>\n",
              "      <th>EVENT GROUP</th>\n",
              "      <th>EVENT SUBGROUP</th>\n",
              "      <th>EVENT TYPE</th>\n",
              "      <th>EVENT START DATE</th>\n",
              "      <th>FATALITIES</th>\n",
              "      <th>INJURED / INFECTED</th>\n",
              "      <th>ESTIMATED TOTAL COST</th>\n",
              "      <th>NORMALIZED TOTAL COST</th>\n",
              "      <th>MAGNITUDE</th>\n",
              "      <th>PLACE</th>\n",
              "    </tr>\n",
              "  </thead>\n",
              "  <tbody>\n",
              "    <tr>\n",
              "      <th>0</th>\n",
              "      <td>technology</td>\n",
              "      <td>transportation accident</td>\n",
              "      <td>marine</td>\n",
              "      <td>11/17/1987 12:00:00 AM</td>\n",
              "      <td>34</td>\n",
              "      <td>0.0</td>\n",
              "      <td>NaN</td>\n",
              "      <td>nan</td>\n",
              "      <td>0.0</td>\n",
              "      <td>400 km off cape race nl</td>\n",
              "    </tr>\n",
              "    <tr>\n",
              "      <th>1</th>\n",
              "      <td>natural</td>\n",
              "      <td>meteorological - hydrological</td>\n",
              "      <td>storms and severe thunderstorms</td>\n",
              "      <td>1/16/1998 12:00:00 AM</td>\n",
              "      <td>21</td>\n",
              "      <td>0.0</td>\n",
              "      <td>51093580000</td>\n",
              "      <td>3357738</td>\n",
              "      <td>0.0</td>\n",
              "      <td>45 miles southwest of the islands of saint-pie...</td>\n",
              "    </tr>\n",
              "    <tr>\n",
              "      <th>2</th>\n",
              "      <td>technology</td>\n",
              "      <td>hazardous chemicals</td>\n",
              "      <td>leak / spill release</td>\n",
              "      <td>9/28/2005 12:00:00 AM</td>\n",
              "      <td>NaN</td>\n",
              "      <td>NaN</td>\n",
              "      <td>00000</td>\n",
              "      <td>00</td>\n",
              "      <td>0.0</td>\n",
              "      <td>abbotsford bc</td>\n",
              "    </tr>\n",
              "    <tr>\n",
              "      <th>3</th>\n",
              "      <td>natural</td>\n",
              "      <td>biological</td>\n",
              "      <td>epidemic</td>\n",
              "      <td>1/01/1918 0:00</td>\n",
              "      <td>50000</td>\n",
              "      <td>2000000.0</td>\n",
              "      <td>NaN</td>\n",
              "      <td>nan</td>\n",
              "      <td>0.0</td>\n",
              "      <td>across canada</td>\n",
              "    </tr>\n",
              "    <tr>\n",
              "      <th>4</th>\n",
              "      <td>natural</td>\n",
              "      <td>biological</td>\n",
              "      <td>epidemic</td>\n",
              "      <td>8/01/2008 0:00</td>\n",
              "      <td>22</td>\n",
              "      <td>57.0</td>\n",
              "      <td>00000</td>\n",
              "      <td>00</td>\n",
              "      <td>0.0</td>\n",
              "      <td>across canada</td>\n",
              "    </tr>\n",
              "    <tr>\n",
              "      <th>...</th>\n",
              "      <td>...</td>\n",
              "      <td>...</td>\n",
              "      <td>...</td>\n",
              "      <td>...</td>\n",
              "      <td>...</td>\n",
              "      <td>...</td>\n",
              "      <td>...</td>\n",
              "      <td>...</td>\n",
              "      <td>...</td>\n",
              "      <td>...</td>\n",
              "    </tr>\n",
              "    <tr>\n",
              "      <th>1444</th>\n",
              "      <td>natural</td>\n",
              "      <td>meteorological - hydrological</td>\n",
              "      <td>winter storm</td>\n",
              "      <td>11/13/2004 12:00:00 AM</td>\n",
              "      <td>0</td>\n",
              "      <td>0.0</td>\n",
              "      <td>NaN</td>\n",
              "      <td>nan</td>\n",
              "      <td>NaN</td>\n",
              "      <td>nova scotia</td>\n",
              "    </tr>\n",
              "    <tr>\n",
              "      <th>1445</th>\n",
              "      <td>natural</td>\n",
              "      <td>meteorological - hydrological</td>\n",
              "      <td>winter storm</td>\n",
              "      <td>1/17/2020 12:00:00 AM</td>\n",
              "      <td>2</td>\n",
              "      <td>0.0</td>\n",
              "      <td>NaN</td>\n",
              "      <td>nan</td>\n",
              "      <td>NaN</td>\n",
              "      <td>avalon peninsula and bell island, newfoundland</td>\n",
              "    </tr>\n",
              "    <tr>\n",
              "      <th>1446</th>\n",
              "      <td>natural</td>\n",
              "      <td>meteorological - hydrological</td>\n",
              "      <td>winter storm</td>\n",
              "      <td>1/10/2020 0:00</td>\n",
              "      <td>0</td>\n",
              "      <td>0.0</td>\n",
              "      <td>NaN</td>\n",
              "      <td>nan</td>\n",
              "      <td>NaN</td>\n",
              "      <td>southern ontairo and southern quebec</td>\n",
              "    </tr>\n",
              "    <tr>\n",
              "      <th>1447</th>\n",
              "      <td>natural</td>\n",
              "      <td>meteorological - hydrological</td>\n",
              "      <td>winter storm</td>\n",
              "      <td>4/05/1979 0:00</td>\n",
              "      <td>9</td>\n",
              "      <td>0.0</td>\n",
              "      <td>NaN</td>\n",
              "      <td>nan</td>\n",
              "      <td>NaN</td>\n",
              "      <td>ontario</td>\n",
              "    </tr>\n",
              "    <tr>\n",
              "      <th>1448</th>\n",
              "      <td>natural</td>\n",
              "      <td>meteorological - hydrological</td>\n",
              "      <td>winter storm</td>\n",
              "      <td>4/03/2018 0:00</td>\n",
              "      <td>0</td>\n",
              "      <td>1.0</td>\n",
              "      <td>NaN</td>\n",
              "      <td>nan</td>\n",
              "      <td>NaN</td>\n",
              "      <td>southern ontario and southern quebec</td>\n",
              "    </tr>\n",
              "  </tbody>\n",
              "</table>\n",
              "<p>1449 rows × 10 columns</p>\n",
              "</div>\n",
              "      <button class=\"colab-df-convert\" onclick=\"convertToInteractive('df-b5e590c6-8b14-4b94-bdbe-f5a07942dd13')\"\n",
              "              title=\"Convert this dataframe to an interactive table.\"\n",
              "              style=\"display:none;\">\n",
              "        \n",
              "  <svg xmlns=\"http://www.w3.org/2000/svg\" height=\"24px\"viewBox=\"0 0 24 24\"\n",
              "       width=\"24px\">\n",
              "    <path d=\"M0 0h24v24H0V0z\" fill=\"none\"/>\n",
              "    <path d=\"M18.56 5.44l.94 2.06.94-2.06 2.06-.94-2.06-.94-.94-2.06-.94 2.06-2.06.94zm-11 1L8.5 8.5l.94-2.06 2.06-.94-2.06-.94L8.5 2.5l-.94 2.06-2.06.94zm10 10l.94 2.06.94-2.06 2.06-.94-2.06-.94-.94-2.06-.94 2.06-2.06.94z\"/><path d=\"M17.41 7.96l-1.37-1.37c-.4-.4-.92-.59-1.43-.59-.52 0-1.04.2-1.43.59L10.3 9.45l-7.72 7.72c-.78.78-.78 2.05 0 2.83L4 21.41c.39.39.9.59 1.41.59.51 0 1.02-.2 1.41-.59l7.78-7.78 2.81-2.81c.8-.78.8-2.07 0-2.86zM5.41 20L4 18.59l7.72-7.72 1.47 1.35L5.41 20z\"/>\n",
              "  </svg>\n",
              "      </button>\n",
              "      \n",
              "  <style>\n",
              "    .colab-df-container {\n",
              "      display:flex;\n",
              "      flex-wrap:wrap;\n",
              "      gap: 12px;\n",
              "    }\n",
              "\n",
              "    .colab-df-convert {\n",
              "      background-color: #E8F0FE;\n",
              "      border: none;\n",
              "      border-radius: 50%;\n",
              "      cursor: pointer;\n",
              "      display: none;\n",
              "      fill: #1967D2;\n",
              "      height: 32px;\n",
              "      padding: 0 0 0 0;\n",
              "      width: 32px;\n",
              "    }\n",
              "\n",
              "    .colab-df-convert:hover {\n",
              "      background-color: #E2EBFA;\n",
              "      box-shadow: 0px 1px 2px rgba(60, 64, 67, 0.3), 0px 1px 3px 1px rgba(60, 64, 67, 0.15);\n",
              "      fill: #174EA6;\n",
              "    }\n",
              "\n",
              "    [theme=dark] .colab-df-convert {\n",
              "      background-color: #3B4455;\n",
              "      fill: #D2E3FC;\n",
              "    }\n",
              "\n",
              "    [theme=dark] .colab-df-convert:hover {\n",
              "      background-color: #434B5C;\n",
              "      box-shadow: 0px 1px 3px 1px rgba(0, 0, 0, 0.15);\n",
              "      filter: drop-shadow(0px 1px 2px rgba(0, 0, 0, 0.3));\n",
              "      fill: #FFFFFF;\n",
              "    }\n",
              "  </style>\n",
              "\n",
              "      <script>\n",
              "        const buttonEl =\n",
              "          document.querySelector('#df-b5e590c6-8b14-4b94-bdbe-f5a07942dd13 button.colab-df-convert');\n",
              "        buttonEl.style.display =\n",
              "          google.colab.kernel.accessAllowed ? 'block' : 'none';\n",
              "\n",
              "        async function convertToInteractive(key) {\n",
              "          const element = document.querySelector('#df-b5e590c6-8b14-4b94-bdbe-f5a07942dd13');\n",
              "          const dataTable =\n",
              "            await google.colab.kernel.invokeFunction('convertToInteractive',\n",
              "                                                     [key], {});\n",
              "          if (!dataTable) return;\n",
              "\n",
              "          const docLinkHtml = 'Like what you see? Visit the ' +\n",
              "            '<a target=\"_blank\" href=https://colab.research.google.com/notebooks/data_table.ipynb>data table notebook</a>'\n",
              "            + ' to learn more about interactive tables.';\n",
              "          element.innerHTML = '';\n",
              "          dataTable['output_type'] = 'display_data';\n",
              "          await google.colab.output.renderOutput(dataTable, element);\n",
              "          const docLink = document.createElement('div');\n",
              "          docLink.innerHTML = docLinkHtml;\n",
              "          element.appendChild(docLink);\n",
              "        }\n",
              "      </script>\n",
              "    </div>\n",
              "  </div>\n",
              "  "
            ]
          },
          "metadata": {},
          "execution_count": 18
        }
      ]
    },
    {
      "cell_type": "markdown",
      "source": [
        "## Homologación de categorías"
      ],
      "metadata": {
        "id": "v-iZwh5L6Aiw"
      }
    },
    {
      "cell_type": "code",
      "source": [
        "# ver categorías de GEO con la frecuencia, en la base compilada CONS:\n",
        "CONS['GEO'].value_counts()"
      ],
      "metadata": {
        "colab": {
          "base_uri": "https://localhost:8080/"
        },
        "id": "9fV63ZWM6Gha",
        "outputId": "abb72501-8273-47ff-ce26-e30ee75ebbba"
      },
      "execution_count": 19,
      "outputs": [
        {
          "output_type": "execute_result",
          "data": {
            "text/plain": [
              "canada                   4440\n",
              "ontario                  4440\n",
              "manitoba                 4440\n",
              "saskatchewan             4440\n",
              "alberta                  4440\n",
              "british columbia         4440\n",
              "canadian armed forces     300\n",
              "Name: GEO, dtype: int64"
            ]
          },
          "metadata": {},
          "execution_count": 19
        }
      ]
    },
    {
      "cell_type": "markdown",
      "source": [
        "Encontramos que está Canadá y Fuerza armada Canadiense, por lo que se unen estas dos como Canadá."
      ],
      "metadata": {
        "id": "SFH8lh6xsFRu"
      }
    },
    {
      "cell_type": "code",
      "source": [
        "# remplazar las categorías en GEO\n",
        "CONS['GEO'] = CONS['GEO'].replace(['canadian armed forces'], 'canada')"
      ],
      "metadata": {
        "id": "lG19ER9jsZmR"
      },
      "execution_count": 20,
      "outputs": []
    },
    {
      "cell_type": "code",
      "source": [
        "# verificamos las categorías de GEO con la frecuencia:\n",
        "CONS['GEO'].value_counts()"
      ],
      "metadata": {
        "colab": {
          "base_uri": "https://localhost:8080/"
        },
        "id": "K0pWgDetspN0",
        "outputId": "0b77c336-9ddd-4f5b-9ef3-f99b4137ea27"
      },
      "execution_count": 21,
      "outputs": [
        {
          "output_type": "execute_result",
          "data": {
            "text/plain": [
              "canada              4740\n",
              "ontario             4440\n",
              "manitoba            4440\n",
              "saskatchewan        4440\n",
              "alberta             4440\n",
              "british columbia    4440\n",
              "Name: GEO, dtype: int64"
            ]
          },
          "metadata": {},
          "execution_count": 21
        }
      ]
    },
    {
      "cell_type": "code",
      "source": [
        "#ver categorías de performance_of_system con la frecuencia, en la base compilada CONS::\n",
        "CONS['performance_of_system'].value_counts()"
      ],
      "metadata": {
        "id": "XhfdUtK6R5Rm",
        "colab": {
          "base_uri": "https://localhost:8080/"
        },
        "outputId": "52445973-6e7d-41f7-813f-0b487179f7d1"
      },
      "execution_count": 22,
      "outputs": [
        {
          "output_type": "execute_result",
          "data": {
            "text/plain": [
              "total residential fires                      210\n",
              "no smoke alarm                               210\n",
              "alarm activated                              210\n",
              "alarm did not activate                       210\n",
              "unknown performance of smoke alarm device    210\n",
              "total structural fires                       210\n",
              "no sprinkler                                 210\n",
              "sprinkler operated                           210\n",
              "sprinkler did not operate                    210\n",
              "unknown performance of sprinkler system      210\n",
              "Name: performance_of_system, dtype: int64"
            ]
          },
          "metadata": {},
          "execution_count": 22
        }
      ]
    },
    {
      "cell_type": "markdown",
      "source": [
        "No hay categorías que se repitan"
      ],
      "metadata": {
        "id": "S-rQYaEwtWsh"
      }
    },
    {
      "cell_type": "code",
      "source": [
        "# ver categorías de type of structure con la frecuencia, en la base compilada CONS:\n",
        "CONS['Type of structure'].value_counts()"
      ],
      "metadata": {
        "colab": {
          "base_uri": "https://localhost:8080/"
        },
        "id": "DNPjDqqG_EZV",
        "outputId": "66db674b-65e2-4a88-fe07-48c28481e9af"
      },
      "execution_count": 23,
      "outputs": [
        {
          "output_type": "execute_result",
          "data": {
            "text/plain": [
              "total structural fires                 2760\n",
              "residential fires                      2760\n",
              "industrial fires                       2760\n",
              "assembly fires                         2760\n",
              "mercantile fires                       2760\n",
              "business use/personal service fires    2760\n",
              "institutional fires                    2760\n",
              "storage property fires                 2760\n",
              "other structure type                   2760\n",
              "Name: Type of structure, dtype: int64"
            ]
          },
          "metadata": {},
          "execution_count": 23
        }
      ]
    },
    {
      "cell_type": "markdown",
      "source": [
        "No hay categorías que se repitan"
      ],
      "metadata": {
        "id": "W0Hxc0botk6Q"
      }
    },
    {
      "cell_type": "code",
      "source": [
        "# Revisamos ahora las categorías en la base general de desastres DESA, iniciamos con EVENT GROUP\n",
        "DESA['EVENT GROUP'].value_counts()"
      ],
      "metadata": {
        "colab": {
          "base_uri": "https://localhost:8080/"
        },
        "id": "S4-UkNOktqEC",
        "outputId": "17bfdeff-ba78-4f53-f23e-9d080564b949"
      },
      "execution_count": 24,
      "outputs": [
        {
          "output_type": "execute_result",
          "data": {
            "text/plain": [
              "natural       1011\n",
              "technology     370\n",
              "conflict        39\n",
              "0                3\n",
              "1                3\n",
              "2                2\n",
              "47               1\n",
              "93               1\n",
              "Name: EVENT GROUP, dtype: int64"
            ]
          },
          "metadata": {},
          "execution_count": 24
        }
      ]
    },
    {
      "cell_type": "markdown",
      "source": [
        "Se tienen algunos datos sin sentido como las categorías 0, 1, 2, 47 y 93, por lo tanto se procede a cambiarlas y ponerlas como SIN que significa sin información."
      ],
      "metadata": {
        "id": "y7qIBMOMwsb5"
      }
    },
    {
      "cell_type": "code",
      "source": [
        "# reemplazar las categorías en EVENT GROUP\n",
        "DESA['EVENT GROUP'] = DESA['EVENT GROUP'].replace(['0', '1', '2', '47', '93'], 'SIN')"
      ],
      "metadata": {
        "id": "lomTM8a1w7r9"
      },
      "execution_count": 25,
      "outputs": []
    },
    {
      "cell_type": "code",
      "source": [
        "#Verificamos\n",
        "DESA['EVENT GROUP'].value_counts()"
      ],
      "metadata": {
        "colab": {
          "base_uri": "https://localhost:8080/"
        },
        "id": "r2ng6Y55xs_o",
        "outputId": "bb6a9015-6295-47a9-f3a8-1f765fdb77e9"
      },
      "execution_count": 26,
      "outputs": [
        {
          "output_type": "execute_result",
          "data": {
            "text/plain": [
              "natural       1011\n",
              "technology     370\n",
              "conflict        39\n",
              "SIN             10\n",
              "Name: EVENT GROUP, dtype: int64"
            ]
          },
          "metadata": {},
          "execution_count": 26
        }
      ]
    },
    {
      "cell_type": "code",
      "source": [
        "# Revisamos ahora la categoría EVENT SUBGROUP\n",
        "DESA['EVENT SUBGROUP'].value_counts()"
      ],
      "metadata": {
        "colab": {
          "base_uri": "https://localhost:8080/"
        },
        "id": "2_ZSpTxnzCrA",
        "outputId": "cfd51797-1a2f-44d2-a041-b2966250b492"
      },
      "execution_count": 27,
      "outputs": [
        {
          "output_type": "execute_result",
          "data": {
            "text/plain": [
              "meteorological - hydrological    899\n",
              "transportation accident          142\n",
              "fire                              89\n",
              "hazardous chemicals               74\n",
              "geological                        58\n",
              "biological                        54\n",
              "explosion                         50\n",
              "terrorist                         20\n",
              "infrastructure failure            14\n",
              "arson                             10\n",
              "civil incident                     8\n",
              "0                                  3\n",
              "hijacking                          1\n",
              "space event                        1\n",
              "25                                 1\n",
              "45                                 1\n",
              "6                                  1\n",
              "Name: EVENT SUBGROUP, dtype: int64"
            ]
          },
          "metadata": {},
          "execution_count": 27
        }
      ]
    },
    {
      "cell_type": "markdown",
      "source": [
        "Se tienen algunos datos sin sentido como las categorías 0, 25, 45, 6, por lo tanto se procede a cambiarlas y ponerlas como s.i. que significa sin información. Y se tiene la categoría fire y arson que se refieren a fuego, por lo cual se reunen en una como fire.  Se tiene también civil incident y hijacking que traduce secuestro, por lo que puede estar dentro de la categoría de incidente civil."
      ],
      "metadata": {
        "id": "alxDsQ1pzN2P"
      }
    },
    {
      "cell_type": "code",
      "source": [
        "# remplazar las categorías en EVENT SUBGROUP\n",
        "DESA['EVENT SUBGROUP'] = DESA['EVENT SUBGROUP'].replace(['0', '25', '45', '6'], 'SIN')\n",
        "DESA['EVENT SUBGROUP'] = DESA['EVENT SUBGROUP'].replace(['arson'], 'fire')\n",
        "DESA['EVENT SUBGROUP'] = DESA['EVENT SUBGROUP'].replace(['hijacking'], 'civil incident')"
      ],
      "metadata": {
        "id": "JQ6NUVWnzdYu"
      },
      "execution_count": 28,
      "outputs": []
    },
    {
      "cell_type": "code",
      "source": [
        "#Verificamos\n",
        "DESA['EVENT SUBGROUP'].value_counts()"
      ],
      "metadata": {
        "colab": {
          "base_uri": "https://localhost:8080/"
        },
        "id": "VUXtRcgWzski",
        "outputId": "acae99b9-5418-4771-cf6b-a0d0fb3c96ee"
      },
      "execution_count": 29,
      "outputs": [
        {
          "output_type": "execute_result",
          "data": {
            "text/plain": [
              "meteorological - hydrological    899\n",
              "transportation accident          142\n",
              "fire                              99\n",
              "hazardous chemicals               74\n",
              "geological                        58\n",
              "biological                        54\n",
              "explosion                         50\n",
              "terrorist                         20\n",
              "infrastructure failure            14\n",
              "civil incident                     9\n",
              "SIN                                6\n",
              "space event                        1\n",
              "Name: EVENT SUBGROUP, dtype: int64"
            ]
          },
          "metadata": {},
          "execution_count": 29
        }
      ]
    },
    {
      "cell_type": "code",
      "source": [
        "# Revisamos ahora la categoría EVENT TYPE\n",
        "DESA['EVENT TYPE'].value_counts()"
      ],
      "metadata": {
        "colab": {
          "base_uri": "https://localhost:8080/"
        },
        "id": "I-NvYCrg1BYD",
        "outputId": "bfa97d7b-f5f0-4be8-d3d2-9113f15f864e"
      },
      "execution_count": 30,
      "outputs": [
        {
          "output_type": "execute_result",
          "data": {
            "text/plain": [
              "flood                                   336\n",
              "storms and severe thunderstorms         141\n",
              "wildfire                                113\n",
              "non-residential                         105\n",
              "winter storm                             89\n",
              "tornado                                  51\n",
              "epidemic                                 50\n",
              "air                                      47\n",
              "drought                                  46\n",
              "residential                              43\n",
              "marine                                   41\n",
              "landslide                                40\n",
              "hurricane / typhoon / tropical storm     39\n",
              "storm - unspecified / other              34\n",
              "rail                                     31\n",
              "vehicle                                  25\n",
              "leak / spill release                     23\n",
              "derailment release                       18\n",
              "fire                                     17\n",
              "avalanche                                17\n",
              "earthquake                               12\n",
              "storm surge                              10\n",
              "cold event                               10\n",
              "marine release                            9\n",
              "bomb attacks                              9\n",
              "heat event                                8\n",
              "vehicle release                           7\n",
              "manufacturing / industry                  7\n",
              "shootings                                 6\n",
              "geomagnetic storm                         5\n",
              "rioting                                   5\n",
              "tsunami                                   5\n",
              "kidnapping / murder                       4\n",
              "transportation                            4\n",
              "infestation                               3\n",
              "disturbance / demonstrations              3\n",
              "3000                                      1\n",
              "10000                                     1\n",
              "1400                                      1\n",
              "4900                                      1\n",
              "3200                                      1\n",
              "65000                                     1\n",
              "500                                       1\n",
              "560                                       1\n",
              "pandemic                                  1\n",
              "0                                         1\n",
              "2000                                      1\n",
              "energy                                    1\n",
              "space debris                              1\n",
              "water                                     1\n",
              "communications                            1\n",
              "volcano                                   1\n",
              "chemical                                  1\n",
              "Name: EVENT TYPE, dtype: int64"
            ]
          },
          "metadata": {},
          "execution_count": 30
        }
      ]
    },
    {
      "cell_type": "markdown",
      "source": [
        "Se tienen algunos datos sin sentido como las categorías 3000, 10000, 1400, 4900, 3200, 65000, 500, 560, 0 Y 2000 por lo tanto se procede a cambiarlas y ponerlas como s.i. que significa sin información.\n",
        "\n",
        "Se tienen las categorías storms and severe thunderstorms, winter storm, hurricane / typhoon / tropical storm, storm - unspecified / other, geomagnetic storm que se refieren a tormentas, por lo cual se reunen en una como storm.\n",
        "\n",
        "Se tienen las categorías air, tornado, que se reunen en una como air.\n",
        "Se tienen las categorías wildfire, fire, que se reunen en una como fire.\n",
        "Se tienen las categorías vehicle, vehicle release, transportation que se reunen en una como vehicle.\n",
        "Se tienen las categorías rioting, disturbance / demonstrations que se reunen en una como disturbance / demonstrations.\n",
        "Se tienen las categorías pandemic, infestation, epidemic que se reunen en una como infestation/epidemic/pandemic.\n"
      ],
      "metadata": {
        "id": "qYIEESJW1eFx"
      }
    },
    {
      "cell_type": "code",
      "source": [
        "# remplazar las categorías en EVENT TYPE\n",
        "DESA['EVENT TYPE'] = DESA['EVENT TYPE'].replace(['3000', '10000', '1400', '4900', '3200', '65000', '500', '560', '0', '2000'], 'SIN')\n",
        "DESA['EVENT TYPE'] = DESA['EVENT TYPE'].replace(['storms and severe thunderstorms', 'winter storm', 'hurricane / typhoon / tropical storm', 'storm - unspecified / other', 'geomagnetic storm'], 'storm')\n",
        "DESA['EVENT TYPE'] = DESA['EVENT TYPE'].replace(['tornado'], 'air')\n",
        "DESA['EVENT TYPE'] = DESA['EVENT TYPE'].replace(['wildfire'], 'fire')\n",
        "DESA['EVENT TYPE'] = DESA['EVENT TYPE'].replace(['heat event','drought' ], 'head event/drought')\n",
        "DESA['EVENT TYPE'] = DESA['EVENT TYPE'].replace(['vehicle','vehicle release', 'transportation'], 'vehicle')\n",
        "DESA['EVENT TYPE'] = DESA['EVENT TYPE'].replace(['rioting'], 'disturbance / demonstrations')\n",
        "DESA['EVENT TYPE'] = DESA['EVENT TYPE'].replace(['pandemic', 'infestation', 'epidemic'], 'infestation/epidemic/pandemic')"
      ],
      "metadata": {
        "id": "NBZYcaNH1qY0"
      },
      "execution_count": 31,
      "outputs": []
    },
    {
      "cell_type": "code",
      "source": [
        "#Verificamos\n",
        "DESA['EVENT TYPE'].value_counts()"
      ],
      "metadata": {
        "colab": {
          "base_uri": "https://localhost:8080/"
        },
        "id": "huwWMawP2OnX",
        "outputId": "bb6e0621-6439-457c-d95a-6e992589f625"
      },
      "execution_count": 32,
      "outputs": [
        {
          "output_type": "execute_result",
          "data": {
            "text/plain": [
              "flood                            336\n",
              "storm                            308\n",
              "fire                             130\n",
              "non-residential                  105\n",
              "air                               98\n",
              "infestation/epidemic/pandemic     54\n",
              "head event/drought                54\n",
              "residential                       43\n",
              "marine                            41\n",
              "landslide                         40\n",
              "vehicle                           36\n",
              "rail                              31\n",
              "leak / spill release              23\n",
              "derailment release                18\n",
              "avalanche                         17\n",
              "earthquake                        12\n",
              "SIN                               10\n",
              "storm surge                       10\n",
              "cold event                        10\n",
              "marine release                     9\n",
              "bomb attacks                       9\n",
              "disturbance / demonstrations       8\n",
              "manufacturing / industry           7\n",
              "shootings                          6\n",
              "tsunami                            5\n",
              "kidnapping / murder                4\n",
              "volcano                            1\n",
              "water                              1\n",
              "space debris                       1\n",
              "energy                             1\n",
              "communications                     1\n",
              "chemical                           1\n",
              "Name: EVENT TYPE, dtype: int64"
            ]
          },
          "metadata": {},
          "execution_count": 32
        }
      ]
    },
    {
      "cell_type": "markdown",
      "source": [
        "# **Tratamiento de datos nulos**"
      ],
      "metadata": {
        "id": "6egbdG3fnMjp"
      }
    },
    {
      "cell_type": "code",
      "source": [
        "# validar cuales columnas tienen nulos en la base concatenada\n",
        "CONS.isnull().sum()"
      ],
      "metadata": {
        "colab": {
          "base_uri": "https://localhost:8080/"
        },
        "id": "j_PRho7-nRIm",
        "outputId": "4bfe10f8-a44a-4814-9dc0-d03b06740b10"
      },
      "execution_count": 33,
      "outputs": [
        {
          "output_type": "execute_result",
          "data": {
            "text/plain": [
              "YEAR                         0\n",
              "GEO                          0\n",
              "performance_of_system    24840\n",
              "Incidents&Casualties         0\n",
              "VALUE                     3308\n",
              "Status of casualty        2100\n",
              "Type of structure         2100\n",
              "dtype: int64"
            ]
          },
          "metadata": {},
          "execution_count": 33
        }
      ]
    },
    {
      "cell_type": "code",
      "source": [
        "#Para performance_of_system, value, status of casualty y type of structure agruparemos los nulos en \"n.i.\" que significa que no hay información para que queden allá todos los no identificados\n",
        "CONS['performance_of_system'] = CONS['performance_of_system'].fillna('SIN')\n",
        "CONS['VALUE'] = CONS['VALUE'].fillna('SIN')\n",
        "CONS['Status of casualty'] = CONS['Status of casualty'].fillna('SIN')\n",
        "CONS['Type of structure'] = CONS['Type of structure'].fillna('SIN')"
      ],
      "metadata": {
        "id": "wVGumqLqU5SM"
      },
      "execution_count": 34,
      "outputs": []
    },
    {
      "cell_type": "code",
      "source": [
        "# REVISAMOS LA BASE CONCATENADA\n",
        "CONS.isnull().sum()"
      ],
      "metadata": {
        "colab": {
          "base_uri": "https://localhost:8080/"
        },
        "id": "ui1wP1S5VX3B",
        "outputId": "5f84b3d1-2373-4aa5-a335-e58502aec96a"
      },
      "execution_count": 35,
      "outputs": [
        {
          "output_type": "execute_result",
          "data": {
            "text/plain": [
              "YEAR                     0\n",
              "GEO                      0\n",
              "performance_of_system    0\n",
              "Incidents&Casualties     0\n",
              "VALUE                    0\n",
              "Status of casualty       0\n",
              "Type of structure        0\n",
              "dtype: int64"
            ]
          },
          "metadata": {},
          "execution_count": 35
        }
      ]
    },
    {
      "cell_type": "code",
      "source": [
        "# validar cuales columnas tienen nulos en la base general de desastres\n",
        "DESA.isnull().sum()"
      ],
      "metadata": {
        "colab": {
          "base_uri": "https://localhost:8080/"
        },
        "id": "EOiO1-iHWNs5",
        "outputId": "8565e4f6-1a2d-4ae1-f704-315e222ac923"
      },
      "execution_count": 36,
      "outputs": [
        {
          "output_type": "execute_result",
          "data": {
            "text/plain": [
              "EVENT GROUP               19\n",
              "EVENT SUBGROUP            23\n",
              "EVENT TYPE                19\n",
              "EVENT START DATE          24\n",
              "FATALITIES               171\n",
              "INJURED / INFECTED       252\n",
              "ESTIMATED TOTAL COST     872\n",
              "NORMALIZED TOTAL COST      0\n",
              "MAGNITUDE                297\n",
              "PLACE                     13\n",
              "dtype: int64"
            ]
          },
          "metadata": {},
          "execution_count": 36
        }
      ]
    },
    {
      "cell_type": "markdown",
      "source": [
        "Se encuentran datos nulos en todas las columnas, los cuales se reemplazarán por n.i. que significa que no hay información."
      ],
      "metadata": {
        "id": "Z3x9N2PWWdY1"
      }
    },
    {
      "cell_type": "code",
      "source": [
        "DESA['EVENT GROUP'] = DESA['EVENT GROUP'].fillna('SIN')\n",
        "DESA['EVENT SUBGROUP'] = DESA['EVENT SUBGROUP'].fillna('SIN')\n",
        "DESA['EVENT TYPE'] = DESA['EVENT TYPE'].fillna('SIN')\n",
        "DESA['EVENT START DATE'] = DESA['EVENT START DATE'].fillna('SIN')\n",
        "DESA['FATALITIES'] = DESA['FATALITIES'].fillna('SIN')\n",
        "DESA['INJURED / INFECTED'] = DESA['INJURED / INFECTED'].fillna('SIN')\n",
        "DESA['MAGNITUDE'] = DESA['MAGNITUDE'].fillna('SIN')"
      ],
      "metadata": {
        "id": "-SxjsXzmWb40"
      },
      "execution_count": 37,
      "outputs": []
    },
    {
      "cell_type": "code",
      "source": [
        "# Revisamos esta base\n",
        "DESA.isnull().sum()"
      ],
      "metadata": {
        "colab": {
          "base_uri": "https://localhost:8080/"
        },
        "id": "MJieGm2-YTof",
        "outputId": "9ce286cc-12f9-40e1-e187-b2e55a3d30f4"
      },
      "execution_count": 38,
      "outputs": [
        {
          "output_type": "execute_result",
          "data": {
            "text/plain": [
              "EVENT GROUP                0\n",
              "EVENT SUBGROUP             0\n",
              "EVENT TYPE                 0\n",
              "EVENT START DATE           0\n",
              "FATALITIES                 0\n",
              "INJURED / INFECTED         0\n",
              "ESTIMATED TOTAL COST     872\n",
              "NORMALIZED TOTAL COST      0\n",
              "MAGNITUDE                  0\n",
              "PLACE                     13\n",
              "dtype: int64"
            ]
          },
          "metadata": {},
          "execution_count": 38
        }
      ]
    },
    {
      "cell_type": "markdown",
      "source": [
        "Ahora las bases está sin datos nulos."
      ],
      "metadata": {
        "id": "Ov8lo5fEV8-w"
      }
    },
    {
      "cell_type": "markdown",
      "source": [
        "# **Generación de bodegas de datos**\n",
        "\n",
        "\n",
        "Una vez depuradas las bases tenemos las siguientes dos bodegas de datos"
      ],
      "metadata": {
        "id": "F0A9Nec6nRcM"
      }
    },
    {
      "cell_type": "code",
      "source": [
        "DESA.head()"
      ],
      "metadata": {
        "id": "ahSC2_JAnVF8",
        "colab": {
          "base_uri": "https://localhost:8080/",
          "height": 206
        },
        "outputId": "08161c05-bf39-4e1e-e30e-37f00545a32f"
      },
      "execution_count": 39,
      "outputs": [
        {
          "output_type": "execute_result",
          "data": {
            "text/plain": [
              "  EVENT GROUP                 EVENT SUBGROUP                     EVENT TYPE  \\\n",
              "0  technology        transportation accident                         marine   \n",
              "1     natural  meteorological - hydrological                          storm   \n",
              "2  technology            hazardous chemicals           leak / spill release   \n",
              "3     natural                     biological  infestation/epidemic/pandemic   \n",
              "4     natural                     biological  infestation/epidemic/pandemic   \n",
              "\n",
              "         EVENT START DATE FATALITIES INJURED / INFECTED ESTIMATED TOTAL COST  \\\n",
              "0  11/17/1987 12:00:00 AM         34                0.0                  NaN   \n",
              "1   1/16/1998 12:00:00 AM         21                0.0          51093580000   \n",
              "2   9/28/2005 12:00:00 AM        SIN                SIN                00000   \n",
              "3          1/01/1918 0:00      50000          2000000.0                  NaN   \n",
              "4          8/01/2008 0:00         22               57.0                00000   \n",
              "\n",
              "  NORMALIZED TOTAL COST MAGNITUDE  \\\n",
              "0                   nan       0.0   \n",
              "1               3357738       0.0   \n",
              "2                    00       0.0   \n",
              "3                   nan       0.0   \n",
              "4                    00       0.0   \n",
              "\n",
              "                                               PLACE  \n",
              "0                            400 km off cape race nl  \n",
              "1  45 miles southwest of the islands of saint-pie...  \n",
              "2                                      abbotsford bc  \n",
              "3                                      across canada  \n",
              "4                                      across canada  "
            ],
            "text/html": [
              "\n",
              "  <div id=\"df-6a0dd2c5-1ca7-4864-af77-9295c7950dca\">\n",
              "    <div class=\"colab-df-container\">\n",
              "      <div>\n",
              "<style scoped>\n",
              "    .dataframe tbody tr th:only-of-type {\n",
              "        vertical-align: middle;\n",
              "    }\n",
              "\n",
              "    .dataframe tbody tr th {\n",
              "        vertical-align: top;\n",
              "    }\n",
              "\n",
              "    .dataframe thead th {\n",
              "        text-align: right;\n",
              "    }\n",
              "</style>\n",
              "<table border=\"1\" class=\"dataframe\">\n",
              "  <thead>\n",
              "    <tr style=\"text-align: right;\">\n",
              "      <th></th>\n",
              "      <th>EVENT GROUP</th>\n",
              "      <th>EVENT SUBGROUP</th>\n",
              "      <th>EVENT TYPE</th>\n",
              "      <th>EVENT START DATE</th>\n",
              "      <th>FATALITIES</th>\n",
              "      <th>INJURED / INFECTED</th>\n",
              "      <th>ESTIMATED TOTAL COST</th>\n",
              "      <th>NORMALIZED TOTAL COST</th>\n",
              "      <th>MAGNITUDE</th>\n",
              "      <th>PLACE</th>\n",
              "    </tr>\n",
              "  </thead>\n",
              "  <tbody>\n",
              "    <tr>\n",
              "      <th>0</th>\n",
              "      <td>technology</td>\n",
              "      <td>transportation accident</td>\n",
              "      <td>marine</td>\n",
              "      <td>11/17/1987 12:00:00 AM</td>\n",
              "      <td>34</td>\n",
              "      <td>0.0</td>\n",
              "      <td>NaN</td>\n",
              "      <td>nan</td>\n",
              "      <td>0.0</td>\n",
              "      <td>400 km off cape race nl</td>\n",
              "    </tr>\n",
              "    <tr>\n",
              "      <th>1</th>\n",
              "      <td>natural</td>\n",
              "      <td>meteorological - hydrological</td>\n",
              "      <td>storm</td>\n",
              "      <td>1/16/1998 12:00:00 AM</td>\n",
              "      <td>21</td>\n",
              "      <td>0.0</td>\n",
              "      <td>51093580000</td>\n",
              "      <td>3357738</td>\n",
              "      <td>0.0</td>\n",
              "      <td>45 miles southwest of the islands of saint-pie...</td>\n",
              "    </tr>\n",
              "    <tr>\n",
              "      <th>2</th>\n",
              "      <td>technology</td>\n",
              "      <td>hazardous chemicals</td>\n",
              "      <td>leak / spill release</td>\n",
              "      <td>9/28/2005 12:00:00 AM</td>\n",
              "      <td>SIN</td>\n",
              "      <td>SIN</td>\n",
              "      <td>00000</td>\n",
              "      <td>00</td>\n",
              "      <td>0.0</td>\n",
              "      <td>abbotsford bc</td>\n",
              "    </tr>\n",
              "    <tr>\n",
              "      <th>3</th>\n",
              "      <td>natural</td>\n",
              "      <td>biological</td>\n",
              "      <td>infestation/epidemic/pandemic</td>\n",
              "      <td>1/01/1918 0:00</td>\n",
              "      <td>50000</td>\n",
              "      <td>2000000.0</td>\n",
              "      <td>NaN</td>\n",
              "      <td>nan</td>\n",
              "      <td>0.0</td>\n",
              "      <td>across canada</td>\n",
              "    </tr>\n",
              "    <tr>\n",
              "      <th>4</th>\n",
              "      <td>natural</td>\n",
              "      <td>biological</td>\n",
              "      <td>infestation/epidemic/pandemic</td>\n",
              "      <td>8/01/2008 0:00</td>\n",
              "      <td>22</td>\n",
              "      <td>57.0</td>\n",
              "      <td>00000</td>\n",
              "      <td>00</td>\n",
              "      <td>0.0</td>\n",
              "      <td>across canada</td>\n",
              "    </tr>\n",
              "  </tbody>\n",
              "</table>\n",
              "</div>\n",
              "      <button class=\"colab-df-convert\" onclick=\"convertToInteractive('df-6a0dd2c5-1ca7-4864-af77-9295c7950dca')\"\n",
              "              title=\"Convert this dataframe to an interactive table.\"\n",
              "              style=\"display:none;\">\n",
              "        \n",
              "  <svg xmlns=\"http://www.w3.org/2000/svg\" height=\"24px\"viewBox=\"0 0 24 24\"\n",
              "       width=\"24px\">\n",
              "    <path d=\"M0 0h24v24H0V0z\" fill=\"none\"/>\n",
              "    <path d=\"M18.56 5.44l.94 2.06.94-2.06 2.06-.94-2.06-.94-.94-2.06-.94 2.06-2.06.94zm-11 1L8.5 8.5l.94-2.06 2.06-.94-2.06-.94L8.5 2.5l-.94 2.06-2.06.94zm10 10l.94 2.06.94-2.06 2.06-.94-2.06-.94-.94-2.06-.94 2.06-2.06.94z\"/><path d=\"M17.41 7.96l-1.37-1.37c-.4-.4-.92-.59-1.43-.59-.52 0-1.04.2-1.43.59L10.3 9.45l-7.72 7.72c-.78.78-.78 2.05 0 2.83L4 21.41c.39.39.9.59 1.41.59.51 0 1.02-.2 1.41-.59l7.78-7.78 2.81-2.81c.8-.78.8-2.07 0-2.86zM5.41 20L4 18.59l7.72-7.72 1.47 1.35L5.41 20z\"/>\n",
              "  </svg>\n",
              "      </button>\n",
              "      \n",
              "  <style>\n",
              "    .colab-df-container {\n",
              "      display:flex;\n",
              "      flex-wrap:wrap;\n",
              "      gap: 12px;\n",
              "    }\n",
              "\n",
              "    .colab-df-convert {\n",
              "      background-color: #E8F0FE;\n",
              "      border: none;\n",
              "      border-radius: 50%;\n",
              "      cursor: pointer;\n",
              "      display: none;\n",
              "      fill: #1967D2;\n",
              "      height: 32px;\n",
              "      padding: 0 0 0 0;\n",
              "      width: 32px;\n",
              "    }\n",
              "\n",
              "    .colab-df-convert:hover {\n",
              "      background-color: #E2EBFA;\n",
              "      box-shadow: 0px 1px 2px rgba(60, 64, 67, 0.3), 0px 1px 3px 1px rgba(60, 64, 67, 0.15);\n",
              "      fill: #174EA6;\n",
              "    }\n",
              "\n",
              "    [theme=dark] .colab-df-convert {\n",
              "      background-color: #3B4455;\n",
              "      fill: #D2E3FC;\n",
              "    }\n",
              "\n",
              "    [theme=dark] .colab-df-convert:hover {\n",
              "      background-color: #434B5C;\n",
              "      box-shadow: 0px 1px 3px 1px rgba(0, 0, 0, 0.15);\n",
              "      filter: drop-shadow(0px 1px 2px rgba(0, 0, 0, 0.3));\n",
              "      fill: #FFFFFF;\n",
              "    }\n",
              "  </style>\n",
              "\n",
              "      <script>\n",
              "        const buttonEl =\n",
              "          document.querySelector('#df-6a0dd2c5-1ca7-4864-af77-9295c7950dca button.colab-df-convert');\n",
              "        buttonEl.style.display =\n",
              "          google.colab.kernel.accessAllowed ? 'block' : 'none';\n",
              "\n",
              "        async function convertToInteractive(key) {\n",
              "          const element = document.querySelector('#df-6a0dd2c5-1ca7-4864-af77-9295c7950dca');\n",
              "          const dataTable =\n",
              "            await google.colab.kernel.invokeFunction('convertToInteractive',\n",
              "                                                     [key], {});\n",
              "          if (!dataTable) return;\n",
              "\n",
              "          const docLinkHtml = 'Like what you see? Visit the ' +\n",
              "            '<a target=\"_blank\" href=https://colab.research.google.com/notebooks/data_table.ipynb>data table notebook</a>'\n",
              "            + ' to learn more about interactive tables.';\n",
              "          element.innerHTML = '';\n",
              "          dataTable['output_type'] = 'display_data';\n",
              "          await google.colab.output.renderOutput(dataTable, element);\n",
              "          const docLink = document.createElement('div');\n",
              "          docLink.innerHTML = docLinkHtml;\n",
              "          element.appendChild(docLink);\n",
              "        }\n",
              "      </script>\n",
              "    </div>\n",
              "  </div>\n",
              "  "
            ]
          },
          "metadata": {},
          "execution_count": 39
        }
      ]
    },
    {
      "cell_type": "code",
      "source": [
        "CONS.head()"
      ],
      "metadata": {
        "colab": {
          "base_uri": "https://localhost:8080/",
          "height": 206
        },
        "id": "kodfzaaEwzPS",
        "outputId": "d5153dc8-82c0-403f-ad77-14d7d96ada23"
      },
      "execution_count": 40,
      "outputs": [
        {
          "output_type": "execute_result",
          "data": {
            "text/plain": [
              "   YEAR     GEO    performance_of_system  \\\n",
              "0  2005  canada  total residential fires   \n",
              "1  2005  canada  total residential fires   \n",
              "2  2005  canada  total residential fires   \n",
              "3  2005  canada           no smoke alarm   \n",
              "4  2005  canada           no smoke alarm   \n",
              "\n",
              "                            Incidents&Casualties    VALUE Status of casualty  \\\n",
              "0         fire incidents, residential properties  13619.0                SIN   \n",
              "1    fire-related deaths, residential properties    144.0                SIN   \n",
              "2  fire-related injuries, residential properties    998.0                SIN   \n",
              "3         fire incidents, residential properties   1183.0                SIN   \n",
              "4    fire-related deaths, residential properties     22.0                SIN   \n",
              "\n",
              "  Type of structure  \n",
              "0               SIN  \n",
              "1               SIN  \n",
              "2               SIN  \n",
              "3               SIN  \n",
              "4               SIN  "
            ],
            "text/html": [
              "\n",
              "  <div id=\"df-e437a5f2-41bd-41c9-8ca2-2c4f4940ea77\">\n",
              "    <div class=\"colab-df-container\">\n",
              "      <div>\n",
              "<style scoped>\n",
              "    .dataframe tbody tr th:only-of-type {\n",
              "        vertical-align: middle;\n",
              "    }\n",
              "\n",
              "    .dataframe tbody tr th {\n",
              "        vertical-align: top;\n",
              "    }\n",
              "\n",
              "    .dataframe thead th {\n",
              "        text-align: right;\n",
              "    }\n",
              "</style>\n",
              "<table border=\"1\" class=\"dataframe\">\n",
              "  <thead>\n",
              "    <tr style=\"text-align: right;\">\n",
              "      <th></th>\n",
              "      <th>YEAR</th>\n",
              "      <th>GEO</th>\n",
              "      <th>performance_of_system</th>\n",
              "      <th>Incidents&amp;Casualties</th>\n",
              "      <th>VALUE</th>\n",
              "      <th>Status of casualty</th>\n",
              "      <th>Type of structure</th>\n",
              "    </tr>\n",
              "  </thead>\n",
              "  <tbody>\n",
              "    <tr>\n",
              "      <th>0</th>\n",
              "      <td>2005</td>\n",
              "      <td>canada</td>\n",
              "      <td>total residential fires</td>\n",
              "      <td>fire incidents, residential properties</td>\n",
              "      <td>13619.0</td>\n",
              "      <td>SIN</td>\n",
              "      <td>SIN</td>\n",
              "    </tr>\n",
              "    <tr>\n",
              "      <th>1</th>\n",
              "      <td>2005</td>\n",
              "      <td>canada</td>\n",
              "      <td>total residential fires</td>\n",
              "      <td>fire-related deaths, residential properties</td>\n",
              "      <td>144.0</td>\n",
              "      <td>SIN</td>\n",
              "      <td>SIN</td>\n",
              "    </tr>\n",
              "    <tr>\n",
              "      <th>2</th>\n",
              "      <td>2005</td>\n",
              "      <td>canada</td>\n",
              "      <td>total residential fires</td>\n",
              "      <td>fire-related injuries, residential properties</td>\n",
              "      <td>998.0</td>\n",
              "      <td>SIN</td>\n",
              "      <td>SIN</td>\n",
              "    </tr>\n",
              "    <tr>\n",
              "      <th>3</th>\n",
              "      <td>2005</td>\n",
              "      <td>canada</td>\n",
              "      <td>no smoke alarm</td>\n",
              "      <td>fire incidents, residential properties</td>\n",
              "      <td>1183.0</td>\n",
              "      <td>SIN</td>\n",
              "      <td>SIN</td>\n",
              "    </tr>\n",
              "    <tr>\n",
              "      <th>4</th>\n",
              "      <td>2005</td>\n",
              "      <td>canada</td>\n",
              "      <td>no smoke alarm</td>\n",
              "      <td>fire-related deaths, residential properties</td>\n",
              "      <td>22.0</td>\n",
              "      <td>SIN</td>\n",
              "      <td>SIN</td>\n",
              "    </tr>\n",
              "  </tbody>\n",
              "</table>\n",
              "</div>\n",
              "      <button class=\"colab-df-convert\" onclick=\"convertToInteractive('df-e437a5f2-41bd-41c9-8ca2-2c4f4940ea77')\"\n",
              "              title=\"Convert this dataframe to an interactive table.\"\n",
              "              style=\"display:none;\">\n",
              "        \n",
              "  <svg xmlns=\"http://www.w3.org/2000/svg\" height=\"24px\"viewBox=\"0 0 24 24\"\n",
              "       width=\"24px\">\n",
              "    <path d=\"M0 0h24v24H0V0z\" fill=\"none\"/>\n",
              "    <path d=\"M18.56 5.44l.94 2.06.94-2.06 2.06-.94-2.06-.94-.94-2.06-.94 2.06-2.06.94zm-11 1L8.5 8.5l.94-2.06 2.06-.94-2.06-.94L8.5 2.5l-.94 2.06-2.06.94zm10 10l.94 2.06.94-2.06 2.06-.94-2.06-.94-.94-2.06-.94 2.06-2.06.94z\"/><path d=\"M17.41 7.96l-1.37-1.37c-.4-.4-.92-.59-1.43-.59-.52 0-1.04.2-1.43.59L10.3 9.45l-7.72 7.72c-.78.78-.78 2.05 0 2.83L4 21.41c.39.39.9.59 1.41.59.51 0 1.02-.2 1.41-.59l7.78-7.78 2.81-2.81c.8-.78.8-2.07 0-2.86zM5.41 20L4 18.59l7.72-7.72 1.47 1.35L5.41 20z\"/>\n",
              "  </svg>\n",
              "      </button>\n",
              "      \n",
              "  <style>\n",
              "    .colab-df-container {\n",
              "      display:flex;\n",
              "      flex-wrap:wrap;\n",
              "      gap: 12px;\n",
              "    }\n",
              "\n",
              "    .colab-df-convert {\n",
              "      background-color: #E8F0FE;\n",
              "      border: none;\n",
              "      border-radius: 50%;\n",
              "      cursor: pointer;\n",
              "      display: none;\n",
              "      fill: #1967D2;\n",
              "      height: 32px;\n",
              "      padding: 0 0 0 0;\n",
              "      width: 32px;\n",
              "    }\n",
              "\n",
              "    .colab-df-convert:hover {\n",
              "      background-color: #E2EBFA;\n",
              "      box-shadow: 0px 1px 2px rgba(60, 64, 67, 0.3), 0px 1px 3px 1px rgba(60, 64, 67, 0.15);\n",
              "      fill: #174EA6;\n",
              "    }\n",
              "\n",
              "    [theme=dark] .colab-df-convert {\n",
              "      background-color: #3B4455;\n",
              "      fill: #D2E3FC;\n",
              "    }\n",
              "\n",
              "    [theme=dark] .colab-df-convert:hover {\n",
              "      background-color: #434B5C;\n",
              "      box-shadow: 0px 1px 3px 1px rgba(0, 0, 0, 0.15);\n",
              "      filter: drop-shadow(0px 1px 2px rgba(0, 0, 0, 0.3));\n",
              "      fill: #FFFFFF;\n",
              "    }\n",
              "  </style>\n",
              "\n",
              "      <script>\n",
              "        const buttonEl =\n",
              "          document.querySelector('#df-e437a5f2-41bd-41c9-8ca2-2c4f4940ea77 button.colab-df-convert');\n",
              "        buttonEl.style.display =\n",
              "          google.colab.kernel.accessAllowed ? 'block' : 'none';\n",
              "\n",
              "        async function convertToInteractive(key) {\n",
              "          const element = document.querySelector('#df-e437a5f2-41bd-41c9-8ca2-2c4f4940ea77');\n",
              "          const dataTable =\n",
              "            await google.colab.kernel.invokeFunction('convertToInteractive',\n",
              "                                                     [key], {});\n",
              "          if (!dataTable) return;\n",
              "\n",
              "          const docLinkHtml = 'Like what you see? Visit the ' +\n",
              "            '<a target=\"_blank\" href=https://colab.research.google.com/notebooks/data_table.ipynb>data table notebook</a>'\n",
              "            + ' to learn more about interactive tables.';\n",
              "          element.innerHTML = '';\n",
              "          dataTable['output_type'] = 'display_data';\n",
              "          await google.colab.output.renderOutput(dataTable, element);\n",
              "          const docLink = document.createElement('div');\n",
              "          docLink.innerHTML = docLinkHtml;\n",
              "          element.appendChild(docLink);\n",
              "        }\n",
              "      </script>\n",
              "    </div>\n",
              "  </div>\n",
              "  "
            ]
          },
          "metadata": {},
          "execution_count": 40
        }
      ]
    },
    {
      "cell_type": "markdown",
      "source": [
        "# **Transformaciones: Aplicación de funciones para la creación de nuevas variables**"
      ],
      "metadata": {
        "id": "NgZOp6nMnVN-"
      }
    },
    {
      "cell_type": "markdown",
      "source": [
        "Aquí ponemos extraer el año, creando una nueva variable en la base \"DESA\" con la variable EVENT START DATE"
      ],
      "metadata": {
        "id": "ynrIr3VfBJIe"
      }
    },
    {
      "cell_type": "code",
      "source": [
        "DESA.columns"
      ],
      "metadata": {
        "id": "JX4xmSwLnn_Y",
        "colab": {
          "base_uri": "https://localhost:8080/"
        },
        "outputId": "9f6014bc-5c7e-4132-8b39-1f4dfb908760"
      },
      "execution_count": 41,
      "outputs": [
        {
          "output_type": "execute_result",
          "data": {
            "text/plain": [
              "Index(['EVENT GROUP', 'EVENT SUBGROUP', 'EVENT TYPE', 'EVENT START DATE',\n",
              "       'FATALITIES', 'INJURED / INFECTED', 'ESTIMATED TOTAL COST',\n",
              "       'NORMALIZED TOTAL COST', 'MAGNITUDE', 'PLACE'],\n",
              "      dtype='object')"
            ]
          },
          "metadata": {},
          "execution_count": 41
        }
      ]
    },
    {
      "cell_type": "code",
      "source": [
        "#Convertimos la columna \"EVENT START DATE\" a formato de datetime\n",
        "DESA['EVENT START DATE']=pd.to_datetime(DESA['EVENT START DATE'],errors='coerce')\n",
        "\n",
        "# Creamos las nuevas variables YEAR , MONTH , DAY \n",
        "DESA.insert(0,'YEAR', DESA.loc[DESA['EVENT START DATE'].notnull(), 'EVENT START DATE'].dt.year)\n",
        "DESA.insert(1,'MONTH', DESA.loc[DESA['EVENT START DATE'].notnull(), 'EVENT START DATE'].dt.month)\n",
        "DESA.insert(2,'DAY', DESA.loc[DESA['EVENT START DATE'].notnull(), 'EVENT START DATE'].dt.day)\n",
        "\n",
        "#Las columnas YEAR , MONTH , DAY quedaron como flotantes, por haber valores null en las fechas. Convertimos los valores null de estos nuevos campos al valor entero 0.\n",
        "DESA['YEAR']=DESA['YEAR'].fillna(0).astype(int)\n",
        "DESA['MONTH']=DESA['MONTH'].fillna(0).astype(int)\n",
        "DESA['DAY']=DESA['DAY'].fillna(0).astype(int)\n",
        "\n",
        "#Ahora convertimos los campos a valor entero.\n",
        "DESA['YEAR']=DESA['YEAR'].astype(int)\n",
        "DESA['MONTH']=DESA['MONTH'].astype(int)\n",
        "DESA['DAY']=DESA['DAY'].astype(int)\n",
        "\n",
        "#Queremos que en el campo MONTH aparezca el nombre del mes y no un numero entero. \n",
        "import calendar\n",
        "DESA['MONTH'] = DESA['MONTH'].apply(lambda x: calendar.month_abbr[x] if x != 0 else '')\n",
        "\n",
        "DESA.head()"
      ],
      "metadata": {
        "colab": {
          "base_uri": "https://localhost:8080/",
          "height": 206
        },
        "id": "eRkOMLIXw-Gs",
        "outputId": "c7df8f89-49d3-4a88-815c-1b4010012c47"
      },
      "execution_count": 42,
      "outputs": [
        {
          "output_type": "execute_result",
          "data": {
            "text/plain": [
              "   YEAR MONTH  DAY EVENT GROUP                 EVENT SUBGROUP  \\\n",
              "0  1987   Nov   17  technology        transportation accident   \n",
              "1  1998   Jan   16     natural  meteorological - hydrological   \n",
              "2  2005   Sep   28  technology            hazardous chemicals   \n",
              "3  1918   Jan    1     natural                     biological   \n",
              "4  2008   Aug    1     natural                     biological   \n",
              "\n",
              "                      EVENT TYPE EVENT START DATE FATALITIES  \\\n",
              "0                         marine       1987-11-17         34   \n",
              "1                          storm       1998-01-16         21   \n",
              "2           leak / spill release       2005-09-28        SIN   \n",
              "3  infestation/epidemic/pandemic       1918-01-01      50000   \n",
              "4  infestation/epidemic/pandemic       2008-08-01         22   \n",
              "\n",
              "  INJURED / INFECTED ESTIMATED TOTAL COST NORMALIZED TOTAL COST MAGNITUDE  \\\n",
              "0                0.0                  NaN                   nan       0.0   \n",
              "1                0.0          51093580000               3357738       0.0   \n",
              "2                SIN                00000                    00       0.0   \n",
              "3          2000000.0                  NaN                   nan       0.0   \n",
              "4               57.0                00000                    00       0.0   \n",
              "\n",
              "                                               PLACE  \n",
              "0                            400 km off cape race nl  \n",
              "1  45 miles southwest of the islands of saint-pie...  \n",
              "2                                      abbotsford bc  \n",
              "3                                      across canada  \n",
              "4                                      across canada  "
            ],
            "text/html": [
              "\n",
              "  <div id=\"df-aefeeee0-aa50-4d93-8765-774eb0ce7091\">\n",
              "    <div class=\"colab-df-container\">\n",
              "      <div>\n",
              "<style scoped>\n",
              "    .dataframe tbody tr th:only-of-type {\n",
              "        vertical-align: middle;\n",
              "    }\n",
              "\n",
              "    .dataframe tbody tr th {\n",
              "        vertical-align: top;\n",
              "    }\n",
              "\n",
              "    .dataframe thead th {\n",
              "        text-align: right;\n",
              "    }\n",
              "</style>\n",
              "<table border=\"1\" class=\"dataframe\">\n",
              "  <thead>\n",
              "    <tr style=\"text-align: right;\">\n",
              "      <th></th>\n",
              "      <th>YEAR</th>\n",
              "      <th>MONTH</th>\n",
              "      <th>DAY</th>\n",
              "      <th>EVENT GROUP</th>\n",
              "      <th>EVENT SUBGROUP</th>\n",
              "      <th>EVENT TYPE</th>\n",
              "      <th>EVENT START DATE</th>\n",
              "      <th>FATALITIES</th>\n",
              "      <th>INJURED / INFECTED</th>\n",
              "      <th>ESTIMATED TOTAL COST</th>\n",
              "      <th>NORMALIZED TOTAL COST</th>\n",
              "      <th>MAGNITUDE</th>\n",
              "      <th>PLACE</th>\n",
              "    </tr>\n",
              "  </thead>\n",
              "  <tbody>\n",
              "    <tr>\n",
              "      <th>0</th>\n",
              "      <td>1987</td>\n",
              "      <td>Nov</td>\n",
              "      <td>17</td>\n",
              "      <td>technology</td>\n",
              "      <td>transportation accident</td>\n",
              "      <td>marine</td>\n",
              "      <td>1987-11-17</td>\n",
              "      <td>34</td>\n",
              "      <td>0.0</td>\n",
              "      <td>NaN</td>\n",
              "      <td>nan</td>\n",
              "      <td>0.0</td>\n",
              "      <td>400 km off cape race nl</td>\n",
              "    </tr>\n",
              "    <tr>\n",
              "      <th>1</th>\n",
              "      <td>1998</td>\n",
              "      <td>Jan</td>\n",
              "      <td>16</td>\n",
              "      <td>natural</td>\n",
              "      <td>meteorological - hydrological</td>\n",
              "      <td>storm</td>\n",
              "      <td>1998-01-16</td>\n",
              "      <td>21</td>\n",
              "      <td>0.0</td>\n",
              "      <td>51093580000</td>\n",
              "      <td>3357738</td>\n",
              "      <td>0.0</td>\n",
              "      <td>45 miles southwest of the islands of saint-pie...</td>\n",
              "    </tr>\n",
              "    <tr>\n",
              "      <th>2</th>\n",
              "      <td>2005</td>\n",
              "      <td>Sep</td>\n",
              "      <td>28</td>\n",
              "      <td>technology</td>\n",
              "      <td>hazardous chemicals</td>\n",
              "      <td>leak / spill release</td>\n",
              "      <td>2005-09-28</td>\n",
              "      <td>SIN</td>\n",
              "      <td>SIN</td>\n",
              "      <td>00000</td>\n",
              "      <td>00</td>\n",
              "      <td>0.0</td>\n",
              "      <td>abbotsford bc</td>\n",
              "    </tr>\n",
              "    <tr>\n",
              "      <th>3</th>\n",
              "      <td>1918</td>\n",
              "      <td>Jan</td>\n",
              "      <td>1</td>\n",
              "      <td>natural</td>\n",
              "      <td>biological</td>\n",
              "      <td>infestation/epidemic/pandemic</td>\n",
              "      <td>1918-01-01</td>\n",
              "      <td>50000</td>\n",
              "      <td>2000000.0</td>\n",
              "      <td>NaN</td>\n",
              "      <td>nan</td>\n",
              "      <td>0.0</td>\n",
              "      <td>across canada</td>\n",
              "    </tr>\n",
              "    <tr>\n",
              "      <th>4</th>\n",
              "      <td>2008</td>\n",
              "      <td>Aug</td>\n",
              "      <td>1</td>\n",
              "      <td>natural</td>\n",
              "      <td>biological</td>\n",
              "      <td>infestation/epidemic/pandemic</td>\n",
              "      <td>2008-08-01</td>\n",
              "      <td>22</td>\n",
              "      <td>57.0</td>\n",
              "      <td>00000</td>\n",
              "      <td>00</td>\n",
              "      <td>0.0</td>\n",
              "      <td>across canada</td>\n",
              "    </tr>\n",
              "  </tbody>\n",
              "</table>\n",
              "</div>\n",
              "      <button class=\"colab-df-convert\" onclick=\"convertToInteractive('df-aefeeee0-aa50-4d93-8765-774eb0ce7091')\"\n",
              "              title=\"Convert this dataframe to an interactive table.\"\n",
              "              style=\"display:none;\">\n",
              "        \n",
              "  <svg xmlns=\"http://www.w3.org/2000/svg\" height=\"24px\"viewBox=\"0 0 24 24\"\n",
              "       width=\"24px\">\n",
              "    <path d=\"M0 0h24v24H0V0z\" fill=\"none\"/>\n",
              "    <path d=\"M18.56 5.44l.94 2.06.94-2.06 2.06-.94-2.06-.94-.94-2.06-.94 2.06-2.06.94zm-11 1L8.5 8.5l.94-2.06 2.06-.94-2.06-.94L8.5 2.5l-.94 2.06-2.06.94zm10 10l.94 2.06.94-2.06 2.06-.94-2.06-.94-.94-2.06-.94 2.06-2.06.94z\"/><path d=\"M17.41 7.96l-1.37-1.37c-.4-.4-.92-.59-1.43-.59-.52 0-1.04.2-1.43.59L10.3 9.45l-7.72 7.72c-.78.78-.78 2.05 0 2.83L4 21.41c.39.39.9.59 1.41.59.51 0 1.02-.2 1.41-.59l7.78-7.78 2.81-2.81c.8-.78.8-2.07 0-2.86zM5.41 20L4 18.59l7.72-7.72 1.47 1.35L5.41 20z\"/>\n",
              "  </svg>\n",
              "      </button>\n",
              "      \n",
              "  <style>\n",
              "    .colab-df-container {\n",
              "      display:flex;\n",
              "      flex-wrap:wrap;\n",
              "      gap: 12px;\n",
              "    }\n",
              "\n",
              "    .colab-df-convert {\n",
              "      background-color: #E8F0FE;\n",
              "      border: none;\n",
              "      border-radius: 50%;\n",
              "      cursor: pointer;\n",
              "      display: none;\n",
              "      fill: #1967D2;\n",
              "      height: 32px;\n",
              "      padding: 0 0 0 0;\n",
              "      width: 32px;\n",
              "    }\n",
              "\n",
              "    .colab-df-convert:hover {\n",
              "      background-color: #E2EBFA;\n",
              "      box-shadow: 0px 1px 2px rgba(60, 64, 67, 0.3), 0px 1px 3px 1px rgba(60, 64, 67, 0.15);\n",
              "      fill: #174EA6;\n",
              "    }\n",
              "\n",
              "    [theme=dark] .colab-df-convert {\n",
              "      background-color: #3B4455;\n",
              "      fill: #D2E3FC;\n",
              "    }\n",
              "\n",
              "    [theme=dark] .colab-df-convert:hover {\n",
              "      background-color: #434B5C;\n",
              "      box-shadow: 0px 1px 3px 1px rgba(0, 0, 0, 0.15);\n",
              "      filter: drop-shadow(0px 1px 2px rgba(0, 0, 0, 0.3));\n",
              "      fill: #FFFFFF;\n",
              "    }\n",
              "  </style>\n",
              "\n",
              "      <script>\n",
              "        const buttonEl =\n",
              "          document.querySelector('#df-aefeeee0-aa50-4d93-8765-774eb0ce7091 button.colab-df-convert');\n",
              "        buttonEl.style.display =\n",
              "          google.colab.kernel.accessAllowed ? 'block' : 'none';\n",
              "\n",
              "        async function convertToInteractive(key) {\n",
              "          const element = document.querySelector('#df-aefeeee0-aa50-4d93-8765-774eb0ce7091');\n",
              "          const dataTable =\n",
              "            await google.colab.kernel.invokeFunction('convertToInteractive',\n",
              "                                                     [key], {});\n",
              "          if (!dataTable) return;\n",
              "\n",
              "          const docLinkHtml = 'Like what you see? Visit the ' +\n",
              "            '<a target=\"_blank\" href=https://colab.research.google.com/notebooks/data_table.ipynb>data table notebook</a>'\n",
              "            + ' to learn more about interactive tables.';\n",
              "          element.innerHTML = '';\n",
              "          dataTable['output_type'] = 'display_data';\n",
              "          await google.colab.output.renderOutput(dataTable, element);\n",
              "          const docLink = document.createElement('div');\n",
              "          docLink.innerHTML = docLinkHtml;\n",
              "          element.appendChild(docLink);\n",
              "        }\n",
              "      </script>\n",
              "    </div>\n",
              "  </div>\n",
              "  "
            ]
          },
          "metadata": {},
          "execution_count": 42
        }
      ]
    },
    {
      "cell_type": "code",
      "source": [
        "#EVENT START DATE contiene valores nulos, ya que fue una columna que fue desglosada, procedemos a eliminarla.\n",
        "DESA = DESA.drop('EVENT START DATE', axis=1)\n",
        "DESA.columns"
      ],
      "metadata": {
        "colab": {
          "base_uri": "https://localhost:8080/"
        },
        "id": "vZNLF-FoxbDk",
        "outputId": "7a618aac-709d-4145-99bb-27ee1d4cc884"
      },
      "execution_count": 43,
      "outputs": [
        {
          "output_type": "execute_result",
          "data": {
            "text/plain": [
              "Index(['YEAR', 'MONTH', 'DAY', 'EVENT GROUP', 'EVENT SUBGROUP', 'EVENT TYPE',\n",
              "       'FATALITIES', 'INJURED / INFECTED', 'ESTIMATED TOTAL COST',\n",
              "       'NORMALIZED TOTAL COST', 'MAGNITUDE', 'PLACE'],\n",
              "      dtype='object')"
            ]
          },
          "metadata": {},
          "execution_count": 43
        }
      ]
    },
    {
      "cell_type": "markdown",
      "source": [
        "# **Análisis descriptivo sobre las bases individuales y su relación: Plantearse 9 preguntas que le ayuden a tener un entendimiento de la información recolectada y le permitan estar más cerca de concluir sobre el tema analizado. Dar  respuesta a estas preguntas a través de tablas y gráficos.**"
      ],
      "metadata": {
        "id": "JGHv9m0anoGY"
      }
    },
    {
      "cell_type": "markdown",
      "source": [
        "# 1. ¿Cuál es el costo promedio de la normalización por tipo de desastre ?"
      ],
      "metadata": {
        "id": "DhA6MjGIc3tE"
      }
    },
    {
      "cell_type": "code",
      "source": [
        "import pandas as pd\n",
        "import numpy as np\n",
        "\n",
        "#Convertimos a tipo string y removemos separador de miles y la convertimos a tipo numerico haciendo coerción en los errores para que los valores no numéricos se conviertan en NaN.\n",
        "DESA['NORMALIZED TOTAL COST'] = DESA['NORMALIZED TOTAL COST'].astype(str)\n",
        "DESA['NORMALIZED TOTAL COST'] = DESA['NORMALIZED TOTAL COST'].str.replace('.', '')\n",
        "DESA['NORMALIZED TOTAL COST'] = pd.to_numeric(DESA['NORMALIZED TOTAL COST'], errors='coerce')\n",
        "\n",
        "#Calculamos ahora si el costo promedio por tipo de desastre, teniendo en cuenta solo los valores no nulos y los ordenamos ascendentemente\n",
        "costo_promedio = DESA.groupby('EVENT TYPE')['NORMALIZED TOTAL COST'].mean()\n",
        "costo_promedio_ordenado = costo_promedio.sort_values(ascending=False)\n",
        "\n",
        "# Como da un número tan grande, entonces formateamos el costo promedio en formato alargado y sin decimales con símbolo de dólar y separador de miles para que se entienda mejor\n",
        "costo_promedio_formateado = costo_promedio_ordenado.apply(lambda x: \"${:,.0f}\".format(x))\n",
        "\n",
        "# Crear una tabla a partir del costo promedio ordenado y formateado para que se pueda visualizar mejor\n",
        "#tabla_costo_promedio = pd.DataFrame({'EVENT TYPE': costo_promedio_ordenado.index, 'Costo Promedio': costo_promedio_formateado}).reset_index()\n",
        "tabla_costo_promedio = pd.DataFrame({'Costo Promedio': costo_promedio_formateado}).reset_index()\n",
        "tabla_costo_promedio"
      ],
      "metadata": {
        "id": "GF-5FilkhG-N",
        "colab": {
          "base_uri": "https://localhost:8080/",
          "height": 1000
        },
        "outputId": "49f96a1a-3d61-4ad4-9494-adddc0c72ef3"
      },
      "execution_count": 44,
      "outputs": [
        {
          "output_type": "stream",
          "name": "stderr",
          "text": [
            "<ipython-input-44-a09a51d57453>:6: FutureWarning: The default value of regex will change from True to False in a future version. In addition, single character regular expressions will *not* be treated as literal strings when regex=True.\n",
            "  DESA['NORMALIZED TOTAL COST'] = DESA['NORMALIZED TOTAL COST'].str.replace('.', '')\n"
          ]
        },
        {
          "output_type": "execute_result",
          "data": {
            "text/plain": [
              "                       EVENT TYPE Costo Promedio\n",
              "0                      earthquake    $84,126,703\n",
              "1                            fire    $39,595,179\n",
              "2                           storm    $37,614,175\n",
              "3                           flood    $29,566,321\n",
              "4              head event/drought    $28,718,452\n",
              "5                             air    $26,065,869\n",
              "6                     storm surge     $4,619,269\n",
              "7   infestation/epidemic/pandemic     $2,746,491\n",
              "8                       landslide     $2,537,194\n",
              "9                       avalanche     $2,192,950\n",
              "10                     cold event       $630,370\n",
              "11   disturbance / demonstrations             $0\n",
              "12             derailment release             $0\n",
              "13            kidnapping / murder             $0\n",
              "14           leak / spill release             $0\n",
              "15       manufacturing / industry             $0\n",
              "16                non-residential             $0\n",
              "17                           rail             $0\n",
              "18                    residential             $0\n",
              "19                      shootings             $0\n",
              "20                   bomb attacks             $0\n",
              "21                        tsunami             $0\n",
              "22                        vehicle             $0\n",
              "23                        volcano             $0\n",
              "24                          water             $0\n",
              "25                            SIN           $nan\n",
              "26                       chemical           $nan\n",
              "27                 communications           $nan\n",
              "28                         energy           $nan\n",
              "29                         marine           $nan\n",
              "30                 marine release           $nan\n",
              "31                   space debris           $nan"
            ],
            "text/html": [
              "\n",
              "  <div id=\"df-34ead8bc-7468-4369-bc92-2a73ab453686\">\n",
              "    <div class=\"colab-df-container\">\n",
              "      <div>\n",
              "<style scoped>\n",
              "    .dataframe tbody tr th:only-of-type {\n",
              "        vertical-align: middle;\n",
              "    }\n",
              "\n",
              "    .dataframe tbody tr th {\n",
              "        vertical-align: top;\n",
              "    }\n",
              "\n",
              "    .dataframe thead th {\n",
              "        text-align: right;\n",
              "    }\n",
              "</style>\n",
              "<table border=\"1\" class=\"dataframe\">\n",
              "  <thead>\n",
              "    <tr style=\"text-align: right;\">\n",
              "      <th></th>\n",
              "      <th>EVENT TYPE</th>\n",
              "      <th>Costo Promedio</th>\n",
              "    </tr>\n",
              "  </thead>\n",
              "  <tbody>\n",
              "    <tr>\n",
              "      <th>0</th>\n",
              "      <td>earthquake</td>\n",
              "      <td>$84,126,703</td>\n",
              "    </tr>\n",
              "    <tr>\n",
              "      <th>1</th>\n",
              "      <td>fire</td>\n",
              "      <td>$39,595,179</td>\n",
              "    </tr>\n",
              "    <tr>\n",
              "      <th>2</th>\n",
              "      <td>storm</td>\n",
              "      <td>$37,614,175</td>\n",
              "    </tr>\n",
              "    <tr>\n",
              "      <th>3</th>\n",
              "      <td>flood</td>\n",
              "      <td>$29,566,321</td>\n",
              "    </tr>\n",
              "    <tr>\n",
              "      <th>4</th>\n",
              "      <td>head event/drought</td>\n",
              "      <td>$28,718,452</td>\n",
              "    </tr>\n",
              "    <tr>\n",
              "      <th>5</th>\n",
              "      <td>air</td>\n",
              "      <td>$26,065,869</td>\n",
              "    </tr>\n",
              "    <tr>\n",
              "      <th>6</th>\n",
              "      <td>storm surge</td>\n",
              "      <td>$4,619,269</td>\n",
              "    </tr>\n",
              "    <tr>\n",
              "      <th>7</th>\n",
              "      <td>infestation/epidemic/pandemic</td>\n",
              "      <td>$2,746,491</td>\n",
              "    </tr>\n",
              "    <tr>\n",
              "      <th>8</th>\n",
              "      <td>landslide</td>\n",
              "      <td>$2,537,194</td>\n",
              "    </tr>\n",
              "    <tr>\n",
              "      <th>9</th>\n",
              "      <td>avalanche</td>\n",
              "      <td>$2,192,950</td>\n",
              "    </tr>\n",
              "    <tr>\n",
              "      <th>10</th>\n",
              "      <td>cold event</td>\n",
              "      <td>$630,370</td>\n",
              "    </tr>\n",
              "    <tr>\n",
              "      <th>11</th>\n",
              "      <td>disturbance / demonstrations</td>\n",
              "      <td>$0</td>\n",
              "    </tr>\n",
              "    <tr>\n",
              "      <th>12</th>\n",
              "      <td>derailment release</td>\n",
              "      <td>$0</td>\n",
              "    </tr>\n",
              "    <tr>\n",
              "      <th>13</th>\n",
              "      <td>kidnapping / murder</td>\n",
              "      <td>$0</td>\n",
              "    </tr>\n",
              "    <tr>\n",
              "      <th>14</th>\n",
              "      <td>leak / spill release</td>\n",
              "      <td>$0</td>\n",
              "    </tr>\n",
              "    <tr>\n",
              "      <th>15</th>\n",
              "      <td>manufacturing / industry</td>\n",
              "      <td>$0</td>\n",
              "    </tr>\n",
              "    <tr>\n",
              "      <th>16</th>\n",
              "      <td>non-residential</td>\n",
              "      <td>$0</td>\n",
              "    </tr>\n",
              "    <tr>\n",
              "      <th>17</th>\n",
              "      <td>rail</td>\n",
              "      <td>$0</td>\n",
              "    </tr>\n",
              "    <tr>\n",
              "      <th>18</th>\n",
              "      <td>residential</td>\n",
              "      <td>$0</td>\n",
              "    </tr>\n",
              "    <tr>\n",
              "      <th>19</th>\n",
              "      <td>shootings</td>\n",
              "      <td>$0</td>\n",
              "    </tr>\n",
              "    <tr>\n",
              "      <th>20</th>\n",
              "      <td>bomb attacks</td>\n",
              "      <td>$0</td>\n",
              "    </tr>\n",
              "    <tr>\n",
              "      <th>21</th>\n",
              "      <td>tsunami</td>\n",
              "      <td>$0</td>\n",
              "    </tr>\n",
              "    <tr>\n",
              "      <th>22</th>\n",
              "      <td>vehicle</td>\n",
              "      <td>$0</td>\n",
              "    </tr>\n",
              "    <tr>\n",
              "      <th>23</th>\n",
              "      <td>volcano</td>\n",
              "      <td>$0</td>\n",
              "    </tr>\n",
              "    <tr>\n",
              "      <th>24</th>\n",
              "      <td>water</td>\n",
              "      <td>$0</td>\n",
              "    </tr>\n",
              "    <tr>\n",
              "      <th>25</th>\n",
              "      <td>SIN</td>\n",
              "      <td>$nan</td>\n",
              "    </tr>\n",
              "    <tr>\n",
              "      <th>26</th>\n",
              "      <td>chemical</td>\n",
              "      <td>$nan</td>\n",
              "    </tr>\n",
              "    <tr>\n",
              "      <th>27</th>\n",
              "      <td>communications</td>\n",
              "      <td>$nan</td>\n",
              "    </tr>\n",
              "    <tr>\n",
              "      <th>28</th>\n",
              "      <td>energy</td>\n",
              "      <td>$nan</td>\n",
              "    </tr>\n",
              "    <tr>\n",
              "      <th>29</th>\n",
              "      <td>marine</td>\n",
              "      <td>$nan</td>\n",
              "    </tr>\n",
              "    <tr>\n",
              "      <th>30</th>\n",
              "      <td>marine release</td>\n",
              "      <td>$nan</td>\n",
              "    </tr>\n",
              "    <tr>\n",
              "      <th>31</th>\n",
              "      <td>space debris</td>\n",
              "      <td>$nan</td>\n",
              "    </tr>\n",
              "  </tbody>\n",
              "</table>\n",
              "</div>\n",
              "      <button class=\"colab-df-convert\" onclick=\"convertToInteractive('df-34ead8bc-7468-4369-bc92-2a73ab453686')\"\n",
              "              title=\"Convert this dataframe to an interactive table.\"\n",
              "              style=\"display:none;\">\n",
              "        \n",
              "  <svg xmlns=\"http://www.w3.org/2000/svg\" height=\"24px\"viewBox=\"0 0 24 24\"\n",
              "       width=\"24px\">\n",
              "    <path d=\"M0 0h24v24H0V0z\" fill=\"none\"/>\n",
              "    <path d=\"M18.56 5.44l.94 2.06.94-2.06 2.06-.94-2.06-.94-.94-2.06-.94 2.06-2.06.94zm-11 1L8.5 8.5l.94-2.06 2.06-.94-2.06-.94L8.5 2.5l-.94 2.06-2.06.94zm10 10l.94 2.06.94-2.06 2.06-.94-2.06-.94-.94-2.06-.94 2.06-2.06.94z\"/><path d=\"M17.41 7.96l-1.37-1.37c-.4-.4-.92-.59-1.43-.59-.52 0-1.04.2-1.43.59L10.3 9.45l-7.72 7.72c-.78.78-.78 2.05 0 2.83L4 21.41c.39.39.9.59 1.41.59.51 0 1.02-.2 1.41-.59l7.78-7.78 2.81-2.81c.8-.78.8-2.07 0-2.86zM5.41 20L4 18.59l7.72-7.72 1.47 1.35L5.41 20z\"/>\n",
              "  </svg>\n",
              "      </button>\n",
              "      \n",
              "  <style>\n",
              "    .colab-df-container {\n",
              "      display:flex;\n",
              "      flex-wrap:wrap;\n",
              "      gap: 12px;\n",
              "    }\n",
              "\n",
              "    .colab-df-convert {\n",
              "      background-color: #E8F0FE;\n",
              "      border: none;\n",
              "      border-radius: 50%;\n",
              "      cursor: pointer;\n",
              "      display: none;\n",
              "      fill: #1967D2;\n",
              "      height: 32px;\n",
              "      padding: 0 0 0 0;\n",
              "      width: 32px;\n",
              "    }\n",
              "\n",
              "    .colab-df-convert:hover {\n",
              "      background-color: #E2EBFA;\n",
              "      box-shadow: 0px 1px 2px rgba(60, 64, 67, 0.3), 0px 1px 3px 1px rgba(60, 64, 67, 0.15);\n",
              "      fill: #174EA6;\n",
              "    }\n",
              "\n",
              "    [theme=dark] .colab-df-convert {\n",
              "      background-color: #3B4455;\n",
              "      fill: #D2E3FC;\n",
              "    }\n",
              "\n",
              "    [theme=dark] .colab-df-convert:hover {\n",
              "      background-color: #434B5C;\n",
              "      box-shadow: 0px 1px 3px 1px rgba(0, 0, 0, 0.15);\n",
              "      filter: drop-shadow(0px 1px 2px rgba(0, 0, 0, 0.3));\n",
              "      fill: #FFFFFF;\n",
              "    }\n",
              "  </style>\n",
              "\n",
              "      <script>\n",
              "        const buttonEl =\n",
              "          document.querySelector('#df-34ead8bc-7468-4369-bc92-2a73ab453686 button.colab-df-convert');\n",
              "        buttonEl.style.display =\n",
              "          google.colab.kernel.accessAllowed ? 'block' : 'none';\n",
              "\n",
              "        async function convertToInteractive(key) {\n",
              "          const element = document.querySelector('#df-34ead8bc-7468-4369-bc92-2a73ab453686');\n",
              "          const dataTable =\n",
              "            await google.colab.kernel.invokeFunction('convertToInteractive',\n",
              "                                                     [key], {});\n",
              "          if (!dataTable) return;\n",
              "\n",
              "          const docLinkHtml = 'Like what you see? Visit the ' +\n",
              "            '<a target=\"_blank\" href=https://colab.research.google.com/notebooks/data_table.ipynb>data table notebook</a>'\n",
              "            + ' to learn more about interactive tables.';\n",
              "          element.innerHTML = '';\n",
              "          dataTable['output_type'] = 'display_data';\n",
              "          await google.colab.output.renderOutput(dataTable, element);\n",
              "          const docLink = document.createElement('div');\n",
              "          docLink.innerHTML = docLinkHtml;\n",
              "          element.appendChild(docLink);\n",
              "        }\n",
              "      </script>\n",
              "    </div>\n",
              "  </div>\n",
              "  "
            ]
          },
          "metadata": {},
          "execution_count": 44
        }
      ]
    },
    {
      "cell_type": "markdown",
      "source": [
        "### Se tiene que los desastres que implican mayores costos para la normalización están grandemente marcados en un top 6 con respecto al resto de desastres, en primer lugar están los terremotos dada su naturaleza y poder de afectación estructural con costo promedio de 84,126,702,800,000. En segundo lugar están los incendios de todo tipo, que claramente pueden acabar con todo a su paso si no es controlado y cuyo costo es inferior al 50% del costo de los terremotos, estando en $39,595,179,216,216, luego están las inundaciones que pueden acabar también con  los enseres y estructuras muy fácilmente. Despúes están los ciclones y desastres por aire. En séptimo lugar ya se ubican otros tipos de desastres cuya diferencia en costos de normalización es notablemente inferior con respecto a este top seis descrito aquí."
      ],
      "metadata": {
        "id": "u4KIpyq_wQno"
      }
    },
    {
      "cell_type": "markdown",
      "source": [
        "#2. ¿Cual es el porcentaje de incendios con respecto al resto de desastres?\n",
        "\n",
        "Representado en gráfico de torta."
      ],
      "metadata": {
        "id": "yhOKvXiXco_A"
      }
    },
    {
      "cell_type": "code",
      "source": [
        "import plotly.express as px\n",
        "import pandas as pd\n",
        "\n",
        "#Calculamos el número de incendios y el número total de desastres\n",
        "num_incendios = DESA[DESA['EVENT TYPE'] == 'fire'].shape[0]\n",
        "num_total_desastres = DESA.shape[0]\n",
        "\n",
        "# Calculamos el número de desastres que no son incendios para poder configurar bien la torta\n",
        "num_desastres_no_incendios = num_total_desastres - num_incendios\n",
        "porcentaje_incendios = (num_incendios / num_total_desastres) * 100\n",
        "porcentaje_no_incendios = 100 - porcentaje_incendios\n",
        "\n",
        "data = pd.DataFrame({'Tipo de Desastre': ['Incendios', 'Otros Desastres'], 'Porcentaje': [porcentaje_incendios, porcentaje_no_incendios]})\n",
        "\n",
        "fig = px.pie(data, values='Porcentaje', names='Tipo de Desastre', hole=0.5)\n",
        "fig.show()"
      ],
      "metadata": {
        "id": "sMh08E9-pr1v",
        "colab": {
          "base_uri": "https://localhost:8080/",
          "height": 542
        },
        "outputId": "f8874eda-f4ff-47da-ae40-e4040066c132"
      },
      "execution_count": 45,
      "outputs": [
        {
          "output_type": "display_data",
          "data": {
            "text/html": [
              "<html>\n",
              "<head><meta charset=\"utf-8\" /></head>\n",
              "<body>\n",
              "    <div>            <script src=\"https://cdnjs.cloudflare.com/ajax/libs/mathjax/2.7.5/MathJax.js?config=TeX-AMS-MML_SVG\"></script><script type=\"text/javascript\">if (window.MathJax && window.MathJax.Hub && window.MathJax.Hub.Config) {window.MathJax.Hub.Config({SVG: {font: \"STIX-Web\"}});}</script>                <script type=\"text/javascript\">window.PlotlyConfig = {MathJaxConfig: 'local'};</script>\n",
              "        <script src=\"https://cdn.plot.ly/plotly-2.18.2.min.js\"></script>                <div id=\"3514dac3-a444-478f-a484-c5b3e015027e\" class=\"plotly-graph-div\" style=\"height:525px; width:100%;\"></div>            <script type=\"text/javascript\">                                    window.PLOTLYENV=window.PLOTLYENV || {};                                    if (document.getElementById(\"3514dac3-a444-478f-a484-c5b3e015027e\")) {                    Plotly.newPlot(                        \"3514dac3-a444-478f-a484-c5b3e015027e\",                        [{\"domain\":{\"x\":[0.0,1.0],\"y\":[0.0,1.0]},\"hole\":0.5,\"hovertemplate\":\"Tipo de Desastre=%{label}<br>Porcentaje=%{value}<extra></extra>\",\"labels\":[\"Incendios\",\"Otros Desastres\"],\"legendgroup\":\"\",\"name\":\"\",\"showlegend\":true,\"values\":[8.971704623878537,91.02829537612146],\"type\":\"pie\"}],                        {\"template\":{\"data\":{\"histogram2dcontour\":[{\"type\":\"histogram2dcontour\",\"colorbar\":{\"outlinewidth\":0,\"ticks\":\"\"},\"colorscale\":[[0.0,\"#0d0887\"],[0.1111111111111111,\"#46039f\"],[0.2222222222222222,\"#7201a8\"],[0.3333333333333333,\"#9c179e\"],[0.4444444444444444,\"#bd3786\"],[0.5555555555555556,\"#d8576b\"],[0.6666666666666666,\"#ed7953\"],[0.7777777777777778,\"#fb9f3a\"],[0.8888888888888888,\"#fdca26\"],[1.0,\"#f0f921\"]]}],\"choropleth\":[{\"type\":\"choropleth\",\"colorbar\":{\"outlinewidth\":0,\"ticks\":\"\"}}],\"histogram2d\":[{\"type\":\"histogram2d\",\"colorbar\":{\"outlinewidth\":0,\"ticks\":\"\"},\"colorscale\":[[0.0,\"#0d0887\"],[0.1111111111111111,\"#46039f\"],[0.2222222222222222,\"#7201a8\"],[0.3333333333333333,\"#9c179e\"],[0.4444444444444444,\"#bd3786\"],[0.5555555555555556,\"#d8576b\"],[0.6666666666666666,\"#ed7953\"],[0.7777777777777778,\"#fb9f3a\"],[0.8888888888888888,\"#fdca26\"],[1.0,\"#f0f921\"]]}],\"heatmap\":[{\"type\":\"heatmap\",\"colorbar\":{\"outlinewidth\":0,\"ticks\":\"\"},\"colorscale\":[[0.0,\"#0d0887\"],[0.1111111111111111,\"#46039f\"],[0.2222222222222222,\"#7201a8\"],[0.3333333333333333,\"#9c179e\"],[0.4444444444444444,\"#bd3786\"],[0.5555555555555556,\"#d8576b\"],[0.6666666666666666,\"#ed7953\"],[0.7777777777777778,\"#fb9f3a\"],[0.8888888888888888,\"#fdca26\"],[1.0,\"#f0f921\"]]}],\"heatmapgl\":[{\"type\":\"heatmapgl\",\"colorbar\":{\"outlinewidth\":0,\"ticks\":\"\"},\"colorscale\":[[0.0,\"#0d0887\"],[0.1111111111111111,\"#46039f\"],[0.2222222222222222,\"#7201a8\"],[0.3333333333333333,\"#9c179e\"],[0.4444444444444444,\"#bd3786\"],[0.5555555555555556,\"#d8576b\"],[0.6666666666666666,\"#ed7953\"],[0.7777777777777778,\"#fb9f3a\"],[0.8888888888888888,\"#fdca26\"],[1.0,\"#f0f921\"]]}],\"contourcarpet\":[{\"type\":\"contourcarpet\",\"colorbar\":{\"outlinewidth\":0,\"ticks\":\"\"}}],\"contour\":[{\"type\":\"contour\",\"colorbar\":{\"outlinewidth\":0,\"ticks\":\"\"},\"colorscale\":[[0.0,\"#0d0887\"],[0.1111111111111111,\"#46039f\"],[0.2222222222222222,\"#7201a8\"],[0.3333333333333333,\"#9c179e\"],[0.4444444444444444,\"#bd3786\"],[0.5555555555555556,\"#d8576b\"],[0.6666666666666666,\"#ed7953\"],[0.7777777777777778,\"#fb9f3a\"],[0.8888888888888888,\"#fdca26\"],[1.0,\"#f0f921\"]]}],\"surface\":[{\"type\":\"surface\",\"colorbar\":{\"outlinewidth\":0,\"ticks\":\"\"},\"colorscale\":[[0.0,\"#0d0887\"],[0.1111111111111111,\"#46039f\"],[0.2222222222222222,\"#7201a8\"],[0.3333333333333333,\"#9c179e\"],[0.4444444444444444,\"#bd3786\"],[0.5555555555555556,\"#d8576b\"],[0.6666666666666666,\"#ed7953\"],[0.7777777777777778,\"#fb9f3a\"],[0.8888888888888888,\"#fdca26\"],[1.0,\"#f0f921\"]]}],\"mesh3d\":[{\"type\":\"mesh3d\",\"colorbar\":{\"outlinewidth\":0,\"ticks\":\"\"}}],\"scatter\":[{\"fillpattern\":{\"fillmode\":\"overlay\",\"size\":10,\"solidity\":0.2},\"type\":\"scatter\"}],\"parcoords\":[{\"type\":\"parcoords\",\"line\":{\"colorbar\":{\"outlinewidth\":0,\"ticks\":\"\"}}}],\"scatterpolargl\":[{\"type\":\"scatterpolargl\",\"marker\":{\"colorbar\":{\"outlinewidth\":0,\"ticks\":\"\"}}}],\"bar\":[{\"error_x\":{\"color\":\"#2a3f5f\"},\"error_y\":{\"color\":\"#2a3f5f\"},\"marker\":{\"line\":{\"color\":\"#E5ECF6\",\"width\":0.5},\"pattern\":{\"fillmode\":\"overlay\",\"size\":10,\"solidity\":0.2}},\"type\":\"bar\"}],\"scattergeo\":[{\"type\":\"scattergeo\",\"marker\":{\"colorbar\":{\"outlinewidth\":0,\"ticks\":\"\"}}}],\"scatterpolar\":[{\"type\":\"scatterpolar\",\"marker\":{\"colorbar\":{\"outlinewidth\":0,\"ticks\":\"\"}}}],\"histogram\":[{\"marker\":{\"pattern\":{\"fillmode\":\"overlay\",\"size\":10,\"solidity\":0.2}},\"type\":\"histogram\"}],\"scattergl\":[{\"type\":\"scattergl\",\"marker\":{\"colorbar\":{\"outlinewidth\":0,\"ticks\":\"\"}}}],\"scatter3d\":[{\"type\":\"scatter3d\",\"line\":{\"colorbar\":{\"outlinewidth\":0,\"ticks\":\"\"}},\"marker\":{\"colorbar\":{\"outlinewidth\":0,\"ticks\":\"\"}}}],\"scattermapbox\":[{\"type\":\"scattermapbox\",\"marker\":{\"colorbar\":{\"outlinewidth\":0,\"ticks\":\"\"}}}],\"scatterternary\":[{\"type\":\"scatterternary\",\"marker\":{\"colorbar\":{\"outlinewidth\":0,\"ticks\":\"\"}}}],\"scattercarpet\":[{\"type\":\"scattercarpet\",\"marker\":{\"colorbar\":{\"outlinewidth\":0,\"ticks\":\"\"}}}],\"carpet\":[{\"aaxis\":{\"endlinecolor\":\"#2a3f5f\",\"gridcolor\":\"white\",\"linecolor\":\"white\",\"minorgridcolor\":\"white\",\"startlinecolor\":\"#2a3f5f\"},\"baxis\":{\"endlinecolor\":\"#2a3f5f\",\"gridcolor\":\"white\",\"linecolor\":\"white\",\"minorgridcolor\":\"white\",\"startlinecolor\":\"#2a3f5f\"},\"type\":\"carpet\"}],\"table\":[{\"cells\":{\"fill\":{\"color\":\"#EBF0F8\"},\"line\":{\"color\":\"white\"}},\"header\":{\"fill\":{\"color\":\"#C8D4E3\"},\"line\":{\"color\":\"white\"}},\"type\":\"table\"}],\"barpolar\":[{\"marker\":{\"line\":{\"color\":\"#E5ECF6\",\"width\":0.5},\"pattern\":{\"fillmode\":\"overlay\",\"size\":10,\"solidity\":0.2}},\"type\":\"barpolar\"}],\"pie\":[{\"automargin\":true,\"type\":\"pie\"}]},\"layout\":{\"autotypenumbers\":\"strict\",\"colorway\":[\"#636efa\",\"#EF553B\",\"#00cc96\",\"#ab63fa\",\"#FFA15A\",\"#19d3f3\",\"#FF6692\",\"#B6E880\",\"#FF97FF\",\"#FECB52\"],\"font\":{\"color\":\"#2a3f5f\"},\"hovermode\":\"closest\",\"hoverlabel\":{\"align\":\"left\"},\"paper_bgcolor\":\"white\",\"plot_bgcolor\":\"#E5ECF6\",\"polar\":{\"bgcolor\":\"#E5ECF6\",\"angularaxis\":{\"gridcolor\":\"white\",\"linecolor\":\"white\",\"ticks\":\"\"},\"radialaxis\":{\"gridcolor\":\"white\",\"linecolor\":\"white\",\"ticks\":\"\"}},\"ternary\":{\"bgcolor\":\"#E5ECF6\",\"aaxis\":{\"gridcolor\":\"white\",\"linecolor\":\"white\",\"ticks\":\"\"},\"baxis\":{\"gridcolor\":\"white\",\"linecolor\":\"white\",\"ticks\":\"\"},\"caxis\":{\"gridcolor\":\"white\",\"linecolor\":\"white\",\"ticks\":\"\"}},\"coloraxis\":{\"colorbar\":{\"outlinewidth\":0,\"ticks\":\"\"}},\"colorscale\":{\"sequential\":[[0.0,\"#0d0887\"],[0.1111111111111111,\"#46039f\"],[0.2222222222222222,\"#7201a8\"],[0.3333333333333333,\"#9c179e\"],[0.4444444444444444,\"#bd3786\"],[0.5555555555555556,\"#d8576b\"],[0.6666666666666666,\"#ed7953\"],[0.7777777777777778,\"#fb9f3a\"],[0.8888888888888888,\"#fdca26\"],[1.0,\"#f0f921\"]],\"sequentialminus\":[[0.0,\"#0d0887\"],[0.1111111111111111,\"#46039f\"],[0.2222222222222222,\"#7201a8\"],[0.3333333333333333,\"#9c179e\"],[0.4444444444444444,\"#bd3786\"],[0.5555555555555556,\"#d8576b\"],[0.6666666666666666,\"#ed7953\"],[0.7777777777777778,\"#fb9f3a\"],[0.8888888888888888,\"#fdca26\"],[1.0,\"#f0f921\"]],\"diverging\":[[0,\"#8e0152\"],[0.1,\"#c51b7d\"],[0.2,\"#de77ae\"],[0.3,\"#f1b6da\"],[0.4,\"#fde0ef\"],[0.5,\"#f7f7f7\"],[0.6,\"#e6f5d0\"],[0.7,\"#b8e186\"],[0.8,\"#7fbc41\"],[0.9,\"#4d9221\"],[1,\"#276419\"]]},\"xaxis\":{\"gridcolor\":\"white\",\"linecolor\":\"white\",\"ticks\":\"\",\"title\":{\"standoff\":15},\"zerolinecolor\":\"white\",\"automargin\":true,\"zerolinewidth\":2},\"yaxis\":{\"gridcolor\":\"white\",\"linecolor\":\"white\",\"ticks\":\"\",\"title\":{\"standoff\":15},\"zerolinecolor\":\"white\",\"automargin\":true,\"zerolinewidth\":2},\"scene\":{\"xaxis\":{\"backgroundcolor\":\"#E5ECF6\",\"gridcolor\":\"white\",\"linecolor\":\"white\",\"showbackground\":true,\"ticks\":\"\",\"zerolinecolor\":\"white\",\"gridwidth\":2},\"yaxis\":{\"backgroundcolor\":\"#E5ECF6\",\"gridcolor\":\"white\",\"linecolor\":\"white\",\"showbackground\":true,\"ticks\":\"\",\"zerolinecolor\":\"white\",\"gridwidth\":2},\"zaxis\":{\"backgroundcolor\":\"#E5ECF6\",\"gridcolor\":\"white\",\"linecolor\":\"white\",\"showbackground\":true,\"ticks\":\"\",\"zerolinecolor\":\"white\",\"gridwidth\":2}},\"shapedefaults\":{\"line\":{\"color\":\"#2a3f5f\"}},\"annotationdefaults\":{\"arrowcolor\":\"#2a3f5f\",\"arrowhead\":0,\"arrowwidth\":1},\"geo\":{\"bgcolor\":\"white\",\"landcolor\":\"#E5ECF6\",\"subunitcolor\":\"white\",\"showland\":true,\"showlakes\":true,\"lakecolor\":\"white\"},\"title\":{\"x\":0.05},\"mapbox\":{\"style\":\"light\"}}},\"legend\":{\"tracegroupgap\":0},\"margin\":{\"t\":60}},                        {\"responsive\": true}                    ).then(function(){\n",
              "                            \n",
              "var gd = document.getElementById('3514dac3-a444-478f-a484-c5b3e015027e');\n",
              "var x = new MutationObserver(function (mutations, observer) {{\n",
              "        var display = window.getComputedStyle(gd).display;\n",
              "        if (!display || display === 'none') {{\n",
              "            console.log([gd, 'removed!']);\n",
              "            Plotly.purge(gd);\n",
              "            observer.disconnect();\n",
              "        }}\n",
              "}});\n",
              "\n",
              "// Listen for the removal of the full notebook cells\n",
              "var notebookContainer = gd.closest('#notebook-container');\n",
              "if (notebookContainer) {{\n",
              "    x.observe(notebookContainer, {childList: true});\n",
              "}}\n",
              "\n",
              "// Listen for the clearing of the current output cell\n",
              "var outputEl = gd.closest('.output');\n",
              "if (outputEl) {{\n",
              "    x.observe(outputEl, {childList: true});\n",
              "}}\n",
              "\n",
              "                        })                };                            </script>        </div>\n",
              "</body>\n",
              "</html>"
            ]
          },
          "metadata": {}
        }
      ]
    },
    {
      "cell_type": "markdown",
      "source": [
        "### Se tiene que el 8.97% del total de desastres están dados por incendios, lo cual es un número importante si se tiene en cuenta que dentro de la base hay 32 tipos de desastres en total, y que una distribución promedio sería de 3,1% para cada desastre."
      ],
      "metadata": {
        "id": "ZQsrxG1qyqHF"
      }
    },
    {
      "cell_type": "markdown",
      "source": [
        "# 3.  ¿Cuál es la cantidad de incendios por año?\n",
        "Se muestra un gráfico de lineas"
      ],
      "metadata": {
        "id": "A-LpDCb1bMwn"
      }
    },
    {
      "cell_type": "code",
      "source": [
        "#Filtramos los registros que corresponden a incendios\n",
        "incendios = DESA[DESA['EVENT TYPE'] == 'fire']\n",
        "\n",
        "#calculamos la cantidad de incendios por año\n",
        "cantidad_incendios_por_año = incendios['YEAR'].value_counts().sort_index()\n",
        "\n",
        "data = pd.DataFrame({'Año': cantidad_incendios_por_año.index, 'Cantidad de Incendios': cantidad_incendios_por_año.values})\n",
        "\n",
        "data.plot( 'Año' , 'Cantidad de Incendios' )\n"
      ],
      "metadata": {
        "id": "uspbVgR1gF6N",
        "colab": {
          "base_uri": "https://localhost:8080/",
          "height": 468
        },
        "outputId": "c3d7582c-f395-43f4-d576-84edeaeea0ad"
      },
      "execution_count": 46,
      "outputs": [
        {
          "output_type": "execute_result",
          "data": {
            "text/plain": [
              "<Axes: xlabel='Año'>"
            ]
          },
          "metadata": {},
          "execution_count": 46
        },
        {
          "output_type": "display_data",
          "data": {
            "text/plain": [
              "<Figure size 640x480 with 1 Axes>"
            ],
            "image/png": "[encoded data removed]"
          },
          "metadata": {}
        }
      ]
    },
    {
      "cell_type": "markdown",
      "source": [
        "### Puede observarse en el gráfico, que la mayor cantidad de incendios se han venido presentando en los últimos 40 años, ya que entre los años 1900 y 1980 se presentaron solo 15 incendios, mientras que después de 1980 y hasta el 2020, se presentaron 115 incendios.\n",
        "Esto también se puede presentar cuando no existe información disponible o bien se empezó a tomar oficialmente después de un año en particular, cuando ya se tenía establecido todo el sistema para prevención de desastres."
      ],
      "metadata": {
        "id": "VQLdllwbzqq2"
      }
    },
    {
      "cell_type": "markdown",
      "source": [
        "# 4.  ¿Cuál es la tasa de mortalidad de los incendios por año?\n",
        "\n",
        "###            Total de incendios con muertos/ Total de incendios. Se presenta en gráfico de barras.\n"
      ],
      "metadata": {
        "id": "aO0p6NwyowUs"
      }
    },
    {
      "cell_type": "code",
      "source": [
        "# Convertimos las columnas a tipo numerico\n",
        "DESA['FATALITIES'] = pd.to_numeric(DESA['FATALITIES'], errors='coerce')\n",
        "DESA['YEAR'] = pd.to_numeric(DESA['YEAR'], errors='coerce')\n",
        "\n",
        "#Sacamos solo los que digan Fire y calculamos el total por año y cuales con muertos\n",
        "incendios = DESA[DESA['EVENT TYPE'] == 'fire']\n",
        "total_incendios = incendios.groupby('YEAR').size()\n",
        "incendios_muertos = incendios.groupby('YEAR')['FATALITIES'].count()\n",
        "\n",
        "#Ahora si calculamos la tasa de mortalidad y creamos el dataframe*1\n",
        "tasa_mortalidad = round(((incendios_muertos / total_incendios)*100),2)\n",
        "tasa_mortalidad_df = pd.DataFrame({'YEAR': tasa_mortalidad.index, 'tasa de Mortalidad (%)': tasa_mortalidad.values})\n",
        "figm = px.bar(tasa_mortalidad_df, x='YEAR', y='tasa de Mortalidad (%)', labels={'Año': 'Año', 'tasa_mortalidad_df': 'tasa de Mortalidad (%)'})\n",
        "\n",
        "figm.show()"
      ],
      "metadata": {
        "colab": {
          "base_uri": "https://localhost:8080/",
          "height": 542
        },
        "id": "hlPeAYXa1rKC",
        "outputId": "c86ac6e9-d3c3-4fa4-8c36-6890482fba15"
      },
      "execution_count": 47,
      "outputs": [
        {
          "output_type": "display_data",
          "data": {
            "text/html": [
              "<html>\n",
              "<head><meta charset=\"utf-8\" /></head>\n",
              "<body>\n",
              "    <div>            <script src=\"https://cdnjs.cloudflare.com/ajax/libs/mathjax/2.7.5/MathJax.js?config=TeX-AMS-MML_SVG\"></script><script type=\"text/javascript\">if (window.MathJax && window.MathJax.Hub && window.MathJax.Hub.Config) {window.MathJax.Hub.Config({SVG: {font: \"STIX-Web\"}});}</script>                <script type=\"text/javascript\">window.PlotlyConfig = {MathJaxConfig: 'local'};</script>\n",
              "        <script src=\"https://cdn.plot.ly/plotly-2.18.2.min.js\"></script>                <div id=\"4dfa067f-6978-4620-95ab-c6a00d447997\" class=\"plotly-graph-div\" style=\"height:525px; width:100%;\"></div>            <script type=\"text/javascript\">                                    window.PLOTLYENV=window.PLOTLYENV || {};                                    if (document.getElementById(\"4dfa067f-6978-4620-95ab-c6a00d447997\")) {                    Plotly.newPlot(                        \"4dfa067f-6978-4620-95ab-c6a00d447997\",                        [{\"alignmentgroup\":\"True\",\"hovertemplate\":\"YEAR=%{x}<br>tasa de Mortalidad (%)=%{y}<extra></extra>\",\"legendgroup\":\"\",\"marker\":{\"color\":\"#636efa\",\"pattern\":{\"shape\":\"\"}},\"name\":\"\",\"offsetgroup\":\"\",\"orientation\":\"v\",\"showlegend\":false,\"textposition\":\"auto\",\"x\":[1903,1910,1911,1916,1919,1922,1931,1936,1938,1941,1948,1950,1955,1969,1980,1984,1985,1986,1987,1988,1989,1990,1991,1994,1995,1997,1998,1999,2002,2003,2005,2006,2007,2008,2009,2010,2011,2012,2014,2015,2016,2017,2018,2019,2020],\"xaxis\":\"x\",\"y\":[0.0,100.0,100.0,100.0,100.0,100.0,100.0,0.0,100.0,100.0,100.0,100.0,100.0,100.0,100.0,100.0,100.0,100.0,100.0,100.0,100.0,100.0,100.0,100.0,100.0,100.0,100.0,83.33,100.0,60.0,100.0,100.0,100.0,100.0,100.0,100.0,60.0,80.0,100.0,50.0,20.0,50.0,33.33,100.0,0.0],\"yaxis\":\"y\",\"type\":\"bar\"}],                        {\"template\":{\"data\":{\"histogram2dcontour\":[{\"type\":\"histogram2dcontour\",\"colorbar\":{\"outlinewidth\":0,\"ticks\":\"\"},\"colorscale\":[[0.0,\"#0d0887\"],[0.1111111111111111,\"#46039f\"],[0.2222222222222222,\"#7201a8\"],[0.3333333333333333,\"#9c179e\"],[0.4444444444444444,\"#bd3786\"],[0.5555555555555556,\"#d8576b\"],[0.6666666666666666,\"#ed7953\"],[0.7777777777777778,\"#fb9f3a\"],[0.8888888888888888,\"#fdca26\"],[1.0,\"#f0f921\"]]}],\"choropleth\":[{\"type\":\"choropleth\",\"colorbar\":{\"outlinewidth\":0,\"ticks\":\"\"}}],\"histogram2d\":[{\"type\":\"histogram2d\",\"colorbar\":{\"outlinewidth\":0,\"ticks\":\"\"},\"colorscale\":[[0.0,\"#0d0887\"],[0.1111111111111111,\"#46039f\"],[0.2222222222222222,\"#7201a8\"],[0.3333333333333333,\"#9c179e\"],[0.4444444444444444,\"#bd3786\"],[0.5555555555555556,\"#d8576b\"],[0.6666666666666666,\"#ed7953\"],[0.7777777777777778,\"#fb9f3a\"],[0.8888888888888888,\"#fdca26\"],[1.0,\"#f0f921\"]]}],\"heatmap\":[{\"type\":\"heatmap\",\"colorbar\":{\"outlinewidth\":0,\"ticks\":\"\"},\"colorscale\":[[0.0,\"#0d0887\"],[0.1111111111111111,\"#46039f\"],[0.2222222222222222,\"#7201a8\"],[0.3333333333333333,\"#9c179e\"],[0.4444444444444444,\"#bd3786\"],[0.5555555555555556,\"#d8576b\"],[0.6666666666666666,\"#ed7953\"],[0.7777777777777778,\"#fb9f3a\"],[0.8888888888888888,\"#fdca26\"],[1.0,\"#f0f921\"]]}],\"heatmapgl\":[{\"type\":\"heatmapgl\",\"colorbar\":{\"outlinewidth\":0,\"ticks\":\"\"},\"colorscale\":[[0.0,\"#0d0887\"],[0.1111111111111111,\"#46039f\"],[0.2222222222222222,\"#7201a8\"],[0.3333333333333333,\"#9c179e\"],[0.4444444444444444,\"#bd3786\"],[0.5555555555555556,\"#d8576b\"],[0.6666666666666666,\"#ed7953\"],[0.7777777777777778,\"#fb9f3a\"],[0.8888888888888888,\"#fdca26\"],[1.0,\"#f0f921\"]]}],\"contourcarpet\":[{\"type\":\"contourcarpet\",\"colorbar\":{\"outlinewidth\":0,\"ticks\":\"\"}}],\"contour\":[{\"type\":\"contour\",\"colorbar\":{\"outlinewidth\":0,\"ticks\":\"\"},\"colorscale\":[[0.0,\"#0d0887\"],[0.1111111111111111,\"#46039f\"],[0.2222222222222222,\"#7201a8\"],[0.3333333333333333,\"#9c179e\"],[0.4444444444444444,\"#bd3786\"],[0.5555555555555556,\"#d8576b\"],[0.6666666666666666,\"#ed7953\"],[0.7777777777777778,\"#fb9f3a\"],[0.8888888888888888,\"#fdca26\"],[1.0,\"#f0f921\"]]}],\"surface\":[{\"type\":\"surface\",\"colorbar\":{\"outlinewidth\":0,\"ticks\":\"\"},\"colorscale\":[[0.0,\"#0d0887\"],[0.1111111111111111,\"#46039f\"],[0.2222222222222222,\"#7201a8\"],[0.3333333333333333,\"#9c179e\"],[0.4444444444444444,\"#bd3786\"],[0.5555555555555556,\"#d8576b\"],[0.6666666666666666,\"#ed7953\"],[0.7777777777777778,\"#fb9f3a\"],[0.8888888888888888,\"#fdca26\"],[1.0,\"#f0f921\"]]}],\"mesh3d\":[{\"type\":\"mesh3d\",\"colorbar\":{\"outlinewidth\":0,\"ticks\":\"\"}}],\"scatter\":[{\"fillpattern\":{\"fillmode\":\"overlay\",\"size\":10,\"solidity\":0.2},\"type\":\"scatter\"}],\"parcoords\":[{\"type\":\"parcoords\",\"line\":{\"colorbar\":{\"outlinewidth\":0,\"ticks\":\"\"}}}],\"scatterpolargl\":[{\"type\":\"scatterpolargl\",\"marker\":{\"colorbar\":{\"outlinewidth\":0,\"ticks\":\"\"}}}],\"bar\":[{\"error_x\":{\"color\":\"#2a3f5f\"},\"error_y\":{\"color\":\"#2a3f5f\"},\"marker\":{\"line\":{\"color\":\"#E5ECF6\",\"width\":0.5},\"pattern\":{\"fillmode\":\"overlay\",\"size\":10,\"solidity\":0.2}},\"type\":\"bar\"}],\"scattergeo\":[{\"type\":\"scattergeo\",\"marker\":{\"colorbar\":{\"outlinewidth\":0,\"ticks\":\"\"}}}],\"scatterpolar\":[{\"type\":\"scatterpolar\",\"marker\":{\"colorbar\":{\"outlinewidth\":0,\"ticks\":\"\"}}}],\"histogram\":[{\"marker\":{\"pattern\":{\"fillmode\":\"overlay\",\"size\":10,\"solidity\":0.2}},\"type\":\"histogram\"}],\"scattergl\":[{\"type\":\"scattergl\",\"marker\":{\"colorbar\":{\"outlinewidth\":0,\"ticks\":\"\"}}}],\"scatter3d\":[{\"type\":\"scatter3d\",\"line\":{\"colorbar\":{\"outlinewidth\":0,\"ticks\":\"\"}},\"marker\":{\"colorbar\":{\"outlinewidth\":0,\"ticks\":\"\"}}}],\"scattermapbox\":[{\"type\":\"scattermapbox\",\"marker\":{\"colorbar\":{\"outlinewidth\":0,\"ticks\":\"\"}}}],\"scatterternary\":[{\"type\":\"scatterternary\",\"marker\":{\"colorbar\":{\"outlinewidth\":0,\"ticks\":\"\"}}}],\"scattercarpet\":[{\"type\":\"scattercarpet\",\"marker\":{\"colorbar\":{\"outlinewidth\":0,\"ticks\":\"\"}}}],\"carpet\":[{\"aaxis\":{\"endlinecolor\":\"#2a3f5f\",\"gridcolor\":\"white\",\"linecolor\":\"white\",\"minorgridcolor\":\"white\",\"startlinecolor\":\"#2a3f5f\"},\"baxis\":{\"endlinecolor\":\"#2a3f5f\",\"gridcolor\":\"white\",\"linecolor\":\"white\",\"minorgridcolor\":\"white\",\"startlinecolor\":\"#2a3f5f\"},\"type\":\"carpet\"}],\"table\":[{\"cells\":{\"fill\":{\"color\":\"#EBF0F8\"},\"line\":{\"color\":\"white\"}},\"header\":{\"fill\":{\"color\":\"#C8D4E3\"},\"line\":{\"color\":\"white\"}},\"type\":\"table\"}],\"barpolar\":[{\"marker\":{\"line\":{\"color\":\"#E5ECF6\",\"width\":0.5},\"pattern\":{\"fillmode\":\"overlay\",\"size\":10,\"solidity\":0.2}},\"type\":\"barpolar\"}],\"pie\":[{\"automargin\":true,\"type\":\"pie\"}]},\"layout\":{\"autotypenumbers\":\"strict\",\"colorway\":[\"#636efa\",\"#EF553B\",\"#00cc96\",\"#ab63fa\",\"#FFA15A\",\"#19d3f3\",\"#FF6692\",\"#B6E880\",\"#FF97FF\",\"#FECB52\"],\"font\":{\"color\":\"#2a3f5f\"},\"hovermode\":\"closest\",\"hoverlabel\":{\"align\":\"left\"},\"paper_bgcolor\":\"white\",\"plot_bgcolor\":\"#E5ECF6\",\"polar\":{\"bgcolor\":\"#E5ECF6\",\"angularaxis\":{\"gridcolor\":\"white\",\"linecolor\":\"white\",\"ticks\":\"\"},\"radialaxis\":{\"gridcolor\":\"white\",\"linecolor\":\"white\",\"ticks\":\"\"}},\"ternary\":{\"bgcolor\":\"#E5ECF6\",\"aaxis\":{\"gridcolor\":\"white\",\"linecolor\":\"white\",\"ticks\":\"\"},\"baxis\":{\"gridcolor\":\"white\",\"linecolor\":\"white\",\"ticks\":\"\"},\"caxis\":{\"gridcolor\":\"white\",\"linecolor\":\"white\",\"ticks\":\"\"}},\"coloraxis\":{\"colorbar\":{\"outlinewidth\":0,\"ticks\":\"\"}},\"colorscale\":{\"sequential\":[[0.0,\"#0d0887\"],[0.1111111111111111,\"#46039f\"],[0.2222222222222222,\"#7201a8\"],[0.3333333333333333,\"#9c179e\"],[0.4444444444444444,\"#bd3786\"],[0.5555555555555556,\"#d8576b\"],[0.6666666666666666,\"#ed7953\"],[0.7777777777777778,\"#fb9f3a\"],[0.8888888888888888,\"#fdca26\"],[1.0,\"#f0f921\"]],\"sequentialminus\":[[0.0,\"#0d0887\"],[0.1111111111111111,\"#46039f\"],[0.2222222222222222,\"#7201a8\"],[0.3333333333333333,\"#9c179e\"],[0.4444444444444444,\"#bd3786\"],[0.5555555555555556,\"#d8576b\"],[0.6666666666666666,\"#ed7953\"],[0.7777777777777778,\"#fb9f3a\"],[0.8888888888888888,\"#fdca26\"],[1.0,\"#f0f921\"]],\"diverging\":[[0,\"#8e0152\"],[0.1,\"#c51b7d\"],[0.2,\"#de77ae\"],[0.3,\"#f1b6da\"],[0.4,\"#fde0ef\"],[0.5,\"#f7f7f7\"],[0.6,\"#e6f5d0\"],[0.7,\"#b8e186\"],[0.8,\"#7fbc41\"],[0.9,\"#4d9221\"],[1,\"#276419\"]]},\"xaxis\":{\"gridcolor\":\"white\",\"linecolor\":\"white\",\"ticks\":\"\",\"title\":{\"standoff\":15},\"zerolinecolor\":\"white\",\"automargin\":true,\"zerolinewidth\":2},\"yaxis\":{\"gridcolor\":\"white\",\"linecolor\":\"white\",\"ticks\":\"\",\"title\":{\"standoff\":15},\"zerolinecolor\":\"white\",\"automargin\":true,\"zerolinewidth\":2},\"scene\":{\"xaxis\":{\"backgroundcolor\":\"#E5ECF6\",\"gridcolor\":\"white\",\"linecolor\":\"white\",\"showbackground\":true,\"ticks\":\"\",\"zerolinecolor\":\"white\",\"gridwidth\":2},\"yaxis\":{\"backgroundcolor\":\"#E5ECF6\",\"gridcolor\":\"white\",\"linecolor\":\"white\",\"showbackground\":true,\"ticks\":\"\",\"zerolinecolor\":\"white\",\"gridwidth\":2},\"zaxis\":{\"backgroundcolor\":\"#E5ECF6\",\"gridcolor\":\"white\",\"linecolor\":\"white\",\"showbackground\":true,\"ticks\":\"\",\"zerolinecolor\":\"white\",\"gridwidth\":2}},\"shapedefaults\":{\"line\":{\"color\":\"#2a3f5f\"}},\"annotationdefaults\":{\"arrowcolor\":\"#2a3f5f\",\"arrowhead\":0,\"arrowwidth\":1},\"geo\":{\"bgcolor\":\"white\",\"landcolor\":\"#E5ECF6\",\"subunitcolor\":\"white\",\"showland\":true,\"showlakes\":true,\"lakecolor\":\"white\"},\"title\":{\"x\":0.05},\"mapbox\":{\"style\":\"light\"}}},\"xaxis\":{\"anchor\":\"y\",\"domain\":[0.0,1.0],\"title\":{\"text\":\"YEAR\"}},\"yaxis\":{\"anchor\":\"x\",\"domain\":[0.0,1.0],\"title\":{\"text\":\"tasa de Mortalidad (%)\"}},\"legend\":{\"tracegroupgap\":0},\"margin\":{\"t\":60},\"barmode\":\"relative\"},                        {\"responsive\": true}                    ).then(function(){\n",
              "                            \n",
              "var gd = document.getElementById('4dfa067f-6978-4620-95ab-c6a00d447997');\n",
              "var x = new MutationObserver(function (mutations, observer) {{\n",
              "        var display = window.getComputedStyle(gd).display;\n",
              "        if (!display || display === 'none') {{\n",
              "            console.log([gd, 'removed!']);\n",
              "            Plotly.purge(gd);\n",
              "            observer.disconnect();\n",
              "        }}\n",
              "}});\n",
              "\n",
              "// Listen for the removal of the full notebook cells\n",
              "var notebookContainer = gd.closest('#notebook-container');\n",
              "if (notebookContainer) {{\n",
              "    x.observe(notebookContainer, {childList: true});\n",
              "}}\n",
              "\n",
              "// Listen for the clearing of the current output cell\n",
              "var outputEl = gd.closest('.output');\n",
              "if (outputEl) {{\n",
              "    x.observe(outputEl, {childList: true});\n",
              "}}\n",
              "\n",
              "                        })                };                            </script>        </div>\n",
              "</body>\n",
              "</html>"
            ]
          },
          "metadata": {}
        }
      ]
    },
    {
      "cell_type": "markdown",
      "source": [
        "### Se observa que la tasa de mortalidad en generales alta en los incendios ocurridos durante 1900 y 1998, sin embargo, para los 22 años siguientes,  la mortalidad en cada evento varió entre el 20% y el 100%."
      ],
      "metadata": {
        "id": "KE68kMGS030o"
      }
    },
    {
      "cell_type": "markdown",
      "source": [
        "# 5. ¿Cómo es la distribución de ocurrencia de incendios por día de la semana?  \n",
        "Gráfico de barras"
      ],
      "metadata": {
        "id": "cS2QJGFhbUQ0"
      }
    },
    {
      "cell_type": "code",
      "source": [
        "incendios.columns"
      ],
      "metadata": {
        "id": "w6dxFG9frgGb",
        "colab": {
          "base_uri": "https://localhost:8080/"
        },
        "outputId": "a55efdce-cf9d-4f49-a4f3-ba31b40bd769"
      },
      "execution_count": 48,
      "outputs": [
        {
          "output_type": "execute_result",
          "data": {
            "text/plain": [
              "Index(['YEAR', 'MONTH', 'DAY', 'EVENT GROUP', 'EVENT SUBGROUP', 'EVENT TYPE',\n",
              "       'FATALITIES', 'INJURED / INFECTED', 'ESTIMATED TOTAL COST',\n",
              "       'NORMALIZED TOTAL COST', 'MAGNITUDE', 'PLACE'],\n",
              "      dtype='object')"
            ]
          },
          "metadata": {},
          "execution_count": 48
        }
      ]
    },
    {
      "cell_type": "code",
      "source": [
        "import plotly.express as px\n",
        "\n",
        "# Convertir las columnas 'YEAR', 'MONTH' y 'DAY' a tipo fecha para poder concatenar la fecha y sacar el dia de la semana específico\n",
        "DESA['YEAR'] = pd.to_datetime(DESA['YEAR'], format='%Y', errors='coerce')\n",
        "DESA['MONTH'] = pd.to_datetime(DESA['MONTH'], format='%m', errors='coerce')\n",
        "DESA['DAY'] = pd.to_datetime(DESA['DAY'], format='%d', errors='coerce')\n",
        "\n",
        "#Creamos la columna weekday para determinar el dia de la semana y filtramos por incendios\n",
        "DESA['WEEKDAY'] = DESA['DAY'].dt.day_name()\n",
        "incendios = DESA[DESA['EVENT TYPE'] == 'fire']\n",
        "ocurrencia_incendios = incendios['WEEKDAY'].value_counts()\n",
        "\n",
        "df_ocurrencia_incendios = pd.DataFrame({'Día de la semana': ocurrencia_incendios.index, 'Ocurrencia': ocurrencia_incendios.values})\n",
        "dias_semana_ordenados = ['Monday', 'Tuesday', 'Wednesday', 'Thursday', 'Friday', 'Saturday', 'Sunday']\n",
        "df_ocurrencia_incendios['Día de la semana'] = pd.Categorical(df_ocurrencia_incendios['Día de la semana'], categories=dias_semana_ordenados, ordered=True)\n",
        "df_ocurrencia_incendios = df_ocurrencia_incendios.sort_values('Día de la semana')\n",
        "fig = px.bar(df_ocurrencia_incendios, x='Día de la semana', y='Ocurrencia', color='Día de la semana',title='Ocurrencia de Incendios por Día de la Semana', )\n",
        "fig.show()"
      ],
      "metadata": {
        "id": "CY0JTyWFbeuK",
        "colab": {
          "base_uri": "https://localhost:8080/",
          "height": 542
        },
        "outputId": "ba5e979c-7f3d-4517-fc05-1ee8aece8d1c"
      },
      "execution_count": 49,
      "outputs": [
        {
          "output_type": "display_data",
          "data": {
            "text/html": [
              "<html>\n",
              "<head><meta charset=\"utf-8\" /></head>\n",
              "<body>\n",
              "    <div>            <script src=\"https://cdnjs.cloudflare.com/ajax/libs/mathjax/2.7.5/MathJax.js?config=TeX-AMS-MML_SVG\"></script><script type=\"text/javascript\">if (window.MathJax && window.MathJax.Hub && window.MathJax.Hub.Config) {window.MathJax.Hub.Config({SVG: {font: \"STIX-Web\"}});}</script>                <script type=\"text/javascript\">window.PlotlyConfig = {MathJaxConfig: 'local'};</script>\n",
              "        <script src=\"https://cdn.plot.ly/plotly-2.18.2.min.js\"></script>                <div id=\"65d0a404-83c8-4e18-b951-77bfc5ac515f\" class=\"plotly-graph-div\" style=\"height:525px; width:100%;\"></div>            <script type=\"text/javascript\">                                    window.PLOTLYENV=window.PLOTLYENV || {};                                    if (document.getElementById(\"65d0a404-83c8-4e18-b951-77bfc5ac515f\")) {                    Plotly.newPlot(                        \"65d0a404-83c8-4e18-b951-77bfc5ac515f\",                        [{\"alignmentgroup\":\"True\",\"hovertemplate\":\"D\\u00eda de la semana=%{x}<br>Ocurrencia=%{y}<extra></extra>\",\"legendgroup\":\"Monday\",\"marker\":{\"color\":\"#636efa\",\"pattern\":{\"shape\":\"\"}},\"name\":\"Monday\",\"offsetgroup\":\"Monday\",\"orientation\":\"v\",\"showlegend\":true,\"textposition\":\"auto\",\"x\":[\"Monday\"],\"xaxis\":\"x\",\"y\":[38],\"yaxis\":\"y\",\"type\":\"bar\"},{\"alignmentgroup\":\"True\",\"hovertemplate\":\"D\\u00eda de la semana=%{x}<br>Ocurrencia=%{y}<extra></extra>\",\"legendgroup\":\"Tuesday\",\"marker\":{\"color\":\"#EF553B\",\"pattern\":{\"shape\":\"\"}},\"name\":\"Tuesday\",\"offsetgroup\":\"Tuesday\",\"orientation\":\"v\",\"showlegend\":true,\"textposition\":\"auto\",\"x\":[\"Tuesday\"],\"xaxis\":\"x\",\"y\":[27],\"yaxis\":\"y\",\"type\":\"bar\"},{\"alignmentgroup\":\"True\",\"hovertemplate\":\"D\\u00eda de la semana=%{x}<br>Ocurrencia=%{y}<extra></extra>\",\"legendgroup\":\"Wednesday\",\"marker\":{\"color\":\"#00cc96\",\"pattern\":{\"shape\":\"\"}},\"name\":\"Wednesday\",\"offsetgroup\":\"Wednesday\",\"orientation\":\"v\",\"showlegend\":true,\"textposition\":\"auto\",\"x\":[\"Wednesday\"],\"xaxis\":\"x\",\"y\":[18],\"yaxis\":\"y\",\"type\":\"bar\"},{\"alignmentgroup\":\"True\",\"hovertemplate\":\"D\\u00eda de la semana=%{x}<br>Ocurrencia=%{y}<extra></extra>\",\"legendgroup\":\"Thursday\",\"marker\":{\"color\":\"#ab63fa\",\"pattern\":{\"shape\":\"\"}},\"name\":\"Thursday\",\"offsetgroup\":\"Thursday\",\"orientation\":\"v\",\"showlegend\":true,\"textposition\":\"auto\",\"x\":[\"Thursday\"],\"xaxis\":\"x\",\"y\":[8],\"yaxis\":\"y\",\"type\":\"bar\"},{\"alignmentgroup\":\"True\",\"hovertemplate\":\"D\\u00eda de la semana=%{x}<br>Ocurrencia=%{y}<extra></extra>\",\"legendgroup\":\"Friday\",\"marker\":{\"color\":\"#FFA15A\",\"pattern\":{\"shape\":\"\"}},\"name\":\"Friday\",\"offsetgroup\":\"Friday\",\"orientation\":\"v\",\"showlegend\":true,\"textposition\":\"auto\",\"x\":[\"Friday\"],\"xaxis\":\"x\",\"y\":[11],\"yaxis\":\"y\",\"type\":\"bar\"},{\"alignmentgroup\":\"True\",\"hovertemplate\":\"D\\u00eda de la semana=%{x}<br>Ocurrencia=%{y}<extra></extra>\",\"legendgroup\":\"Saturday\",\"marker\":{\"color\":\"#19d3f3\",\"pattern\":{\"shape\":\"\"}},\"name\":\"Saturday\",\"offsetgroup\":\"Saturday\",\"orientation\":\"v\",\"showlegend\":true,\"textposition\":\"auto\",\"x\":[\"Saturday\"],\"xaxis\":\"x\",\"y\":[15],\"yaxis\":\"y\",\"type\":\"bar\"},{\"alignmentgroup\":\"True\",\"hovertemplate\":\"D\\u00eda de la semana=%{x}<br>Ocurrencia=%{y}<extra></extra>\",\"legendgroup\":\"Sunday\",\"marker\":{\"color\":\"#FF6692\",\"pattern\":{\"shape\":\"\"}},\"name\":\"Sunday\",\"offsetgroup\":\"Sunday\",\"orientation\":\"v\",\"showlegend\":true,\"textposition\":\"auto\",\"x\":[\"Sunday\"],\"xaxis\":\"x\",\"y\":[13],\"yaxis\":\"y\",\"type\":\"bar\"}],                        {\"template\":{\"data\":{\"histogram2dcontour\":[{\"type\":\"histogram2dcontour\",\"colorbar\":{\"outlinewidth\":0,\"ticks\":\"\"},\"colorscale\":[[0.0,\"#0d0887\"],[0.1111111111111111,\"#46039f\"],[0.2222222222222222,\"#7201a8\"],[0.3333333333333333,\"#9c179e\"],[0.4444444444444444,\"#bd3786\"],[0.5555555555555556,\"#d8576b\"],[0.6666666666666666,\"#ed7953\"],[0.7777777777777778,\"#fb9f3a\"],[0.8888888888888888,\"#fdca26\"],[1.0,\"#f0f921\"]]}],\"choropleth\":[{\"type\":\"choropleth\",\"colorbar\":{\"outlinewidth\":0,\"ticks\":\"\"}}],\"histogram2d\":[{\"type\":\"histogram2d\",\"colorbar\":{\"outlinewidth\":0,\"ticks\":\"\"},\"colorscale\":[[0.0,\"#0d0887\"],[0.1111111111111111,\"#46039f\"],[0.2222222222222222,\"#7201a8\"],[0.3333333333333333,\"#9c179e\"],[0.4444444444444444,\"#bd3786\"],[0.5555555555555556,\"#d8576b\"],[0.6666666666666666,\"#ed7953\"],[0.7777777777777778,\"#fb9f3a\"],[0.8888888888888888,\"#fdca26\"],[1.0,\"#f0f921\"]]}],\"heatmap\":[{\"type\":\"heatmap\",\"colorbar\":{\"outlinewidth\":0,\"ticks\":\"\"},\"colorscale\":[[0.0,\"#0d0887\"],[0.1111111111111111,\"#46039f\"],[0.2222222222222222,\"#7201a8\"],[0.3333333333333333,\"#9c179e\"],[0.4444444444444444,\"#bd3786\"],[0.5555555555555556,\"#d8576b\"],[0.6666666666666666,\"#ed7953\"],[0.7777777777777778,\"#fb9f3a\"],[0.8888888888888888,\"#fdca26\"],[1.0,\"#f0f921\"]]}],\"heatmapgl\":[{\"type\":\"heatmapgl\",\"colorbar\":{\"outlinewidth\":0,\"ticks\":\"\"},\"colorscale\":[[0.0,\"#0d0887\"],[0.1111111111111111,\"#46039f\"],[0.2222222222222222,\"#7201a8\"],[0.3333333333333333,\"#9c179e\"],[0.4444444444444444,\"#bd3786\"],[0.5555555555555556,\"#d8576b\"],[0.6666666666666666,\"#ed7953\"],[0.7777777777777778,\"#fb9f3a\"],[0.8888888888888888,\"#fdca26\"],[1.0,\"#f0f921\"]]}],\"contourcarpet\":[{\"type\":\"contourcarpet\",\"colorbar\":{\"outlinewidth\":0,\"ticks\":\"\"}}],\"contour\":[{\"type\":\"contour\",\"colorbar\":{\"outlinewidth\":0,\"ticks\":\"\"},\"colorscale\":[[0.0,\"#0d0887\"],[0.1111111111111111,\"#46039f\"],[0.2222222222222222,\"#7201a8\"],[0.3333333333333333,\"#9c179e\"],[0.4444444444444444,\"#bd3786\"],[0.5555555555555556,\"#d8576b\"],[0.6666666666666666,\"#ed7953\"],[0.7777777777777778,\"#fb9f3a\"],[0.8888888888888888,\"#fdca26\"],[1.0,\"#f0f921\"]]}],\"surface\":[{\"type\":\"surface\",\"colorbar\":{\"outlinewidth\":0,\"ticks\":\"\"},\"colorscale\":[[0.0,\"#0d0887\"],[0.1111111111111111,\"#46039f\"],[0.2222222222222222,\"#7201a8\"],[0.3333333333333333,\"#9c179e\"],[0.4444444444444444,\"#bd3786\"],[0.5555555555555556,\"#d8576b\"],[0.6666666666666666,\"#ed7953\"],[0.7777777777777778,\"#fb9f3a\"],[0.8888888888888888,\"#fdca26\"],[1.0,\"#f0f921\"]]}],\"mesh3d\":[{\"type\":\"mesh3d\",\"colorbar\":{\"outlinewidth\":0,\"ticks\":\"\"}}],\"scatter\":[{\"fillpattern\":{\"fillmode\":\"overlay\",\"size\":10,\"solidity\":0.2},\"type\":\"scatter\"}],\"parcoords\":[{\"type\":\"parcoords\",\"line\":{\"colorbar\":{\"outlinewidth\":0,\"ticks\":\"\"}}}],\"scatterpolargl\":[{\"type\":\"scatterpolargl\",\"marker\":{\"colorbar\":{\"outlinewidth\":0,\"ticks\":\"\"}}}],\"bar\":[{\"error_x\":{\"color\":\"#2a3f5f\"},\"error_y\":{\"color\":\"#2a3f5f\"},\"marker\":{\"line\":{\"color\":\"#E5ECF6\",\"width\":0.5},\"pattern\":{\"fillmode\":\"overlay\",\"size\":10,\"solidity\":0.2}},\"type\":\"bar\"}],\"scattergeo\":[{\"type\":\"scattergeo\",\"marker\":{\"colorbar\":{\"outlinewidth\":0,\"ticks\":\"\"}}}],\"scatterpolar\":[{\"type\":\"scatterpolar\",\"marker\":{\"colorbar\":{\"outlinewidth\":0,\"ticks\":\"\"}}}],\"histogram\":[{\"marker\":{\"pattern\":{\"fillmode\":\"overlay\",\"size\":10,\"solidity\":0.2}},\"type\":\"histogram\"}],\"scattergl\":[{\"type\":\"scattergl\",\"marker\":{\"colorbar\":{\"outlinewidth\":0,\"ticks\":\"\"}}}],\"scatter3d\":[{\"type\":\"scatter3d\",\"line\":{\"colorbar\":{\"outlinewidth\":0,\"ticks\":\"\"}},\"marker\":{\"colorbar\":{\"outlinewidth\":0,\"ticks\":\"\"}}}],\"scattermapbox\":[{\"type\":\"scattermapbox\",\"marker\":{\"colorbar\":{\"outlinewidth\":0,\"ticks\":\"\"}}}],\"scatterternary\":[{\"type\":\"scatterternary\",\"marker\":{\"colorbar\":{\"outlinewidth\":0,\"ticks\":\"\"}}}],\"scattercarpet\":[{\"type\":\"scattercarpet\",\"marker\":{\"colorbar\":{\"outlinewidth\":0,\"ticks\":\"\"}}}],\"carpet\":[{\"aaxis\":{\"endlinecolor\":\"#2a3f5f\",\"gridcolor\":\"white\",\"linecolor\":\"white\",\"minorgridcolor\":\"white\",\"startlinecolor\":\"#2a3f5f\"},\"baxis\":{\"endlinecolor\":\"#2a3f5f\",\"gridcolor\":\"white\",\"linecolor\":\"white\",\"minorgridcolor\":\"white\",\"startlinecolor\":\"#2a3f5f\"},\"type\":\"carpet\"}],\"table\":[{\"cells\":{\"fill\":{\"color\":\"#EBF0F8\"},\"line\":{\"color\":\"white\"}},\"header\":{\"fill\":{\"color\":\"#C8D4E3\"},\"line\":{\"color\":\"white\"}},\"type\":\"table\"}],\"barpolar\":[{\"marker\":{\"line\":{\"color\":\"#E5ECF6\",\"width\":0.5},\"pattern\":{\"fillmode\":\"overlay\",\"size\":10,\"solidity\":0.2}},\"type\":\"barpolar\"}],\"pie\":[{\"automargin\":true,\"type\":\"pie\"}]},\"layout\":{\"autotypenumbers\":\"strict\",\"colorway\":[\"#636efa\",\"#EF553B\",\"#00cc96\",\"#ab63fa\",\"#FFA15A\",\"#19d3f3\",\"#FF6692\",\"#B6E880\",\"#FF97FF\",\"#FECB52\"],\"font\":{\"color\":\"#2a3f5f\"},\"hovermode\":\"closest\",\"hoverlabel\":{\"align\":\"left\"},\"paper_bgcolor\":\"white\",\"plot_bgcolor\":\"#E5ECF6\",\"polar\":{\"bgcolor\":\"#E5ECF6\",\"angularaxis\":{\"gridcolor\":\"white\",\"linecolor\":\"white\",\"ticks\":\"\"},\"radialaxis\":{\"gridcolor\":\"white\",\"linecolor\":\"white\",\"ticks\":\"\"}},\"ternary\":{\"bgcolor\":\"#E5ECF6\",\"aaxis\":{\"gridcolor\":\"white\",\"linecolor\":\"white\",\"ticks\":\"\"},\"baxis\":{\"gridcolor\":\"white\",\"linecolor\":\"white\",\"ticks\":\"\"},\"caxis\":{\"gridcolor\":\"white\",\"linecolor\":\"white\",\"ticks\":\"\"}},\"coloraxis\":{\"colorbar\":{\"outlinewidth\":0,\"ticks\":\"\"}},\"colorscale\":{\"sequential\":[[0.0,\"#0d0887\"],[0.1111111111111111,\"#46039f\"],[0.2222222222222222,\"#7201a8\"],[0.3333333333333333,\"#9c179e\"],[0.4444444444444444,\"#bd3786\"],[0.5555555555555556,\"#d8576b\"],[0.6666666666666666,\"#ed7953\"],[0.7777777777777778,\"#fb9f3a\"],[0.8888888888888888,\"#fdca26\"],[1.0,\"#f0f921\"]],\"sequentialminus\":[[0.0,\"#0d0887\"],[0.1111111111111111,\"#46039f\"],[0.2222222222222222,\"#7201a8\"],[0.3333333333333333,\"#9c179e\"],[0.4444444444444444,\"#bd3786\"],[0.5555555555555556,\"#d8576b\"],[0.6666666666666666,\"#ed7953\"],[0.7777777777777778,\"#fb9f3a\"],[0.8888888888888888,\"#fdca26\"],[1.0,\"#f0f921\"]],\"diverging\":[[0,\"#8e0152\"],[0.1,\"#c51b7d\"],[0.2,\"#de77ae\"],[0.3,\"#f1b6da\"],[0.4,\"#fde0ef\"],[0.5,\"#f7f7f7\"],[0.6,\"#e6f5d0\"],[0.7,\"#b8e186\"],[0.8,\"#7fbc41\"],[0.9,\"#4d9221\"],[1,\"#276419\"]]},\"xaxis\":{\"gridcolor\":\"white\",\"linecolor\":\"white\",\"ticks\":\"\",\"title\":{\"standoff\":15},\"zerolinecolor\":\"white\",\"automargin\":true,\"zerolinewidth\":2},\"yaxis\":{\"gridcolor\":\"white\",\"linecolor\":\"white\",\"ticks\":\"\",\"title\":{\"standoff\":15},\"zerolinecolor\":\"white\",\"automargin\":true,\"zerolinewidth\":2},\"scene\":{\"xaxis\":{\"backgroundcolor\":\"#E5ECF6\",\"gridcolor\":\"white\",\"linecolor\":\"white\",\"showbackground\":true,\"ticks\":\"\",\"zerolinecolor\":\"white\",\"gridwidth\":2},\"yaxis\":{\"backgroundcolor\":\"#E5ECF6\",\"gridcolor\":\"white\",\"linecolor\":\"white\",\"showbackground\":true,\"ticks\":\"\",\"zerolinecolor\":\"white\",\"gridwidth\":2},\"zaxis\":{\"backgroundcolor\":\"#E5ECF6\",\"gridcolor\":\"white\",\"linecolor\":\"white\",\"showbackground\":true,\"ticks\":\"\",\"zerolinecolor\":\"white\",\"gridwidth\":2}},\"shapedefaults\":{\"line\":{\"color\":\"#2a3f5f\"}},\"annotationdefaults\":{\"arrowcolor\":\"#2a3f5f\",\"arrowhead\":0,\"arrowwidth\":1},\"geo\":{\"bgcolor\":\"white\",\"landcolor\":\"#E5ECF6\",\"subunitcolor\":\"white\",\"showland\":true,\"showlakes\":true,\"lakecolor\":\"white\"},\"title\":{\"x\":0.05},\"mapbox\":{\"style\":\"light\"}}},\"xaxis\":{\"anchor\":\"y\",\"domain\":[0.0,1.0],\"title\":{\"text\":\"D\\u00eda de la semana\"},\"categoryorder\":\"array\",\"categoryarray\":[\"Monday\",\"Tuesday\",\"Wednesday\",\"Thursday\",\"Friday\",\"Saturday\",\"Sunday\"]},\"yaxis\":{\"anchor\":\"x\",\"domain\":[0.0,1.0],\"title\":{\"text\":\"Ocurrencia\"}},\"legend\":{\"title\":{\"text\":\"D\\u00eda de la semana\"},\"tracegroupgap\":0},\"title\":{\"text\":\"Ocurrencia de Incendios por D\\u00eda de la Semana\"},\"barmode\":\"relative\"},                        {\"responsive\": true}                    ).then(function(){\n",
              "                            \n",
              "var gd = document.getElementById('65d0a404-83c8-4e18-b951-77bfc5ac515f');\n",
              "var x = new MutationObserver(function (mutations, observer) {{\n",
              "        var display = window.getComputedStyle(gd).display;\n",
              "        if (!display || display === 'none') {{\n",
              "            console.log([gd, 'removed!']);\n",
              "            Plotly.purge(gd);\n",
              "            observer.disconnect();\n",
              "        }}\n",
              "}});\n",
              "\n",
              "// Listen for the removal of the full notebook cells\n",
              "var notebookContainer = gd.closest('#notebook-container');\n",
              "if (notebookContainer) {{\n",
              "    x.observe(notebookContainer, {childList: true});\n",
              "}}\n",
              "\n",
              "// Listen for the clearing of the current output cell\n",
              "var outputEl = gd.closest('.output');\n",
              "if (outputEl) {{\n",
              "    x.observe(outputEl, {childList: true});\n",
              "}}\n",
              "\n",
              "                        })                };                            </script>        </div>\n",
              "</body>\n",
              "</html>"
            ]
          },
          "metadata": {}
        }
      ]
    },
    {
      "cell_type": "markdown",
      "source": [
        "Se observa que hay mayor incidencia de incendios el Lunes, seguido del Martes y luego el Miércoles. "
      ],
      "metadata": {
        "id": "TpP48PVq7LcR"
      }
    },
    {
      "cell_type": "markdown",
      "source": [
        "# 6. ¿Cuál es el número de incendios por localidad?  \n"
      ],
      "metadata": {
        "id": "9mKUQE31blZV"
      }
    },
    {
      "cell_type": "code",
      "source": [
        "CONS.columns"
      ],
      "metadata": {
        "colab": {
          "base_uri": "https://localhost:8080/"
        },
        "id": "DbJY4MH7tCri",
        "outputId": "e1b134e2-4e01-4dbd-f531-d9ee022c9eb0"
      },
      "execution_count": 50,
      "outputs": [
        {
          "output_type": "execute_result",
          "data": {
            "text/plain": [
              "Index(['YEAR', 'GEO', 'performance_of_system', 'Incidents&Casualties', 'VALUE',\n",
              "       'Status of casualty', 'Type of structure'],\n",
              "      dtype='object')"
            ]
          },
          "metadata": {},
          "execution_count": 50
        }
      ]
    },
    {
      "cell_type": "code",
      "source": [
        "incendios_por_localidad = CONS['GEO'].value_counts()\n",
        "df_incendios = pd.DataFrame({'Localidad': incendios_por_localidad.index, 'Número de Incendios': incendios_por_localidad.values})\n",
        "# Definir una lista de colores para las barras\n",
        "colores = ['Yellow', 'orange', 'red', 'purple', 'blue', 'green']  # Puedes agregar más colores si es necesario\n",
        "\n",
        "fig = px.bar(df_incendios, x='Localidad', y='Número de Incendios', title='Número de Incendios por Localidad', color='Localidad', color_discrete_sequence=colores)\n",
        "\n",
        "# Mostrar el gráfico\n",
        "fig.show()"
      ],
      "metadata": {
        "id": "wvTcku9yhXSf",
        "colab": {
          "base_uri": "https://localhost:8080/",
          "height": 542
        },
        "outputId": "45e0bf1e-9bbb-43e6-8db2-2a156cf40a75"
      },
      "execution_count": 51,
      "outputs": [
        {
          "output_type": "display_data",
          "data": {
            "text/html": [
              "<html>\n",
              "<head><meta charset=\"utf-8\" /></head>\n",
              "<body>\n",
              "    <div>            <script src=\"https://cdnjs.cloudflare.com/ajax/libs/mathjax/2.7.5/MathJax.js?config=TeX-AMS-MML_SVG\"></script><script type=\"text/javascript\">if (window.MathJax && window.MathJax.Hub && window.MathJax.Hub.Config) {window.MathJax.Hub.Config({SVG: {font: \"STIX-Web\"}});}</script>                <script type=\"text/javascript\">window.PlotlyConfig = {MathJaxConfig: 'local'};</script>\n",
              "        <script src=\"https://cdn.plot.ly/plotly-2.18.2.min.js\"></script>                <div id=\"5593fc6c-675d-483c-a989-3133cb8aa0ac\" class=\"plotly-graph-div\" style=\"height:525px; width:100%;\"></div>            <script type=\"text/javascript\">                                    window.PLOTLYENV=window.PLOTLYENV || {};                                    if (document.getElementById(\"5593fc6c-675d-483c-a989-3133cb8aa0ac\")) {                    Plotly.newPlot(                        \"5593fc6c-675d-483c-a989-3133cb8aa0ac\",                        [{\"alignmentgroup\":\"True\",\"hovertemplate\":\"Localidad=%{x}<br>N\\u00famero de Incendios=%{y}<extra></extra>\",\"legendgroup\":\"canada\",\"marker\":{\"color\":\"Yellow\",\"pattern\":{\"shape\":\"\"}},\"name\":\"canada\",\"offsetgroup\":\"canada\",\"orientation\":\"v\",\"showlegend\":true,\"textposition\":\"auto\",\"x\":[\"canada\"],\"xaxis\":\"x\",\"y\":[4740],\"yaxis\":\"y\",\"type\":\"bar\"},{\"alignmentgroup\":\"True\",\"hovertemplate\":\"Localidad=%{x}<br>N\\u00famero de Incendios=%{y}<extra></extra>\",\"legendgroup\":\"ontario\",\"marker\":{\"color\":\"orange\",\"pattern\":{\"shape\":\"\"}},\"name\":\"ontario\",\"offsetgroup\":\"ontario\",\"orientation\":\"v\",\"showlegend\":true,\"textposition\":\"auto\",\"x\":[\"ontario\"],\"xaxis\":\"x\",\"y\":[4440],\"yaxis\":\"y\",\"type\":\"bar\"},{\"alignmentgroup\":\"True\",\"hovertemplate\":\"Localidad=%{x}<br>N\\u00famero de Incendios=%{y}<extra></extra>\",\"legendgroup\":\"manitoba\",\"marker\":{\"color\":\"red\",\"pattern\":{\"shape\":\"\"}},\"name\":\"manitoba\",\"offsetgroup\":\"manitoba\",\"orientation\":\"v\",\"showlegend\":true,\"textposition\":\"auto\",\"x\":[\"manitoba\"],\"xaxis\":\"x\",\"y\":[4440],\"yaxis\":\"y\",\"type\":\"bar\"},{\"alignmentgroup\":\"True\",\"hovertemplate\":\"Localidad=%{x}<br>N\\u00famero de Incendios=%{y}<extra></extra>\",\"legendgroup\":\"saskatchewan\",\"marker\":{\"color\":\"purple\",\"pattern\":{\"shape\":\"\"}},\"name\":\"saskatchewan\",\"offsetgroup\":\"saskatchewan\",\"orientation\":\"v\",\"showlegend\":true,\"textposition\":\"auto\",\"x\":[\"saskatchewan\"],\"xaxis\":\"x\",\"y\":[4440],\"yaxis\":\"y\",\"type\":\"bar\"},{\"alignmentgroup\":\"True\",\"hovertemplate\":\"Localidad=%{x}<br>N\\u00famero de Incendios=%{y}<extra></extra>\",\"legendgroup\":\"alberta\",\"marker\":{\"color\":\"blue\",\"pattern\":{\"shape\":\"\"}},\"name\":\"alberta\",\"offsetgroup\":\"alberta\",\"orientation\":\"v\",\"showlegend\":true,\"textposition\":\"auto\",\"x\":[\"alberta\"],\"xaxis\":\"x\",\"y\":[4440],\"yaxis\":\"y\",\"type\":\"bar\"},{\"alignmentgroup\":\"True\",\"hovertemplate\":\"Localidad=%{x}<br>N\\u00famero de Incendios=%{y}<extra></extra>\",\"legendgroup\":\"british columbia\",\"marker\":{\"color\":\"green\",\"pattern\":{\"shape\":\"\"}},\"name\":\"british columbia\",\"offsetgroup\":\"british columbia\",\"orientation\":\"v\",\"showlegend\":true,\"textposition\":\"auto\",\"x\":[\"british columbia\"],\"xaxis\":\"x\",\"y\":[4440],\"yaxis\":\"y\",\"type\":\"bar\"}],                        {\"template\":{\"data\":{\"histogram2dcontour\":[{\"type\":\"histogram2dcontour\",\"colorbar\":{\"outlinewidth\":0,\"ticks\":\"\"},\"colorscale\":[[0.0,\"#0d0887\"],[0.1111111111111111,\"#46039f\"],[0.2222222222222222,\"#7201a8\"],[0.3333333333333333,\"#9c179e\"],[0.4444444444444444,\"#bd3786\"],[0.5555555555555556,\"#d8576b\"],[0.6666666666666666,\"#ed7953\"],[0.7777777777777778,\"#fb9f3a\"],[0.8888888888888888,\"#fdca26\"],[1.0,\"#f0f921\"]]}],\"choropleth\":[{\"type\":\"choropleth\",\"colorbar\":{\"outlinewidth\":0,\"ticks\":\"\"}}],\"histogram2d\":[{\"type\":\"histogram2d\",\"colorbar\":{\"outlinewidth\":0,\"ticks\":\"\"},\"colorscale\":[[0.0,\"#0d0887\"],[0.1111111111111111,\"#46039f\"],[0.2222222222222222,\"#7201a8\"],[0.3333333333333333,\"#9c179e\"],[0.4444444444444444,\"#bd3786\"],[0.5555555555555556,\"#d8576b\"],[0.6666666666666666,\"#ed7953\"],[0.7777777777777778,\"#fb9f3a\"],[0.8888888888888888,\"#fdca26\"],[1.0,\"#f0f921\"]]}],\"heatmap\":[{\"type\":\"heatmap\",\"colorbar\":{\"outlinewidth\":0,\"ticks\":\"\"},\"colorscale\":[[0.0,\"#0d0887\"],[0.1111111111111111,\"#46039f\"],[0.2222222222222222,\"#7201a8\"],[0.3333333333333333,\"#9c179e\"],[0.4444444444444444,\"#bd3786\"],[0.5555555555555556,\"#d8576b\"],[0.6666666666666666,\"#ed7953\"],[0.7777777777777778,\"#fb9f3a\"],[0.8888888888888888,\"#fdca26\"],[1.0,\"#f0f921\"]]}],\"heatmapgl\":[{\"type\":\"heatmapgl\",\"colorbar\":{\"outlinewidth\":0,\"ticks\":\"\"},\"colorscale\":[[0.0,\"#0d0887\"],[0.1111111111111111,\"#46039f\"],[0.2222222222222222,\"#7201a8\"],[0.3333333333333333,\"#9c179e\"],[0.4444444444444444,\"#bd3786\"],[0.5555555555555556,\"#d8576b\"],[0.6666666666666666,\"#ed7953\"],[0.7777777777777778,\"#fb9f3a\"],[0.8888888888888888,\"#fdca26\"],[1.0,\"#f0f921\"]]}],\"contourcarpet\":[{\"type\":\"contourcarpet\",\"colorbar\":{\"outlinewidth\":0,\"ticks\":\"\"}}],\"contour\":[{\"type\":\"contour\",\"colorbar\":{\"outlinewidth\":0,\"ticks\":\"\"},\"colorscale\":[[0.0,\"#0d0887\"],[0.1111111111111111,\"#46039f\"],[0.2222222222222222,\"#7201a8\"],[0.3333333333333333,\"#9c179e\"],[0.4444444444444444,\"#bd3786\"],[0.5555555555555556,\"#d8576b\"],[0.6666666666666666,\"#ed7953\"],[0.7777777777777778,\"#fb9f3a\"],[0.8888888888888888,\"#fdca26\"],[1.0,\"#f0f921\"]]}],\"surface\":[{\"type\":\"surface\",\"colorbar\":{\"outlinewidth\":0,\"ticks\":\"\"},\"colorscale\":[[0.0,\"#0d0887\"],[0.1111111111111111,\"#46039f\"],[0.2222222222222222,\"#7201a8\"],[0.3333333333333333,\"#9c179e\"],[0.4444444444444444,\"#bd3786\"],[0.5555555555555556,\"#d8576b\"],[0.6666666666666666,\"#ed7953\"],[0.7777777777777778,\"#fb9f3a\"],[0.8888888888888888,\"#fdca26\"],[1.0,\"#f0f921\"]]}],\"mesh3d\":[{\"type\":\"mesh3d\",\"colorbar\":{\"outlinewidth\":0,\"ticks\":\"\"}}],\"scatter\":[{\"fillpattern\":{\"fillmode\":\"overlay\",\"size\":10,\"solidity\":0.2},\"type\":\"scatter\"}],\"parcoords\":[{\"type\":\"parcoords\",\"line\":{\"colorbar\":{\"outlinewidth\":0,\"ticks\":\"\"}}}],\"scatterpolargl\":[{\"type\":\"scatterpolargl\",\"marker\":{\"colorbar\":{\"outlinewidth\":0,\"ticks\":\"\"}}}],\"bar\":[{\"error_x\":{\"color\":\"#2a3f5f\"},\"error_y\":{\"color\":\"#2a3f5f\"},\"marker\":{\"line\":{\"color\":\"#E5ECF6\",\"width\":0.5},\"pattern\":{\"fillmode\":\"overlay\",\"size\":10,\"solidity\":0.2}},\"type\":\"bar\"}],\"scattergeo\":[{\"type\":\"scattergeo\",\"marker\":{\"colorbar\":{\"outlinewidth\":0,\"ticks\":\"\"}}}],\"scatterpolar\":[{\"type\":\"scatterpolar\",\"marker\":{\"colorbar\":{\"outlinewidth\":0,\"ticks\":\"\"}}}],\"histogram\":[{\"marker\":{\"pattern\":{\"fillmode\":\"overlay\",\"size\":10,\"solidity\":0.2}},\"type\":\"histogram\"}],\"scattergl\":[{\"type\":\"scattergl\",\"marker\":{\"colorbar\":{\"outlinewidth\":0,\"ticks\":\"\"}}}],\"scatter3d\":[{\"type\":\"scatter3d\",\"line\":{\"colorbar\":{\"outlinewidth\":0,\"ticks\":\"\"}},\"marker\":{\"colorbar\":{\"outlinewidth\":0,\"ticks\":\"\"}}}],\"scattermapbox\":[{\"type\":\"scattermapbox\",\"marker\":{\"colorbar\":{\"outlinewidth\":0,\"ticks\":\"\"}}}],\"scatterternary\":[{\"type\":\"scatterternary\",\"marker\":{\"colorbar\":{\"outlinewidth\":0,\"ticks\":\"\"}}}],\"scattercarpet\":[{\"type\":\"scattercarpet\",\"marker\":{\"colorbar\":{\"outlinewidth\":0,\"ticks\":\"\"}}}],\"carpet\":[{\"aaxis\":{\"endlinecolor\":\"#2a3f5f\",\"gridcolor\":\"white\",\"linecolor\":\"white\",\"minorgridcolor\":\"white\",\"startlinecolor\":\"#2a3f5f\"},\"baxis\":{\"endlinecolor\":\"#2a3f5f\",\"gridcolor\":\"white\",\"linecolor\":\"white\",\"minorgridcolor\":\"white\",\"startlinecolor\":\"#2a3f5f\"},\"type\":\"carpet\"}],\"table\":[{\"cells\":{\"fill\":{\"color\":\"#EBF0F8\"},\"line\":{\"color\":\"white\"}},\"header\":{\"fill\":{\"color\":\"#C8D4E3\"},\"line\":{\"color\":\"white\"}},\"type\":\"table\"}],\"barpolar\":[{\"marker\":{\"line\":{\"color\":\"#E5ECF6\",\"width\":0.5},\"pattern\":{\"fillmode\":\"overlay\",\"size\":10,\"solidity\":0.2}},\"type\":\"barpolar\"}],\"pie\":[{\"automargin\":true,\"type\":\"pie\"}]},\"layout\":{\"autotypenumbers\":\"strict\",\"colorway\":[\"#636efa\",\"#EF553B\",\"#00cc96\",\"#ab63fa\",\"#FFA15A\",\"#19d3f3\",\"#FF6692\",\"#B6E880\",\"#FF97FF\",\"#FECB52\"],\"font\":{\"color\":\"#2a3f5f\"},\"hovermode\":\"closest\",\"hoverlabel\":{\"align\":\"left\"},\"paper_bgcolor\":\"white\",\"plot_bgcolor\":\"#E5ECF6\",\"polar\":{\"bgcolor\":\"#E5ECF6\",\"angularaxis\":{\"gridcolor\":\"white\",\"linecolor\":\"white\",\"ticks\":\"\"},\"radialaxis\":{\"gridcolor\":\"white\",\"linecolor\":\"white\",\"ticks\":\"\"}},\"ternary\":{\"bgcolor\":\"#E5ECF6\",\"aaxis\":{\"gridcolor\":\"white\",\"linecolor\":\"white\",\"ticks\":\"\"},\"baxis\":{\"gridcolor\":\"white\",\"linecolor\":\"white\",\"ticks\":\"\"},\"caxis\":{\"gridcolor\":\"white\",\"linecolor\":\"white\",\"ticks\":\"\"}},\"coloraxis\":{\"colorbar\":{\"outlinewidth\":0,\"ticks\":\"\"}},\"colorscale\":{\"sequential\":[[0.0,\"#0d0887\"],[0.1111111111111111,\"#46039f\"],[0.2222222222222222,\"#7201a8\"],[0.3333333333333333,\"#9c179e\"],[0.4444444444444444,\"#bd3786\"],[0.5555555555555556,\"#d8576b\"],[0.6666666666666666,\"#ed7953\"],[0.7777777777777778,\"#fb9f3a\"],[0.8888888888888888,\"#fdca26\"],[1.0,\"#f0f921\"]],\"sequentialminus\":[[0.0,\"#0d0887\"],[0.1111111111111111,\"#46039f\"],[0.2222222222222222,\"#7201a8\"],[0.3333333333333333,\"#9c179e\"],[0.4444444444444444,\"#bd3786\"],[0.5555555555555556,\"#d8576b\"],[0.6666666666666666,\"#ed7953\"],[0.7777777777777778,\"#fb9f3a\"],[0.8888888888888888,\"#fdca26\"],[1.0,\"#f0f921\"]],\"diverging\":[[0,\"#8e0152\"],[0.1,\"#c51b7d\"],[0.2,\"#de77ae\"],[0.3,\"#f1b6da\"],[0.4,\"#fde0ef\"],[0.5,\"#f7f7f7\"],[0.6,\"#e6f5d0\"],[0.7,\"#b8e186\"],[0.8,\"#7fbc41\"],[0.9,\"#4d9221\"],[1,\"#276419\"]]},\"xaxis\":{\"gridcolor\":\"white\",\"linecolor\":\"white\",\"ticks\":\"\",\"title\":{\"standoff\":15},\"zerolinecolor\":\"white\",\"automargin\":true,\"zerolinewidth\":2},\"yaxis\":{\"gridcolor\":\"white\",\"linecolor\":\"white\",\"ticks\":\"\",\"title\":{\"standoff\":15},\"zerolinecolor\":\"white\",\"automargin\":true,\"zerolinewidth\":2},\"scene\":{\"xaxis\":{\"backgroundcolor\":\"#E5ECF6\",\"gridcolor\":\"white\",\"linecolor\":\"white\",\"showbackground\":true,\"ticks\":\"\",\"zerolinecolor\":\"white\",\"gridwidth\":2},\"yaxis\":{\"backgroundcolor\":\"#E5ECF6\",\"gridcolor\":\"white\",\"linecolor\":\"white\",\"showbackground\":true,\"ticks\":\"\",\"zerolinecolor\":\"white\",\"gridwidth\":2},\"zaxis\":{\"backgroundcolor\":\"#E5ECF6\",\"gridcolor\":\"white\",\"linecolor\":\"white\",\"showbackground\":true,\"ticks\":\"\",\"zerolinecolor\":\"white\",\"gridwidth\":2}},\"shapedefaults\":{\"line\":{\"color\":\"#2a3f5f\"}},\"annotationdefaults\":{\"arrowcolor\":\"#2a3f5f\",\"arrowhead\":0,\"arrowwidth\":1},\"geo\":{\"bgcolor\":\"white\",\"landcolor\":\"#E5ECF6\",\"subunitcolor\":\"white\",\"showland\":true,\"showlakes\":true,\"lakecolor\":\"white\"},\"title\":{\"x\":0.05},\"mapbox\":{\"style\":\"light\"}}},\"xaxis\":{\"anchor\":\"y\",\"domain\":[0.0,1.0],\"title\":{\"text\":\"Localidad\"},\"categoryorder\":\"array\",\"categoryarray\":[\"canada\",\"ontario\",\"manitoba\",\"saskatchewan\",\"alberta\",\"british columbia\"]},\"yaxis\":{\"anchor\":\"x\",\"domain\":[0.0,1.0],\"title\":{\"text\":\"N\\u00famero de Incendios\"}},\"legend\":{\"title\":{\"text\":\"Localidad\"},\"tracegroupgap\":0},\"title\":{\"text\":\"N\\u00famero de Incendios por Localidad\"},\"barmode\":\"relative\"},                        {\"responsive\": true}                    ).then(function(){\n",
              "                            \n",
              "var gd = document.getElementById('5593fc6c-675d-483c-a989-3133cb8aa0ac');\n",
              "var x = new MutationObserver(function (mutations, observer) {{\n",
              "        var display = window.getComputedStyle(gd).display;\n",
              "        if (!display || display === 'none') {{\n",
              "            console.log([gd, 'removed!']);\n",
              "            Plotly.purge(gd);\n",
              "            observer.disconnect();\n",
              "        }}\n",
              "}});\n",
              "\n",
              "// Listen for the removal of the full notebook cells\n",
              "var notebookContainer = gd.closest('#notebook-container');\n",
              "if (notebookContainer) {{\n",
              "    x.observe(notebookContainer, {childList: true});\n",
              "}}\n",
              "\n",
              "// Listen for the clearing of the current output cell\n",
              "var outputEl = gd.closest('.output');\n",
              "if (outputEl) {{\n",
              "    x.observe(outputEl, {childList: true});\n",
              "}}\n",
              "\n",
              "                        })                };                            </script>        </div>\n",
              "</body>\n",
              "</html>"
            ]
          },
          "metadata": {}
        }
      ]
    },
    {
      "cell_type": "markdown",
      "source": [
        "Se observa que extrañamente la localidad de Canadá es la única con datos diferentes al resto de localidades, las cuales tienen un número similar de eventos correspondiente a 4440."
      ],
      "metadata": {
        "id": "z4V8IQvI8q36"
      }
    },
    {
      "cell_type": "markdown",
      "source": [
        "# 7. ¿Cuál es la distribución de los incendios (residenciales/no residenciales)?\n",
        "Se muestra en gráfico de torta para apreciar el comparativo."
      ],
      "metadata": {
        "id": "qzXsRQVLcR9L"
      }
    },
    {
      "cell_type": "code",
      "source": [
        "DESA.columns\n",
        "#count_fire = DESA[DESA['EVENT SUBGROUP'] == 'fire']['EVENT SUBGROUP'].value_counts()\n",
        "#count_fire\n"
      ],
      "metadata": {
        "colab": {
          "base_uri": "https://localhost:8080/"
        },
        "id": "EiW9ikDfFjzO",
        "outputId": "e606e7f3-04de-4887-99b0-1beeb2bcfb32"
      },
      "execution_count": 52,
      "outputs": [
        {
          "output_type": "execute_result",
          "data": {
            "text/plain": [
              "Index(['YEAR', 'MONTH', 'DAY', 'EVENT GROUP', 'EVENT SUBGROUP', 'EVENT TYPE',\n",
              "       'FATALITIES', 'INJURED / INFECTED', 'ESTIMATED TOTAL COST',\n",
              "       'NORMALIZED TOTAL COST', 'MAGNITUDE', 'PLACE', 'WEEKDAY'],\n",
              "      dtype='object')"
            ]
          },
          "metadata": {},
          "execution_count": 52
        }
      ]
    },
    {
      "cell_type": "code",
      "source": [
        "event_types = DESA['EVENT SUBGROUP'].unique()\n",
        "event_types"
      ],
      "metadata": {
        "colab": {
          "base_uri": "https://localhost:8080/"
        },
        "id": "KeZ_1-nQHL8D",
        "outputId": "b6e7e852-97b2-41c1-a59b-e231350674f1"
      },
      "execution_count": 53,
      "outputs": [
        {
          "output_type": "execute_result",
          "data": {
            "text/plain": [
              "array(['transportation accident', 'meteorological - hydrological',\n",
              "       'hazardous chemicals', 'biological', 'infrastructure failure',\n",
              "       'geological', 'terrorist', 'fire', 'explosion', 'civil incident',\n",
              "       'space event', 'SIN'], dtype=object)"
            ]
          },
          "metadata": {},
          "execution_count": 53
        }
      ]
    },
    {
      "cell_type": "code",
      "source": [
        "event_types = DESA['EVENT TYPE'].unique()\n",
        "event_types"
      ],
      "metadata": {
        "colab": {
          "base_uri": "https://localhost:8080/"
        },
        "id": "5PXFjMn0GnIR",
        "outputId": "9fed0cbf-2c0a-4b5a-a776-694c6a36126d"
      },
      "execution_count": 54,
      "outputs": [
        {
          "output_type": "execute_result",
          "data": {
            "text/plain": [
              "array(['marine', 'storm', 'leak / spill release',\n",
              "       'infestation/epidemic/pandemic', 'head event/drought',\n",
              "       'cold event', 'communications', 'flood', 'rail', 'air', 'fire',\n",
              "       'earthquake', 'storm surge', 'avalanche', 'derailment release',\n",
              "       'landslide', 'bomb attacks', 'non-residential', 'tsunami',\n",
              "       'residential', 'marine release', 'vehicle',\n",
              "       'disturbance / demonstrations', 'volcano',\n",
              "       'manufacturing / industry', 'water', 'kidnapping / murder',\n",
              "       'space debris', 'energy', 'shootings', 'SIN', 'chemical'],\n",
              "      dtype=object)"
            ]
          },
          "metadata": {},
          "execution_count": 54
        }
      ]
    },
    {
      "cell_type": "code",
      "source": [
        "fire_rows = DESA[(DESA['EVENT TYPE'] == 'residential') & (DESA['EVENT SUBGROUP'] == 'fire')]\n",
        "fire_rows\n"
      ],
      "metadata": {
        "colab": {
          "base_uri": "https://localhost:8080/",
          "height": 1000
        },
        "id": "08nBhcJHFv12",
        "outputId": "30f382eb-8be7-40f8-a671-edfbf91f8d97"
      },
      "execution_count": 55,
      "outputs": [
        {
          "output_type": "execute_result",
          "data": {
            "text/plain": [
              "           YEAR MONTH        DAY EVENT GROUP EVENT SUBGROUP   EVENT TYPE  \\\n",
              "88   2002-01-01   NaT 1900-01-30  technology           fire  residential   \n",
              "115  1980-01-01   NaT 1900-01-01    conflict           fire  residential   \n",
              "173  1969-01-01   NaT 1900-01-01  technology           fire  residential   \n",
              "198  2007-01-01   NaT 1900-01-21  technology           fire  residential   \n",
              "215  1908-01-01   NaT 1900-01-01  technology           fire  residential   \n",
              "278  1980-01-01   NaT 1900-01-01  technology           fire  residential   \n",
              "306  1991-01-01   NaT 1900-01-26  technology           fire  residential   \n",
              "345  1959-01-01   NaT 1900-01-01  technology           fire  residential   \n",
              "363  1930-01-01   NaT 1900-01-01  technology           fire  residential   \n",
              "398  1921-01-01   NaT 1900-01-01  technology           fire  residential   \n",
              "405  1980-01-01   NaT 1900-01-14  technology           fire  residential   \n",
              "414  1986-01-01   NaT 1900-01-26  technology           fire  residential   \n",
              "421  1927-01-01   NaT 1900-01-09  technology           fire  residential   \n",
              "422  1958-01-01   NaT 1900-01-07  technology           fire  residential   \n",
              "428  1972-01-01   NaT 1900-01-01    conflict           fire  residential   \n",
              "431  1992-01-01   NaT 1900-01-16  technology           fire  residential   \n",
              "515  2002-01-01   NaT 1900-01-14  technology           fire  residential   \n",
              "516  1969-01-01   NaT 1900-01-02  technology           fire  residential   \n",
              "522  1939-01-01   NaT 1900-01-02  technology           fire  residential   \n",
              "553  1916-01-01   NaT 1900-01-03  technology           fire  residential   \n",
              "575  1976-01-01   NaT 1900-01-26  technology           fire  residential   \n",
              "702  1977-01-01   NaT 1900-01-01  technology           fire  residential   \n",
              "852  1992-01-01   NaT 1900-01-21  technology           fire  residential   \n",
              "854  1942-01-01   NaT 1900-01-12    conflict           fire  residential   \n",
              "1027 2014-01-01   NaT 1900-01-23  technology           fire  residential   \n",
              "1076 2016-01-01   NaT 1900-01-29  technology           fire  residential   \n",
              "1148 1971-01-01   NaT 1900-01-22  technology           fire  residential   \n",
              "1149 1930-01-01   NaT 1900-01-26  technology           fire  residential   \n",
              "1156 1918-01-01   NaT 1900-01-14  technology           fire  residential   \n",
              "1183 1946-01-01   NaT 1900-01-08  technology           fire  residential   \n",
              "1194 1906-01-01   NaT 1900-01-10  technology           fire  residential   \n",
              "1196 1961-01-01   NaT 1900-01-20    conflict           fire  residential   \n",
              "1209 1927-01-01   NaT 1900-01-14  technology           fire  residential   \n",
              "1224 1974-01-01   NaT 1900-01-18  technology           fire  residential   \n",
              "1225 1938-01-01   NaT 1900-01-18  technology           fire  residential   \n",
              "1241 1951-01-01   NaT 1900-01-15  technology           fire  residential   \n",
              "1248 1903-01-01   NaT 1900-01-03  technology           fire  residential   \n",
              "1305 1927-01-01   NaT 1900-01-19  technology           fire  residential   \n",
              "1312 1922-01-01   NaT 1900-01-15  technology           fire  residential   \n",
              "1314 1916-01-01   NaT 1900-01-30  technology           fire  residential   \n",
              "1382 1901-01-01   NaT 1900-01-10  technology           fire  residential   \n",
              "\n",
              "      FATALITIES INJURED / INFECTED ESTIMATED TOTAL COST  \\\n",
              "88           0.0                0.0                00000   \n",
              "115         45.0               55.0                  NaN   \n",
              "173         13.0                0.0                  NaN   \n",
              "198          0.0                0.0                00000   \n",
              "215        100.0                0.0                  NaN   \n",
              "278          0.0                0.0                  NaN   \n",
              "306          0.0                1.0                  NaN   \n",
              "345          0.0                0.0                  NaN   \n",
              "363          0.0                0.0                  NaN   \n",
              "398          NaN                SIN                  NaN   \n",
              "405         21.0               35.0                  NaN   \n",
              "414          0.0                0.0                  NaN   \n",
              "421         76.0                0.0                  NaN   \n",
              "422         18.0                0.0                  NaN   \n",
              "428         37.0               50.0                  NaN   \n",
              "431          0.0                0.0                  NaN   \n",
              "515          0.0                0.0                00000   \n",
              "516         38.0               30.0                  NaN   \n",
              "522          0.0                0.0                  NaN   \n",
              "553          7.0                0.0                  NaN   \n",
              "575         21.0                0.0                  NaN   \n",
              "702         20.0                0.0                  NaN   \n",
              "852          0.0                0.0                  NaN   \n",
              "854         99.0              100.0                  NaN   \n",
              "1027        32.0               15.0                00000   \n",
              "1076         9.0                SIN                00000   \n",
              "1148        32.0                4.0                  NaN   \n",
              "1149        13.0                SIN                  NaN   \n",
              "1156        53.0                SIN                  NaN   \n",
              "1183        11.0               18.0                  NaN   \n",
              "1194         NaN                SIN                  NaN   \n",
              "1196         0.0                SIN                  NaN   \n",
              "1209        37.0                SIN                  NaN   \n",
              "1224         9.0               25.0                  NaN   \n",
              "1225        45.0               21.0                  NaN   \n",
              "1241        35.0                SIN                  NaN   \n",
              "1248         NaN                SIN                  NaN   \n",
              "1305        20.0                SIN                  NaN   \n",
              "1312        12.0                SIN                  NaN   \n",
              "1314        46.0                SIN                  NaN   \n",
              "1382         NaN                0.0                  NaN   \n",
              "\n",
              "      NORMALIZED TOTAL COST MAGNITUDE                             PLACE  \\\n",
              "88                      0.0       0.0                        calgary ab   \n",
              "115                     NaN       0.0  chapais region of chibougamau qc   \n",
              "173                     NaN       0.0                      dunnville on   \n",
              "198                     0.0       0.0                       edmonton ab   \n",
              "215                     NaN       0.0                         fernie bc   \n",
              "278                     NaN       0.0                       hamilton on   \n",
              "306                     NaN       0.0                         jarvis on   \n",
              "345                     NaN       0.0                         lanark on   \n",
              "363                     NaN       0.0                      liverpool ns   \n",
              "398                     NaN       0.0              merville and lang bc   \n",
              "405                     NaN       0.0                    mississauga on   \n",
              "414                     NaN       0.0         montreal and westmount qc   \n",
              "421                     NaN       0.0                       montreal qc   \n",
              "422                     NaN       0.0                       montreal qc   \n",
              "428                     NaN       0.0                       montreal qc   \n",
              "431                     NaN       0.0                       montréal qc   \n",
              "515                     0.0       0.0              notre-dame-du-lac qc   \n",
              "516                     NaN       0.0              notre-dame-du-lac qc   \n",
              "522                     NaN       0.0                       nova scotia   \n",
              "553                     NaN       0.0                         ottawa on   \n",
              "575                     NaN       0.0                  petty harbour nl   \n",
              "702                     NaN       0.0                     saint john nb   \n",
              "852                     NaN       0.0                     st. john's nl   \n",
              "854                     NaN       0.0                     st. john's nl   \n",
              "1027                    0.0       SIN                   l’isle-verte qc   \n",
              "1076                    0.0       SIN        pikangikum first nation on   \n",
              "1148                    NaN       0.0              off british columbia   \n",
              "1149                    NaN       0.0              cross lake, manitoba   \n",
              "1156                    NaN       0.0                  montreal, quebec   \n",
              "1183                    NaN       0.0           saskatoon, saskatchewan   \n",
              "1194                    NaN       0.0                      hull, quebec   \n",
              "1196                    NaN       0.0       ootchenia, british columbia   \n",
              "1209                    NaN       0.0               quebec city, quebec   \n",
              "1224                    NaN       0.0                winnipeg, manitoba   \n",
              "1225                    NaN       0.0           saint-hyacinthe, quebec   \n",
              "1241                    NaN       0.0                  montreal, quebec   \n",
              "1248                    NaN       0.0                      hull, quebec   \n",
              "1305                    NaN       0.0             beauval, saskatchewan   \n",
              "1312                    NaN       0.0                   prevost, quebec   \n",
              "1314                    NaN       0.0               saint-ferdinand, qc   \n",
              "1382                    NaN       SIN          michel, british columbia   \n",
              "\n",
              "        WEEKDAY  \n",
              "88      Tuesday  \n",
              "115      Monday  \n",
              "173      Monday  \n",
              "198      Sunday  \n",
              "215      Monday  \n",
              "278      Monday  \n",
              "306      Friday  \n",
              "345      Monday  \n",
              "363      Monday  \n",
              "398      Monday  \n",
              "405      Sunday  \n",
              "414      Friday  \n",
              "421     Tuesday  \n",
              "422      Sunday  \n",
              "428      Monday  \n",
              "431     Tuesday  \n",
              "515      Sunday  \n",
              "516     Tuesday  \n",
              "522     Tuesday  \n",
              "553   Wednesday  \n",
              "575      Friday  \n",
              "702      Monday  \n",
              "852      Sunday  \n",
              "854      Friday  \n",
              "1027    Tuesday  \n",
              "1076     Monday  \n",
              "1148     Monday  \n",
              "1149     Friday  \n",
              "1156     Sunday  \n",
              "1183     Monday  \n",
              "1194  Wednesday  \n",
              "1196   Saturday  \n",
              "1209     Sunday  \n",
              "1224   Thursday  \n",
              "1225   Thursday  \n",
              "1241     Monday  \n",
              "1248  Wednesday  \n",
              "1305     Friday  \n",
              "1312     Monday  \n",
              "1314    Tuesday  \n",
              "1382  Wednesday  "
            ],
            "text/html": [
              "\n",
              "  <div id=\"df-c9e11fe0-b722-423a-8b33-c8a5ada6ea7d\">\n",
              "    <div class=\"colab-df-container\">\n",
              "      <div>\n",
              "<style scoped>\n",
              "    .dataframe tbody tr th:only-of-type {\n",
              "        vertical-align: middle;\n",
              "    }\n",
              "\n",
              "    .dataframe tbody tr th {\n",
              "        vertical-align: top;\n",
              "    }\n",
              "\n",
              "    .dataframe thead th {\n",
              "        text-align: right;\n",
              "    }\n",
              "</style>\n",
              "<table border=\"1\" class=\"dataframe\">\n",
              "  <thead>\n",
              "    <tr style=\"text-align: right;\">\n",
              "      <th></th>\n",
              "      <th>YEAR</th>\n",
              "      <th>MONTH</th>\n",
              "      <th>DAY</th>\n",
              "      <th>EVENT GROUP</th>\n",
              "      <th>EVENT SUBGROUP</th>\n",
              "      <th>EVENT TYPE</th>\n",
              "      <th>FATALITIES</th>\n",
              "      <th>INJURED / INFECTED</th>\n",
              "      <th>ESTIMATED TOTAL COST</th>\n",
              "      <th>NORMALIZED TOTAL COST</th>\n",
              "      <th>MAGNITUDE</th>\n",
              "      <th>PLACE</th>\n",
              "      <th>WEEKDAY</th>\n",
              "    </tr>\n",
              "  </thead>\n",
              "  <tbody>\n",
              "    <tr>\n",
              "      <th>88</th>\n",
              "      <td>2002-01-01</td>\n",
              "      <td>NaT</td>\n",
              "      <td>1900-01-30</td>\n",
              "      <td>technology</td>\n",
              "      <td>fire</td>\n",
              "      <td>residential</td>\n",
              "      <td>0.0</td>\n",
              "      <td>0.0</td>\n",
              "      <td>00000</td>\n",
              "      <td>0.0</td>\n",
              "      <td>0.0</td>\n",
              "      <td>calgary ab</td>\n",
              "      <td>Tuesday</td>\n",
              "    </tr>\n",
              "    <tr>\n",
              "      <th>115</th>\n",
              "      <td>1980-01-01</td>\n",
              "      <td>NaT</td>\n",
              "      <td>1900-01-01</td>\n",
              "      <td>conflict</td>\n",
              "      <td>fire</td>\n",
              "      <td>residential</td>\n",
              "      <td>45.0</td>\n",
              "      <td>55.0</td>\n",
              "      <td>NaN</td>\n",
              "      <td>NaN</td>\n",
              "      <td>0.0</td>\n",
              "      <td>chapais region of chibougamau qc</td>\n",
              "      <td>Monday</td>\n",
              "    </tr>\n",
              "    <tr>\n",
              "      <th>173</th>\n",
              "      <td>1969-01-01</td>\n",
              "      <td>NaT</td>\n",
              "      <td>1900-01-01</td>\n",
              "      <td>technology</td>\n",
              "      <td>fire</td>\n",
              "      <td>residential</td>\n",
              "      <td>13.0</td>\n",
              "      <td>0.0</td>\n",
              "      <td>NaN</td>\n",
              "      <td>NaN</td>\n",
              "      <td>0.0</td>\n",
              "      <td>dunnville on</td>\n",
              "      <td>Monday</td>\n",
              "    </tr>\n",
              "    <tr>\n",
              "      <th>198</th>\n",
              "      <td>2007-01-01</td>\n",
              "      <td>NaT</td>\n",
              "      <td>1900-01-21</td>\n",
              "      <td>technology</td>\n",
              "      <td>fire</td>\n",
              "      <td>residential</td>\n",
              "      <td>0.0</td>\n",
              "      <td>0.0</td>\n",
              "      <td>00000</td>\n",
              "      <td>0.0</td>\n",
              "      <td>0.0</td>\n",
              "      <td>edmonton ab</td>\n",
              "      <td>Sunday</td>\n",
              "    </tr>\n",
              "    <tr>\n",
              "      <th>215</th>\n",
              "      <td>1908-01-01</td>\n",
              "      <td>NaT</td>\n",
              "      <td>1900-01-01</td>\n",
              "      <td>technology</td>\n",
              "      <td>fire</td>\n",
              "      <td>residential</td>\n",
              "      <td>100.0</td>\n",
              "      <td>0.0</td>\n",
              "      <td>NaN</td>\n",
              "      <td>NaN</td>\n",
              "      <td>0.0</td>\n",
              "      <td>fernie bc</td>\n",
              "      <td>Monday</td>\n",
              "    </tr>\n",
              "    <tr>\n",
              "      <th>278</th>\n",
              "      <td>1980-01-01</td>\n",
              "      <td>NaT</td>\n",
              "      <td>1900-01-01</td>\n",
              "      <td>technology</td>\n",
              "      <td>fire</td>\n",
              "      <td>residential</td>\n",
              "      <td>0.0</td>\n",
              "      <td>0.0</td>\n",
              "      <td>NaN</td>\n",
              "      <td>NaN</td>\n",
              "      <td>0.0</td>\n",
              "      <td>hamilton on</td>\n",
              "      <td>Monday</td>\n",
              "    </tr>\n",
              "    <tr>\n",
              "      <th>306</th>\n",
              "      <td>1991-01-01</td>\n",
              "      <td>NaT</td>\n",
              "      <td>1900-01-26</td>\n",
              "      <td>technology</td>\n",
              "      <td>fire</td>\n",
              "      <td>residential</td>\n",
              "      <td>0.0</td>\n",
              "      <td>1.0</td>\n",
              "      <td>NaN</td>\n",
              "      <td>NaN</td>\n",
              "      <td>0.0</td>\n",
              "      <td>jarvis on</td>\n",
              "      <td>Friday</td>\n",
              "    </tr>\n",
              "    <tr>\n",
              "      <th>345</th>\n",
              "      <td>1959-01-01</td>\n",
              "      <td>NaT</td>\n",
              "      <td>1900-01-01</td>\n",
              "      <td>technology</td>\n",
              "      <td>fire</td>\n",
              "      <td>residential</td>\n",
              "      <td>0.0</td>\n",
              "      <td>0.0</td>\n",
              "      <td>NaN</td>\n",
              "      <td>NaN</td>\n",
              "      <td>0.0</td>\n",
              "      <td>lanark on</td>\n",
              "      <td>Monday</td>\n",
              "    </tr>\n",
              "    <tr>\n",
              "      <th>363</th>\n",
              "      <td>1930-01-01</td>\n",
              "      <td>NaT</td>\n",
              "      <td>1900-01-01</td>\n",
              "      <td>technology</td>\n",
              "      <td>fire</td>\n",
              "      <td>residential</td>\n",
              "      <td>0.0</td>\n",
              "      <td>0.0</td>\n",
              "      <td>NaN</td>\n",
              "      <td>NaN</td>\n",
              "      <td>0.0</td>\n",
              "      <td>liverpool ns</td>\n",
              "      <td>Monday</td>\n",
              "    </tr>\n",
              "    <tr>\n",
              "      <th>398</th>\n",
              "      <td>1921-01-01</td>\n",
              "      <td>NaT</td>\n",
              "      <td>1900-01-01</td>\n",
              "      <td>technology</td>\n",
              "      <td>fire</td>\n",
              "      <td>residential</td>\n",
              "      <td>NaN</td>\n",
              "      <td>SIN</td>\n",
              "      <td>NaN</td>\n",
              "      <td>NaN</td>\n",
              "      <td>0.0</td>\n",
              "      <td>merville and lang bc</td>\n",
              "      <td>Monday</td>\n",
              "    </tr>\n",
              "    <tr>\n",
              "      <th>405</th>\n",
              "      <td>1980-01-01</td>\n",
              "      <td>NaT</td>\n",
              "      <td>1900-01-14</td>\n",
              "      <td>technology</td>\n",
              "      <td>fire</td>\n",
              "      <td>residential</td>\n",
              "      <td>21.0</td>\n",
              "      <td>35.0</td>\n",
              "      <td>NaN</td>\n",
              "      <td>NaN</td>\n",
              "      <td>0.0</td>\n",
              "      <td>mississauga on</td>\n",
              "      <td>Sunday</td>\n",
              "    </tr>\n",
              "    <tr>\n",
              "      <th>414</th>\n",
              "      <td>1986-01-01</td>\n",
              "      <td>NaT</td>\n",
              "      <td>1900-01-26</td>\n",
              "      <td>technology</td>\n",
              "      <td>fire</td>\n",
              "      <td>residential</td>\n",
              "      <td>0.0</td>\n",
              "      <td>0.0</td>\n",
              "      <td>NaN</td>\n",
              "      <td>NaN</td>\n",
              "      <td>0.0</td>\n",
              "      <td>montreal and westmount qc</td>\n",
              "      <td>Friday</td>\n",
              "    </tr>\n",
              "    <tr>\n",
              "      <th>421</th>\n",
              "      <td>1927-01-01</td>\n",
              "      <td>NaT</td>\n",
              "      <td>1900-01-09</td>\n",
              "      <td>technology</td>\n",
              "      <td>fire</td>\n",
              "      <td>residential</td>\n",
              "      <td>76.0</td>\n",
              "      <td>0.0</td>\n",
              "      <td>NaN</td>\n",
              "      <td>NaN</td>\n",
              "      <td>0.0</td>\n",
              "      <td>montreal qc</td>\n",
              "      <td>Tuesday</td>\n",
              "    </tr>\n",
              "    <tr>\n",
              "      <th>422</th>\n",
              "      <td>1958-01-01</td>\n",
              "      <td>NaT</td>\n",
              "      <td>1900-01-07</td>\n",
              "      <td>technology</td>\n",
              "      <td>fire</td>\n",
              "      <td>residential</td>\n",
              "      <td>18.0</td>\n",
              "      <td>0.0</td>\n",
              "      <td>NaN</td>\n",
              "      <td>NaN</td>\n",
              "      <td>0.0</td>\n",
              "      <td>montreal qc</td>\n",
              "      <td>Sunday</td>\n",
              "    </tr>\n",
              "    <tr>\n",
              "      <th>428</th>\n",
              "      <td>1972-01-01</td>\n",
              "      <td>NaT</td>\n",
              "      <td>1900-01-01</td>\n",
              "      <td>conflict</td>\n",
              "      <td>fire</td>\n",
              "      <td>residential</td>\n",
              "      <td>37.0</td>\n",
              "      <td>50.0</td>\n",
              "      <td>NaN</td>\n",
              "      <td>NaN</td>\n",
              "      <td>0.0</td>\n",
              "      <td>montreal qc</td>\n",
              "      <td>Monday</td>\n",
              "    </tr>\n",
              "    <tr>\n",
              "      <th>431</th>\n",
              "      <td>1992-01-01</td>\n",
              "      <td>NaT</td>\n",
              "      <td>1900-01-16</td>\n",
              "      <td>technology</td>\n",
              "      <td>fire</td>\n",
              "      <td>residential</td>\n",
              "      <td>0.0</td>\n",
              "      <td>0.0</td>\n",
              "      <td>NaN</td>\n",
              "      <td>NaN</td>\n",
              "      <td>0.0</td>\n",
              "      <td>montréal qc</td>\n",
              "      <td>Tuesday</td>\n",
              "    </tr>\n",
              "    <tr>\n",
              "      <th>515</th>\n",
              "      <td>2002-01-01</td>\n",
              "      <td>NaT</td>\n",
              "      <td>1900-01-14</td>\n",
              "      <td>technology</td>\n",
              "      <td>fire</td>\n",
              "      <td>residential</td>\n",
              "      <td>0.0</td>\n",
              "      <td>0.0</td>\n",
              "      <td>00000</td>\n",
              "      <td>0.0</td>\n",
              "      <td>0.0</td>\n",
              "      <td>notre-dame-du-lac qc</td>\n",
              "      <td>Sunday</td>\n",
              "    </tr>\n",
              "    <tr>\n",
              "      <th>516</th>\n",
              "      <td>1969-01-01</td>\n",
              "      <td>NaT</td>\n",
              "      <td>1900-01-02</td>\n",
              "      <td>technology</td>\n",
              "      <td>fire</td>\n",
              "      <td>residential</td>\n",
              "      <td>38.0</td>\n",
              "      <td>30.0</td>\n",
              "      <td>NaN</td>\n",
              "      <td>NaN</td>\n",
              "      <td>0.0</td>\n",
              "      <td>notre-dame-du-lac qc</td>\n",
              "      <td>Tuesday</td>\n",
              "    </tr>\n",
              "    <tr>\n",
              "      <th>522</th>\n",
              "      <td>1939-01-01</td>\n",
              "      <td>NaT</td>\n",
              "      <td>1900-01-02</td>\n",
              "      <td>technology</td>\n",
              "      <td>fire</td>\n",
              "      <td>residential</td>\n",
              "      <td>0.0</td>\n",
              "      <td>0.0</td>\n",
              "      <td>NaN</td>\n",
              "      <td>NaN</td>\n",
              "      <td>0.0</td>\n",
              "      <td>nova scotia</td>\n",
              "      <td>Tuesday</td>\n",
              "    </tr>\n",
              "    <tr>\n",
              "      <th>553</th>\n",
              "      <td>1916-01-01</td>\n",
              "      <td>NaT</td>\n",
              "      <td>1900-01-03</td>\n",
              "      <td>technology</td>\n",
              "      <td>fire</td>\n",
              "      <td>residential</td>\n",
              "      <td>7.0</td>\n",
              "      <td>0.0</td>\n",
              "      <td>NaN</td>\n",
              "      <td>NaN</td>\n",
              "      <td>0.0</td>\n",
              "      <td>ottawa on</td>\n",
              "      <td>Wednesday</td>\n",
              "    </tr>\n",
              "    <tr>\n",
              "      <th>575</th>\n",
              "      <td>1976-01-01</td>\n",
              "      <td>NaT</td>\n",
              "      <td>1900-01-26</td>\n",
              "      <td>technology</td>\n",
              "      <td>fire</td>\n",
              "      <td>residential</td>\n",
              "      <td>21.0</td>\n",
              "      <td>0.0</td>\n",
              "      <td>NaN</td>\n",
              "      <td>NaN</td>\n",
              "      <td>0.0</td>\n",
              "      <td>petty harbour nl</td>\n",
              "      <td>Friday</td>\n",
              "    </tr>\n",
              "    <tr>\n",
              "      <th>702</th>\n",
              "      <td>1977-01-01</td>\n",
              "      <td>NaT</td>\n",
              "      <td>1900-01-01</td>\n",
              "      <td>technology</td>\n",
              "      <td>fire</td>\n",
              "      <td>residential</td>\n",
              "      <td>20.0</td>\n",
              "      <td>0.0</td>\n",
              "      <td>NaN</td>\n",
              "      <td>NaN</td>\n",
              "      <td>0.0</td>\n",
              "      <td>saint john nb</td>\n",
              "      <td>Monday</td>\n",
              "    </tr>\n",
              "    <tr>\n",
              "      <th>852</th>\n",
              "      <td>1992-01-01</td>\n",
              "      <td>NaT</td>\n",
              "      <td>1900-01-21</td>\n",
              "      <td>technology</td>\n",
              "      <td>fire</td>\n",
              "      <td>residential</td>\n",
              "      <td>0.0</td>\n",
              "      <td>0.0</td>\n",
              "      <td>NaN</td>\n",
              "      <td>NaN</td>\n",
              "      <td>0.0</td>\n",
              "      <td>st. john's nl</td>\n",
              "      <td>Sunday</td>\n",
              "    </tr>\n",
              "    <tr>\n",
              "      <th>854</th>\n",
              "      <td>1942-01-01</td>\n",
              "      <td>NaT</td>\n",
              "      <td>1900-01-12</td>\n",
              "      <td>conflict</td>\n",
              "      <td>fire</td>\n",
              "      <td>residential</td>\n",
              "      <td>99.0</td>\n",
              "      <td>100.0</td>\n",
              "      <td>NaN</td>\n",
              "      <td>NaN</td>\n",
              "      <td>0.0</td>\n",
              "      <td>st. john's nl</td>\n",
              "      <td>Friday</td>\n",
              "    </tr>\n",
              "    <tr>\n",
              "      <th>1027</th>\n",
              "      <td>2014-01-01</td>\n",
              "      <td>NaT</td>\n",
              "      <td>1900-01-23</td>\n",
              "      <td>technology</td>\n",
              "      <td>fire</td>\n",
              "      <td>residential</td>\n",
              "      <td>32.0</td>\n",
              "      <td>15.0</td>\n",
              "      <td>00000</td>\n",
              "      <td>0.0</td>\n",
              "      <td>SIN</td>\n",
              "      <td>l’isle-verte qc</td>\n",
              "      <td>Tuesday</td>\n",
              "    </tr>\n",
              "    <tr>\n",
              "      <th>1076</th>\n",
              "      <td>2016-01-01</td>\n",
              "      <td>NaT</td>\n",
              "      <td>1900-01-29</td>\n",
              "      <td>technology</td>\n",
              "      <td>fire</td>\n",
              "      <td>residential</td>\n",
              "      <td>9.0</td>\n",
              "      <td>SIN</td>\n",
              "      <td>00000</td>\n",
              "      <td>0.0</td>\n",
              "      <td>SIN</td>\n",
              "      <td>pikangikum first nation on</td>\n",
              "      <td>Monday</td>\n",
              "    </tr>\n",
              "    <tr>\n",
              "      <th>1148</th>\n",
              "      <td>1971-01-01</td>\n",
              "      <td>NaT</td>\n",
              "      <td>1900-01-22</td>\n",
              "      <td>technology</td>\n",
              "      <td>fire</td>\n",
              "      <td>residential</td>\n",
              "      <td>32.0</td>\n",
              "      <td>4.0</td>\n",
              "      <td>NaN</td>\n",
              "      <td>NaN</td>\n",
              "      <td>0.0</td>\n",
              "      <td>off british columbia</td>\n",
              "      <td>Monday</td>\n",
              "    </tr>\n",
              "    <tr>\n",
              "      <th>1149</th>\n",
              "      <td>1930-01-01</td>\n",
              "      <td>NaT</td>\n",
              "      <td>1900-01-26</td>\n",
              "      <td>technology</td>\n",
              "      <td>fire</td>\n",
              "      <td>residential</td>\n",
              "      <td>13.0</td>\n",
              "      <td>SIN</td>\n",
              "      <td>NaN</td>\n",
              "      <td>NaN</td>\n",
              "      <td>0.0</td>\n",
              "      <td>cross lake, manitoba</td>\n",
              "      <td>Friday</td>\n",
              "    </tr>\n",
              "    <tr>\n",
              "      <th>1156</th>\n",
              "      <td>1918-01-01</td>\n",
              "      <td>NaT</td>\n",
              "      <td>1900-01-14</td>\n",
              "      <td>technology</td>\n",
              "      <td>fire</td>\n",
              "      <td>residential</td>\n",
              "      <td>53.0</td>\n",
              "      <td>SIN</td>\n",
              "      <td>NaN</td>\n",
              "      <td>NaN</td>\n",
              "      <td>0.0</td>\n",
              "      <td>montreal, quebec</td>\n",
              "      <td>Sunday</td>\n",
              "    </tr>\n",
              "    <tr>\n",
              "      <th>1183</th>\n",
              "      <td>1946-01-01</td>\n",
              "      <td>NaT</td>\n",
              "      <td>1900-01-08</td>\n",
              "      <td>technology</td>\n",
              "      <td>fire</td>\n",
              "      <td>residential</td>\n",
              "      <td>11.0</td>\n",
              "      <td>18.0</td>\n",
              "      <td>NaN</td>\n",
              "      <td>NaN</td>\n",
              "      <td>0.0</td>\n",
              "      <td>saskatoon, saskatchewan</td>\n",
              "      <td>Monday</td>\n",
              "    </tr>\n",
              "    <tr>\n",
              "      <th>1194</th>\n",
              "      <td>1906-01-01</td>\n",
              "      <td>NaT</td>\n",
              "      <td>1900-01-10</td>\n",
              "      <td>technology</td>\n",
              "      <td>fire</td>\n",
              "      <td>residential</td>\n",
              "      <td>NaN</td>\n",
              "      <td>SIN</td>\n",
              "      <td>NaN</td>\n",
              "      <td>NaN</td>\n",
              "      <td>0.0</td>\n",
              "      <td>hull, quebec</td>\n",
              "      <td>Wednesday</td>\n",
              "    </tr>\n",
              "    <tr>\n",
              "      <th>1196</th>\n",
              "      <td>1961-01-01</td>\n",
              "      <td>NaT</td>\n",
              "      <td>1900-01-20</td>\n",
              "      <td>conflict</td>\n",
              "      <td>fire</td>\n",
              "      <td>residential</td>\n",
              "      <td>0.0</td>\n",
              "      <td>SIN</td>\n",
              "      <td>NaN</td>\n",
              "      <td>NaN</td>\n",
              "      <td>0.0</td>\n",
              "      <td>ootchenia, british columbia</td>\n",
              "      <td>Saturday</td>\n",
              "    </tr>\n",
              "    <tr>\n",
              "      <th>1209</th>\n",
              "      <td>1927-01-01</td>\n",
              "      <td>NaT</td>\n",
              "      <td>1900-01-14</td>\n",
              "      <td>technology</td>\n",
              "      <td>fire</td>\n",
              "      <td>residential</td>\n",
              "      <td>37.0</td>\n",
              "      <td>SIN</td>\n",
              "      <td>NaN</td>\n",
              "      <td>NaN</td>\n",
              "      <td>0.0</td>\n",
              "      <td>quebec city, quebec</td>\n",
              "      <td>Sunday</td>\n",
              "    </tr>\n",
              "    <tr>\n",
              "      <th>1224</th>\n",
              "      <td>1974-01-01</td>\n",
              "      <td>NaT</td>\n",
              "      <td>1900-01-18</td>\n",
              "      <td>technology</td>\n",
              "      <td>fire</td>\n",
              "      <td>residential</td>\n",
              "      <td>9.0</td>\n",
              "      <td>25.0</td>\n",
              "      <td>NaN</td>\n",
              "      <td>NaN</td>\n",
              "      <td>0.0</td>\n",
              "      <td>winnipeg, manitoba</td>\n",
              "      <td>Thursday</td>\n",
              "    </tr>\n",
              "    <tr>\n",
              "      <th>1225</th>\n",
              "      <td>1938-01-01</td>\n",
              "      <td>NaT</td>\n",
              "      <td>1900-01-18</td>\n",
              "      <td>technology</td>\n",
              "      <td>fire</td>\n",
              "      <td>residential</td>\n",
              "      <td>45.0</td>\n",
              "      <td>21.0</td>\n",
              "      <td>NaN</td>\n",
              "      <td>NaN</td>\n",
              "      <td>0.0</td>\n",
              "      <td>saint-hyacinthe, quebec</td>\n",
              "      <td>Thursday</td>\n",
              "    </tr>\n",
              "    <tr>\n",
              "      <th>1241</th>\n",
              "      <td>1951-01-01</td>\n",
              "      <td>NaT</td>\n",
              "      <td>1900-01-15</td>\n",
              "      <td>technology</td>\n",
              "      <td>fire</td>\n",
              "      <td>residential</td>\n",
              "      <td>35.0</td>\n",
              "      <td>SIN</td>\n",
              "      <td>NaN</td>\n",
              "      <td>NaN</td>\n",
              "      <td>0.0</td>\n",
              "      <td>montreal, quebec</td>\n",
              "      <td>Monday</td>\n",
              "    </tr>\n",
              "    <tr>\n",
              "      <th>1248</th>\n",
              "      <td>1903-01-01</td>\n",
              "      <td>NaT</td>\n",
              "      <td>1900-01-03</td>\n",
              "      <td>technology</td>\n",
              "      <td>fire</td>\n",
              "      <td>residential</td>\n",
              "      <td>NaN</td>\n",
              "      <td>SIN</td>\n",
              "      <td>NaN</td>\n",
              "      <td>NaN</td>\n",
              "      <td>0.0</td>\n",
              "      <td>hull, quebec</td>\n",
              "      <td>Wednesday</td>\n",
              "    </tr>\n",
              "    <tr>\n",
              "      <th>1305</th>\n",
              "      <td>1927-01-01</td>\n",
              "      <td>NaT</td>\n",
              "      <td>1900-01-19</td>\n",
              "      <td>technology</td>\n",
              "      <td>fire</td>\n",
              "      <td>residential</td>\n",
              "      <td>20.0</td>\n",
              "      <td>SIN</td>\n",
              "      <td>NaN</td>\n",
              "      <td>NaN</td>\n",
              "      <td>0.0</td>\n",
              "      <td>beauval, saskatchewan</td>\n",
              "      <td>Friday</td>\n",
              "    </tr>\n",
              "    <tr>\n",
              "      <th>1312</th>\n",
              "      <td>1922-01-01</td>\n",
              "      <td>NaT</td>\n",
              "      <td>1900-01-15</td>\n",
              "      <td>technology</td>\n",
              "      <td>fire</td>\n",
              "      <td>residential</td>\n",
              "      <td>12.0</td>\n",
              "      <td>SIN</td>\n",
              "      <td>NaN</td>\n",
              "      <td>NaN</td>\n",
              "      <td>0.0</td>\n",
              "      <td>prevost, quebec</td>\n",
              "      <td>Monday</td>\n",
              "    </tr>\n",
              "    <tr>\n",
              "      <th>1314</th>\n",
              "      <td>1916-01-01</td>\n",
              "      <td>NaT</td>\n",
              "      <td>1900-01-30</td>\n",
              "      <td>technology</td>\n",
              "      <td>fire</td>\n",
              "      <td>residential</td>\n",
              "      <td>46.0</td>\n",
              "      <td>SIN</td>\n",
              "      <td>NaN</td>\n",
              "      <td>NaN</td>\n",
              "      <td>0.0</td>\n",
              "      <td>saint-ferdinand, qc</td>\n",
              "      <td>Tuesday</td>\n",
              "    </tr>\n",
              "    <tr>\n",
              "      <th>1382</th>\n",
              "      <td>1901-01-01</td>\n",
              "      <td>NaT</td>\n",
              "      <td>1900-01-10</td>\n",
              "      <td>technology</td>\n",
              "      <td>fire</td>\n",
              "      <td>residential</td>\n",
              "      <td>NaN</td>\n",
              "      <td>0.0</td>\n",
              "      <td>NaN</td>\n",
              "      <td>NaN</td>\n",
              "      <td>SIN</td>\n",
              "      <td>michel, british columbia</td>\n",
              "      <td>Wednesday</td>\n",
              "    </tr>\n",
              "  </tbody>\n",
              "</table>\n",
              "</div>\n",
              "      <button class=\"colab-df-convert\" onclick=\"convertToInteractive('df-c9e11fe0-b722-423a-8b33-c8a5ada6ea7d')\"\n",
              "              title=\"Convert this dataframe to an interactive table.\"\n",
              "              style=\"display:none;\">\n",
              "        \n",
              "  <svg xmlns=\"http://www.w3.org/2000/svg\" height=\"24px\"viewBox=\"0 0 24 24\"\n",
              "       width=\"24px\">\n",
              "    <path d=\"M0 0h24v24H0V0z\" fill=\"none\"/>\n",
              "    <path d=\"M18.56 5.44l.94 2.06.94-2.06 2.06-.94-2.06-.94-.94-2.06-.94 2.06-2.06.94zm-11 1L8.5 8.5l.94-2.06 2.06-.94-2.06-.94L8.5 2.5l-.94 2.06-2.06.94zm10 10l.94 2.06.94-2.06 2.06-.94-2.06-.94-.94-2.06-.94 2.06-2.06.94z\"/><path d=\"M17.41 7.96l-1.37-1.37c-.4-.4-.92-.59-1.43-.59-.52 0-1.04.2-1.43.59L10.3 9.45l-7.72 7.72c-.78.78-.78 2.05 0 2.83L4 21.41c.39.39.9.59 1.41.59.51 0 1.02-.2 1.41-.59l7.78-7.78 2.81-2.81c.8-.78.8-2.07 0-2.86zM5.41 20L4 18.59l7.72-7.72 1.47 1.35L5.41 20z\"/>\n",
              "  </svg>\n",
              "      </button>\n",
              "      \n",
              "  <style>\n",
              "    .colab-df-container {\n",
              "      display:flex;\n",
              "      flex-wrap:wrap;\n",
              "      gap: 12px;\n",
              "    }\n",
              "\n",
              "    .colab-df-convert {\n",
              "      background-color: #E8F0FE;\n",
              "      border: none;\n",
              "      border-radius: 50%;\n",
              "      cursor: pointer;\n",
              "      display: none;\n",
              "      fill: #1967D2;\n",
              "      height: 32px;\n",
              "      padding: 0 0 0 0;\n",
              "      width: 32px;\n",
              "    }\n",
              "\n",
              "    .colab-df-convert:hover {\n",
              "      background-color: #E2EBFA;\n",
              "      box-shadow: 0px 1px 2px rgba(60, 64, 67, 0.3), 0px 1px 3px 1px rgba(60, 64, 67, 0.15);\n",
              "      fill: #174EA6;\n",
              "    }\n",
              "\n",
              "    [theme=dark] .colab-df-convert {\n",
              "      background-color: #3B4455;\n",
              "      fill: #D2E3FC;\n",
              "    }\n",
              "\n",
              "    [theme=dark] .colab-df-convert:hover {\n",
              "      background-color: #434B5C;\n",
              "      box-shadow: 0px 1px 3px 1px rgba(0, 0, 0, 0.15);\n",
              "      filter: drop-shadow(0px 1px 2px rgba(0, 0, 0, 0.3));\n",
              "      fill: #FFFFFF;\n",
              "    }\n",
              "  </style>\n",
              "\n",
              "      <script>\n",
              "        const buttonEl =\n",
              "          document.querySelector('#df-c9e11fe0-b722-423a-8b33-c8a5ada6ea7d button.colab-df-convert');\n",
              "        buttonEl.style.display =\n",
              "          google.colab.kernel.accessAllowed ? 'block' : 'none';\n",
              "\n",
              "        async function convertToInteractive(key) {\n",
              "          const element = document.querySelector('#df-c9e11fe0-b722-423a-8b33-c8a5ada6ea7d');\n",
              "          const dataTable =\n",
              "            await google.colab.kernel.invokeFunction('convertToInteractive',\n",
              "                                                     [key], {});\n",
              "          if (!dataTable) return;\n",
              "\n",
              "          const docLinkHtml = 'Like what you see? Visit the ' +\n",
              "            '<a target=\"_blank\" href=https://colab.research.google.com/notebooks/data_table.ipynb>data table notebook</a>'\n",
              "            + ' to learn more about interactive tables.';\n",
              "          element.innerHTML = '';\n",
              "          dataTable['output_type'] = 'display_data';\n",
              "          await google.colab.output.renderOutput(dataTable, element);\n",
              "          const docLink = document.createElement('div');\n",
              "          docLink.innerHTML = docLinkHtml;\n",
              "          element.appendChild(docLink);\n",
              "        }\n",
              "      </script>\n",
              "    </div>\n",
              "  </div>\n",
              "  "
            ]
          },
          "metadata": {},
          "execution_count": 55
        }
      ]
    },
    {
      "cell_type": "code",
      "source": [
        "residenciales = DESA[DESA['EVENT TYPE'] == 'residential'][DESA['EVENT SUBGROUP'] == 'fire']\n",
        "cantidad_residenciales = len(residenciales)\n",
        "no_residenciales = DESA[DESA['EVENT TYPE'] == 'non-residential'][DESA['EVENT SUBGROUP'] != 'fire']\n",
        "cantidad_no_residenciales = len(no_residenciales)\n",
        "df_incendios = pd.DataFrame({'Tipo de Incendio': ['Residenciales', 'No Residenciales'], 'Cantidad': [cantidad_residenciales, cantidad_no_residenciales]})\n",
        "fig = px.pie(df_incendios, values='Cantidad', names='Tipo de Incendio', title='Distribución de Incendios Residenciales y No Residenciales')\n",
        "fig.show()"
      ],
      "metadata": {
        "id": "hgGLysNOhY9o",
        "colab": {
          "base_uri": "https://localhost:8080/",
          "height": 693
        },
        "outputId": "acca9d0b-0f66-44f2-f0a6-0debaf6f10d4"
      },
      "execution_count": 56,
      "outputs": [
        {
          "output_type": "stream",
          "name": "stderr",
          "text": [
            "<ipython-input-56-ddeef4e8ddc4>:1: UserWarning:\n",
            "\n",
            "Boolean Series key will be reindexed to match DataFrame index.\n",
            "\n",
            "<ipython-input-56-ddeef4e8ddc4>:3: UserWarning:\n",
            "\n",
            "Boolean Series key will be reindexed to match DataFrame index.\n",
            "\n"
          ]
        },
        {
          "output_type": "display_data",
          "data": {
            "text/html": [
              "<html>\n",
              "<head><meta charset=\"utf-8\" /></head>\n",
              "<body>\n",
              "    <div>            <script src=\"https://cdnjs.cloudflare.com/ajax/libs/mathjax/2.7.5/MathJax.js?config=TeX-AMS-MML_SVG\"></script><script type=\"text/javascript\">if (window.MathJax && window.MathJax.Hub && window.MathJax.Hub.Config) {window.MathJax.Hub.Config({SVG: {font: \"STIX-Web\"}});}</script>                <script type=\"text/javascript\">window.PlotlyConfig = {MathJaxConfig: 'local'};</script>\n",
              "        <script src=\"https://cdn.plot.ly/plotly-2.18.2.min.js\"></script>                <div id=\"4a2ffa0c-ed0f-4a7c-929d-b6e163e64d62\" class=\"plotly-graph-div\" style=\"height:525px; width:100%;\"></div>            <script type=\"text/javascript\">                                    window.PLOTLYENV=window.PLOTLYENV || {};                                    if (document.getElementById(\"4a2ffa0c-ed0f-4a7c-929d-b6e163e64d62\")) {                    Plotly.newPlot(                        \"4a2ffa0c-ed0f-4a7c-929d-b6e163e64d62\",                        [{\"domain\":{\"x\":[0.0,1.0],\"y\":[0.0,1.0]},\"hovertemplate\":\"Tipo de Incendio=%{label}<br>Cantidad=%{value}<extra></extra>\",\"labels\":[\"Residenciales\",\"No Residenciales\"],\"legendgroup\":\"\",\"name\":\"\",\"showlegend\":true,\"values\":[41,48],\"type\":\"pie\"}],                        {\"template\":{\"data\":{\"histogram2dcontour\":[{\"type\":\"histogram2dcontour\",\"colorbar\":{\"outlinewidth\":0,\"ticks\":\"\"},\"colorscale\":[[0.0,\"#0d0887\"],[0.1111111111111111,\"#46039f\"],[0.2222222222222222,\"#7201a8\"],[0.3333333333333333,\"#9c179e\"],[0.4444444444444444,\"#bd3786\"],[0.5555555555555556,\"#d8576b\"],[0.6666666666666666,\"#ed7953\"],[0.7777777777777778,\"#fb9f3a\"],[0.8888888888888888,\"#fdca26\"],[1.0,\"#f0f921\"]]}],\"choropleth\":[{\"type\":\"choropleth\",\"colorbar\":{\"outlinewidth\":0,\"ticks\":\"\"}}],\"histogram2d\":[{\"type\":\"histogram2d\",\"colorbar\":{\"outlinewidth\":0,\"ticks\":\"\"},\"colorscale\":[[0.0,\"#0d0887\"],[0.1111111111111111,\"#46039f\"],[0.2222222222222222,\"#7201a8\"],[0.3333333333333333,\"#9c179e\"],[0.4444444444444444,\"#bd3786\"],[0.5555555555555556,\"#d8576b\"],[0.6666666666666666,\"#ed7953\"],[0.7777777777777778,\"#fb9f3a\"],[0.8888888888888888,\"#fdca26\"],[1.0,\"#f0f921\"]]}],\"heatmap\":[{\"type\":\"heatmap\",\"colorbar\":{\"outlinewidth\":0,\"ticks\":\"\"},\"colorscale\":[[0.0,\"#0d0887\"],[0.1111111111111111,\"#46039f\"],[0.2222222222222222,\"#7201a8\"],[0.3333333333333333,\"#9c179e\"],[0.4444444444444444,\"#bd3786\"],[0.5555555555555556,\"#d8576b\"],[0.6666666666666666,\"#ed7953\"],[0.7777777777777778,\"#fb9f3a\"],[0.8888888888888888,\"#fdca26\"],[1.0,\"#f0f921\"]]}],\"heatmapgl\":[{\"type\":\"heatmapgl\",\"colorbar\":{\"outlinewidth\":0,\"ticks\":\"\"},\"colorscale\":[[0.0,\"#0d0887\"],[0.1111111111111111,\"#46039f\"],[0.2222222222222222,\"#7201a8\"],[0.3333333333333333,\"#9c179e\"],[0.4444444444444444,\"#bd3786\"],[0.5555555555555556,\"#d8576b\"],[0.6666666666666666,\"#ed7953\"],[0.7777777777777778,\"#fb9f3a\"],[0.8888888888888888,\"#fdca26\"],[1.0,\"#f0f921\"]]}],\"contourcarpet\":[{\"type\":\"contourcarpet\",\"colorbar\":{\"outlinewidth\":0,\"ticks\":\"\"}}],\"contour\":[{\"type\":\"contour\",\"colorbar\":{\"outlinewidth\":0,\"ticks\":\"\"},\"colorscale\":[[0.0,\"#0d0887\"],[0.1111111111111111,\"#46039f\"],[0.2222222222222222,\"#7201a8\"],[0.3333333333333333,\"#9c179e\"],[0.4444444444444444,\"#bd3786\"],[0.5555555555555556,\"#d8576b\"],[0.6666666666666666,\"#ed7953\"],[0.7777777777777778,\"#fb9f3a\"],[0.8888888888888888,\"#fdca26\"],[1.0,\"#f0f921\"]]}],\"surface\":[{\"type\":\"surface\",\"colorbar\":{\"outlinewidth\":0,\"ticks\":\"\"},\"colorscale\":[[0.0,\"#0d0887\"],[0.1111111111111111,\"#46039f\"],[0.2222222222222222,\"#7201a8\"],[0.3333333333333333,\"#9c179e\"],[0.4444444444444444,\"#bd3786\"],[0.5555555555555556,\"#d8576b\"],[0.6666666666666666,\"#ed7953\"],[0.7777777777777778,\"#fb9f3a\"],[0.8888888888888888,\"#fdca26\"],[1.0,\"#f0f921\"]]}],\"mesh3d\":[{\"type\":\"mesh3d\",\"colorbar\":{\"outlinewidth\":0,\"ticks\":\"\"}}],\"scatter\":[{\"fillpattern\":{\"fillmode\":\"overlay\",\"size\":10,\"solidity\":0.2},\"type\":\"scatter\"}],\"parcoords\":[{\"type\":\"parcoords\",\"line\":{\"colorbar\":{\"outlinewidth\":0,\"ticks\":\"\"}}}],\"scatterpolargl\":[{\"type\":\"scatterpolargl\",\"marker\":{\"colorbar\":{\"outlinewidth\":0,\"ticks\":\"\"}}}],\"bar\":[{\"error_x\":{\"color\":\"#2a3f5f\"},\"error_y\":{\"color\":\"#2a3f5f\"},\"marker\":{\"line\":{\"color\":\"#E5ECF6\",\"width\":0.5},\"pattern\":{\"fillmode\":\"overlay\",\"size\":10,\"solidity\":0.2}},\"type\":\"bar\"}],\"scattergeo\":[{\"type\":\"scattergeo\",\"marker\":{\"colorbar\":{\"outlinewidth\":0,\"ticks\":\"\"}}}],\"scatterpolar\":[{\"type\":\"scatterpolar\",\"marker\":{\"colorbar\":{\"outlinewidth\":0,\"ticks\":\"\"}}}],\"histogram\":[{\"marker\":{\"pattern\":{\"fillmode\":\"overlay\",\"size\":10,\"solidity\":0.2}},\"type\":\"histogram\"}],\"scattergl\":[{\"type\":\"scattergl\",\"marker\":{\"colorbar\":{\"outlinewidth\":0,\"ticks\":\"\"}}}],\"scatter3d\":[{\"type\":\"scatter3d\",\"line\":{\"colorbar\":{\"outlinewidth\":0,\"ticks\":\"\"}},\"marker\":{\"colorbar\":{\"outlinewidth\":0,\"ticks\":\"\"}}}],\"scattermapbox\":[{\"type\":\"scattermapbox\",\"marker\":{\"colorbar\":{\"outlinewidth\":0,\"ticks\":\"\"}}}],\"scatterternary\":[{\"type\":\"scatterternary\",\"marker\":{\"colorbar\":{\"outlinewidth\":0,\"ticks\":\"\"}}}],\"scattercarpet\":[{\"type\":\"scattercarpet\",\"marker\":{\"colorbar\":{\"outlinewidth\":0,\"ticks\":\"\"}}}],\"carpet\":[{\"aaxis\":{\"endlinecolor\":\"#2a3f5f\",\"gridcolor\":\"white\",\"linecolor\":\"white\",\"minorgridcolor\":\"white\",\"startlinecolor\":\"#2a3f5f\"},\"baxis\":{\"endlinecolor\":\"#2a3f5f\",\"gridcolor\":\"white\",\"linecolor\":\"white\",\"minorgridcolor\":\"white\",\"startlinecolor\":\"#2a3f5f\"},\"type\":\"carpet\"}],\"table\":[{\"cells\":{\"fill\":{\"color\":\"#EBF0F8\"},\"line\":{\"color\":\"white\"}},\"header\":{\"fill\":{\"color\":\"#C8D4E3\"},\"line\":{\"color\":\"white\"}},\"type\":\"table\"}],\"barpolar\":[{\"marker\":{\"line\":{\"color\":\"#E5ECF6\",\"width\":0.5},\"pattern\":{\"fillmode\":\"overlay\",\"size\":10,\"solidity\":0.2}},\"type\":\"barpolar\"}],\"pie\":[{\"automargin\":true,\"type\":\"pie\"}]},\"layout\":{\"autotypenumbers\":\"strict\",\"colorway\":[\"#636efa\",\"#EF553B\",\"#00cc96\",\"#ab63fa\",\"#FFA15A\",\"#19d3f3\",\"#FF6692\",\"#B6E880\",\"#FF97FF\",\"#FECB52\"],\"font\":{\"color\":\"#2a3f5f\"},\"hovermode\":\"closest\",\"hoverlabel\":{\"align\":\"left\"},\"paper_bgcolor\":\"white\",\"plot_bgcolor\":\"#E5ECF6\",\"polar\":{\"bgcolor\":\"#E5ECF6\",\"angularaxis\":{\"gridcolor\":\"white\",\"linecolor\":\"white\",\"ticks\":\"\"},\"radialaxis\":{\"gridcolor\":\"white\",\"linecolor\":\"white\",\"ticks\":\"\"}},\"ternary\":{\"bgcolor\":\"#E5ECF6\",\"aaxis\":{\"gridcolor\":\"white\",\"linecolor\":\"white\",\"ticks\":\"\"},\"baxis\":{\"gridcolor\":\"white\",\"linecolor\":\"white\",\"ticks\":\"\"},\"caxis\":{\"gridcolor\":\"white\",\"linecolor\":\"white\",\"ticks\":\"\"}},\"coloraxis\":{\"colorbar\":{\"outlinewidth\":0,\"ticks\":\"\"}},\"colorscale\":{\"sequential\":[[0.0,\"#0d0887\"],[0.1111111111111111,\"#46039f\"],[0.2222222222222222,\"#7201a8\"],[0.3333333333333333,\"#9c179e\"],[0.4444444444444444,\"#bd3786\"],[0.5555555555555556,\"#d8576b\"],[0.6666666666666666,\"#ed7953\"],[0.7777777777777778,\"#fb9f3a\"],[0.8888888888888888,\"#fdca26\"],[1.0,\"#f0f921\"]],\"sequentialminus\":[[0.0,\"#0d0887\"],[0.1111111111111111,\"#46039f\"],[0.2222222222222222,\"#7201a8\"],[0.3333333333333333,\"#9c179e\"],[0.4444444444444444,\"#bd3786\"],[0.5555555555555556,\"#d8576b\"],[0.6666666666666666,\"#ed7953\"],[0.7777777777777778,\"#fb9f3a\"],[0.8888888888888888,\"#fdca26\"],[1.0,\"#f0f921\"]],\"diverging\":[[0,\"#8e0152\"],[0.1,\"#c51b7d\"],[0.2,\"#de77ae\"],[0.3,\"#f1b6da\"],[0.4,\"#fde0ef\"],[0.5,\"#f7f7f7\"],[0.6,\"#e6f5d0\"],[0.7,\"#b8e186\"],[0.8,\"#7fbc41\"],[0.9,\"#4d9221\"],[1,\"#276419\"]]},\"xaxis\":{\"gridcolor\":\"white\",\"linecolor\":\"white\",\"ticks\":\"\",\"title\":{\"standoff\":15},\"zerolinecolor\":\"white\",\"automargin\":true,\"zerolinewidth\":2},\"yaxis\":{\"gridcolor\":\"white\",\"linecolor\":\"white\",\"ticks\":\"\",\"title\":{\"standoff\":15},\"zerolinecolor\":\"white\",\"automargin\":true,\"zerolinewidth\":2},\"scene\":{\"xaxis\":{\"backgroundcolor\":\"#E5ECF6\",\"gridcolor\":\"white\",\"linecolor\":\"white\",\"showbackground\":true,\"ticks\":\"\",\"zerolinecolor\":\"white\",\"gridwidth\":2},\"yaxis\":{\"backgroundcolor\":\"#E5ECF6\",\"gridcolor\":\"white\",\"linecolor\":\"white\",\"showbackground\":true,\"ticks\":\"\",\"zerolinecolor\":\"white\",\"gridwidth\":2},\"zaxis\":{\"backgroundcolor\":\"#E5ECF6\",\"gridcolor\":\"white\",\"linecolor\":\"white\",\"showbackground\":true,\"ticks\":\"\",\"zerolinecolor\":\"white\",\"gridwidth\":2}},\"shapedefaults\":{\"line\":{\"color\":\"#2a3f5f\"}},\"annotationdefaults\":{\"arrowcolor\":\"#2a3f5f\",\"arrowhead\":0,\"arrowwidth\":1},\"geo\":{\"bgcolor\":\"white\",\"landcolor\":\"#E5ECF6\",\"subunitcolor\":\"white\",\"showland\":true,\"showlakes\":true,\"lakecolor\":\"white\"},\"title\":{\"x\":0.05},\"mapbox\":{\"style\":\"light\"}}},\"legend\":{\"tracegroupgap\":0},\"title\":{\"text\":\"Distribuci\\u00f3n de Incendios Residenciales y No Residenciales\"}},                        {\"responsive\": true}                    ).then(function(){\n",
              "                            \n",
              "var gd = document.getElementById('4a2ffa0c-ed0f-4a7c-929d-b6e163e64d62');\n",
              "var x = new MutationObserver(function (mutations, observer) {{\n",
              "        var display = window.getComputedStyle(gd).display;\n",
              "        if (!display || display === 'none') {{\n",
              "            console.log([gd, 'removed!']);\n",
              "            Plotly.purge(gd);\n",
              "            observer.disconnect();\n",
              "        }}\n",
              "}});\n",
              "\n",
              "// Listen for the removal of the full notebook cells\n",
              "var notebookContainer = gd.closest('#notebook-container');\n",
              "if (notebookContainer) {{\n",
              "    x.observe(notebookContainer, {childList: true});\n",
              "}}\n",
              "\n",
              "// Listen for the clearing of the current output cell\n",
              "var outputEl = gd.closest('.output');\n",
              "if (outputEl) {{\n",
              "    x.observe(outputEl, {childList: true});\n",
              "}}\n",
              "\n",
              "                        })                };                            </script>        </div>\n",
              "</body>\n",
              "</html>"
            ]
          },
          "metadata": {}
        }
      ]
    },
    {
      "cell_type": "markdown",
      "source": [
        "Se tiene que los incndios no residenciales son los que más se presentan con un 53.9% en comparación con los incendios residenciales."
      ],
      "metadata": {
        "id": "pNz6gxOn-rCU"
      }
    },
    {
      "cell_type": "markdown",
      "source": [
        "# 8. ¿Cuál es el porcentaje de incendios en los que funcionaron efectivamente los rociadores?  tasa de efectividad= Total de incendios apagados por rociadoress/total de incendios "
      ],
      "metadata": {
        "id": "YQPTI69za-JZ"
      }
    },
    {
      "cell_type": "code",
      "source": [
        "ROC.columns"
      ],
      "metadata": {
        "colab": {
          "base_uri": "https://localhost:8080/"
        },
        "id": "cQWRs31PQ2vO",
        "outputId": "68728e7c-99b4-4894-fffa-ba17025a67e1"
      },
      "execution_count": 57,
      "outputs": [
        {
          "output_type": "execute_result",
          "data": {
            "text/plain": [
              "Index(['YEAR', 'GEO', 'DGUID', 'performance_of_system', 'Incidents&Casualties',\n",
              "       'UOM', 'UOM_ID', 'SCALAR_FACTOR', 'SCALAR_ID', 'VECTOR', 'COORDINATE',\n",
              "       'VALUE', 'STATUS', 'SYMBOL', 'TERMINATED', 'DECIMALS'],\n",
              "      dtype='object')"
            ]
          },
          "metadata": {},
          "execution_count": 57
        }
      ]
    },
    {
      "cell_type": "code",
      "source": [
        "conteo_eventos = ROC['performance_of_system'].value_counts()\n",
        "conteo_eventos"
      ],
      "metadata": {
        "colab": {
          "base_uri": "https://localhost:8080/"
        },
        "id": "TT9ezUtzQewA",
        "outputId": "b1d128ed-b99d-46bd-d72f-2d77170651ef"
      },
      "execution_count": 58,
      "outputs": [
        {
          "output_type": "execute_result",
          "data": {
            "text/plain": [
              "Total structural fires                     210\n",
              "No sprinkler                               210\n",
              "Sprinkler operated                         210\n",
              "Sprinkler did not operate                  210\n",
              "Unknown performance of sprinkler system    210\n",
              "Name: performance_of_system, dtype: int64"
            ]
          },
          "metadata": {},
          "execution_count": 58
        }
      ]
    },
    {
      "cell_type": "code",
      "source": [
        "conteo_performance = ROC['performance_of_system'].value_counts()\n",
        "incendios_con_rociadores = conteo_performance['Sprinkler operated']\n",
        "total_incendios = ROC.shape[0]\n",
        "porcentaje_efectividad = (incendios_con_rociadores / total_incendios) * 100\n"
      ],
      "metadata": {
        "id": "el_vp7rac3Rh"
      },
      "execution_count": 59,
      "outputs": []
    },
    {
      "cell_type": "code",
      "source": [
        "conteo_performance = ROC['performance_of_system'].value_counts()\n",
        "incendios_con_rociadores = conteo_performance['Sprinkler operated']\n",
        "incendios_sin_rociadores = total_incendios - incendios_con_rociadores\n",
        "data = {'Resultado': ['No funcionaron', 'Si funcionaron'],'Cantidad': [incendios_con_rociadores, incendios_sin_rociadores]}\n",
        "\n",
        "df = pd.DataFrame(data)\n",
        "\n",
        "fig = px.pie(df, values='Cantidad', names='Resultado', title='Porcentaje de Efectividad de Rociadores')\n",
        "fig.show()\n"
      ],
      "metadata": {
        "colab": {
          "base_uri": "https://localhost:8080/",
          "height": 542
        },
        "id": "-l4m0X9TSa4x",
        "outputId": "4305ea4f-eebd-493a-8e60-8a1de571fc2b"
      },
      "execution_count": 60,
      "outputs": [
        {
          "output_type": "display_data",
          "data": {
            "text/html": [
              "<html>\n",
              "<head><meta charset=\"utf-8\" /></head>\n",
              "<body>\n",
              "    <div>            <script src=\"https://cdnjs.cloudflare.com/ajax/libs/mathjax/2.7.5/MathJax.js?config=TeX-AMS-MML_SVG\"></script><script type=\"text/javascript\">if (window.MathJax && window.MathJax.Hub && window.MathJax.Hub.Config) {window.MathJax.Hub.Config({SVG: {font: \"STIX-Web\"}});}</script>                <script type=\"text/javascript\">window.PlotlyConfig = {MathJaxConfig: 'local'};</script>\n",
              "        <script src=\"https://cdn.plot.ly/plotly-2.18.2.min.js\"></script>                <div id=\"ca536320-5274-4e56-b615-d65638a766dd\" class=\"plotly-graph-div\" style=\"height:525px; width:100%;\"></div>            <script type=\"text/javascript\">                                    window.PLOTLYENV=window.PLOTLYENV || {};                                    if (document.getElementById(\"ca536320-5274-4e56-b615-d65638a766dd\")) {                    Plotly.newPlot(                        \"ca536320-5274-4e56-b615-d65638a766dd\",                        [{\"domain\":{\"x\":[0.0,1.0],\"y\":[0.0,1.0]},\"hovertemplate\":\"Resultado=%{label}<br>Cantidad=%{value}<extra></extra>\",\"labels\":[\"No funcionaron\",\"Si funcionaron\"],\"legendgroup\":\"\",\"name\":\"\",\"showlegend\":true,\"values\":[210,840],\"type\":\"pie\"}],                        {\"template\":{\"data\":{\"histogram2dcontour\":[{\"type\":\"histogram2dcontour\",\"colorbar\":{\"outlinewidth\":0,\"ticks\":\"\"},\"colorscale\":[[0.0,\"#0d0887\"],[0.1111111111111111,\"#46039f\"],[0.2222222222222222,\"#7201a8\"],[0.3333333333333333,\"#9c179e\"],[0.4444444444444444,\"#bd3786\"],[0.5555555555555556,\"#d8576b\"],[0.6666666666666666,\"#ed7953\"],[0.7777777777777778,\"#fb9f3a\"],[0.8888888888888888,\"#fdca26\"],[1.0,\"#f0f921\"]]}],\"choropleth\":[{\"type\":\"choropleth\",\"colorbar\":{\"outlinewidth\":0,\"ticks\":\"\"}}],\"histogram2d\":[{\"type\":\"histogram2d\",\"colorbar\":{\"outlinewidth\":0,\"ticks\":\"\"},\"colorscale\":[[0.0,\"#0d0887\"],[0.1111111111111111,\"#46039f\"],[0.2222222222222222,\"#7201a8\"],[0.3333333333333333,\"#9c179e\"],[0.4444444444444444,\"#bd3786\"],[0.5555555555555556,\"#d8576b\"],[0.6666666666666666,\"#ed7953\"],[0.7777777777777778,\"#fb9f3a\"],[0.8888888888888888,\"#fdca26\"],[1.0,\"#f0f921\"]]}],\"heatmap\":[{\"type\":\"heatmap\",\"colorbar\":{\"outlinewidth\":0,\"ticks\":\"\"},\"colorscale\":[[0.0,\"#0d0887\"],[0.1111111111111111,\"#46039f\"],[0.2222222222222222,\"#7201a8\"],[0.3333333333333333,\"#9c179e\"],[0.4444444444444444,\"#bd3786\"],[0.5555555555555556,\"#d8576b\"],[0.6666666666666666,\"#ed7953\"],[0.7777777777777778,\"#fb9f3a\"],[0.8888888888888888,\"#fdca26\"],[1.0,\"#f0f921\"]]}],\"heatmapgl\":[{\"type\":\"heatmapgl\",\"colorbar\":{\"outlinewidth\":0,\"ticks\":\"\"},\"colorscale\":[[0.0,\"#0d0887\"],[0.1111111111111111,\"#46039f\"],[0.2222222222222222,\"#7201a8\"],[0.3333333333333333,\"#9c179e\"],[0.4444444444444444,\"#bd3786\"],[0.5555555555555556,\"#d8576b\"],[0.6666666666666666,\"#ed7953\"],[0.7777777777777778,\"#fb9f3a\"],[0.8888888888888888,\"#fdca26\"],[1.0,\"#f0f921\"]]}],\"contourcarpet\":[{\"type\":\"contourcarpet\",\"colorbar\":{\"outlinewidth\":0,\"ticks\":\"\"}}],\"contour\":[{\"type\":\"contour\",\"colorbar\":{\"outlinewidth\":0,\"ticks\":\"\"},\"colorscale\":[[0.0,\"#0d0887\"],[0.1111111111111111,\"#46039f\"],[0.2222222222222222,\"#7201a8\"],[0.3333333333333333,\"#9c179e\"],[0.4444444444444444,\"#bd3786\"],[0.5555555555555556,\"#d8576b\"],[0.6666666666666666,\"#ed7953\"],[0.7777777777777778,\"#fb9f3a\"],[0.8888888888888888,\"#fdca26\"],[1.0,\"#f0f921\"]]}],\"surface\":[{\"type\":\"surface\",\"colorbar\":{\"outlinewidth\":0,\"ticks\":\"\"},\"colorscale\":[[0.0,\"#0d0887\"],[0.1111111111111111,\"#46039f\"],[0.2222222222222222,\"#7201a8\"],[0.3333333333333333,\"#9c179e\"],[0.4444444444444444,\"#bd3786\"],[0.5555555555555556,\"#d8576b\"],[0.6666666666666666,\"#ed7953\"],[0.7777777777777778,\"#fb9f3a\"],[0.8888888888888888,\"#fdca26\"],[1.0,\"#f0f921\"]]}],\"mesh3d\":[{\"type\":\"mesh3d\",\"colorbar\":{\"outlinewidth\":0,\"ticks\":\"\"}}],\"scatter\":[{\"fillpattern\":{\"fillmode\":\"overlay\",\"size\":10,\"solidity\":0.2},\"type\":\"scatter\"}],\"parcoords\":[{\"type\":\"parcoords\",\"line\":{\"colorbar\":{\"outlinewidth\":0,\"ticks\":\"\"}}}],\"scatterpolargl\":[{\"type\":\"scatterpolargl\",\"marker\":{\"colorbar\":{\"outlinewidth\":0,\"ticks\":\"\"}}}],\"bar\":[{\"error_x\":{\"color\":\"#2a3f5f\"},\"error_y\":{\"color\":\"#2a3f5f\"},\"marker\":{\"line\":{\"color\":\"#E5ECF6\",\"width\":0.5},\"pattern\":{\"fillmode\":\"overlay\",\"size\":10,\"solidity\":0.2}},\"type\":\"bar\"}],\"scattergeo\":[{\"type\":\"scattergeo\",\"marker\":{\"colorbar\":{\"outlinewidth\":0,\"ticks\":\"\"}}}],\"scatterpolar\":[{\"type\":\"scatterpolar\",\"marker\":{\"colorbar\":{\"outlinewidth\":0,\"ticks\":\"\"}}}],\"histogram\":[{\"marker\":{\"pattern\":{\"fillmode\":\"overlay\",\"size\":10,\"solidity\":0.2}},\"type\":\"histogram\"}],\"scattergl\":[{\"type\":\"scattergl\",\"marker\":{\"colorbar\":{\"outlinewidth\":0,\"ticks\":\"\"}}}],\"scatter3d\":[{\"type\":\"scatter3d\",\"line\":{\"colorbar\":{\"outlinewidth\":0,\"ticks\":\"\"}},\"marker\":{\"colorbar\":{\"outlinewidth\":0,\"ticks\":\"\"}}}],\"scattermapbox\":[{\"type\":\"scattermapbox\",\"marker\":{\"colorbar\":{\"outlinewidth\":0,\"ticks\":\"\"}}}],\"scatterternary\":[{\"type\":\"scatterternary\",\"marker\":{\"colorbar\":{\"outlinewidth\":0,\"ticks\":\"\"}}}],\"scattercarpet\":[{\"type\":\"scattercarpet\",\"marker\":{\"colorbar\":{\"outlinewidth\":0,\"ticks\":\"\"}}}],\"carpet\":[{\"aaxis\":{\"endlinecolor\":\"#2a3f5f\",\"gridcolor\":\"white\",\"linecolor\":\"white\",\"minorgridcolor\":\"white\",\"startlinecolor\":\"#2a3f5f\"},\"baxis\":{\"endlinecolor\":\"#2a3f5f\",\"gridcolor\":\"white\",\"linecolor\":\"white\",\"minorgridcolor\":\"white\",\"startlinecolor\":\"#2a3f5f\"},\"type\":\"carpet\"}],\"table\":[{\"cells\":{\"fill\":{\"color\":\"#EBF0F8\"},\"line\":{\"color\":\"white\"}},\"header\":{\"fill\":{\"color\":\"#C8D4E3\"},\"line\":{\"color\":\"white\"}},\"type\":\"table\"}],\"barpolar\":[{\"marker\":{\"line\":{\"color\":\"#E5ECF6\",\"width\":0.5},\"pattern\":{\"fillmode\":\"overlay\",\"size\":10,\"solidity\":0.2}},\"type\":\"barpolar\"}],\"pie\":[{\"automargin\":true,\"type\":\"pie\"}]},\"layout\":{\"autotypenumbers\":\"strict\",\"colorway\":[\"#636efa\",\"#EF553B\",\"#00cc96\",\"#ab63fa\",\"#FFA15A\",\"#19d3f3\",\"#FF6692\",\"#B6E880\",\"#FF97FF\",\"#FECB52\"],\"font\":{\"color\":\"#2a3f5f\"},\"hovermode\":\"closest\",\"hoverlabel\":{\"align\":\"left\"},\"paper_bgcolor\":\"white\",\"plot_bgcolor\":\"#E5ECF6\",\"polar\":{\"bgcolor\":\"#E5ECF6\",\"angularaxis\":{\"gridcolor\":\"white\",\"linecolor\":\"white\",\"ticks\":\"\"},\"radialaxis\":{\"gridcolor\":\"white\",\"linecolor\":\"white\",\"ticks\":\"\"}},\"ternary\":{\"bgcolor\":\"#E5ECF6\",\"aaxis\":{\"gridcolor\":\"white\",\"linecolor\":\"white\",\"ticks\":\"\"},\"baxis\":{\"gridcolor\":\"white\",\"linecolor\":\"white\",\"ticks\":\"\"},\"caxis\":{\"gridcolor\":\"white\",\"linecolor\":\"white\",\"ticks\":\"\"}},\"coloraxis\":{\"colorbar\":{\"outlinewidth\":0,\"ticks\":\"\"}},\"colorscale\":{\"sequential\":[[0.0,\"#0d0887\"],[0.1111111111111111,\"#46039f\"],[0.2222222222222222,\"#7201a8\"],[0.3333333333333333,\"#9c179e\"],[0.4444444444444444,\"#bd3786\"],[0.5555555555555556,\"#d8576b\"],[0.6666666666666666,\"#ed7953\"],[0.7777777777777778,\"#fb9f3a\"],[0.8888888888888888,\"#fdca26\"],[1.0,\"#f0f921\"]],\"sequentialminus\":[[0.0,\"#0d0887\"],[0.1111111111111111,\"#46039f\"],[0.2222222222222222,\"#7201a8\"],[0.3333333333333333,\"#9c179e\"],[0.4444444444444444,\"#bd3786\"],[0.5555555555555556,\"#d8576b\"],[0.6666666666666666,\"#ed7953\"],[0.7777777777777778,\"#fb9f3a\"],[0.8888888888888888,\"#fdca26\"],[1.0,\"#f0f921\"]],\"diverging\":[[0,\"#8e0152\"],[0.1,\"#c51b7d\"],[0.2,\"#de77ae\"],[0.3,\"#f1b6da\"],[0.4,\"#fde0ef\"],[0.5,\"#f7f7f7\"],[0.6,\"#e6f5d0\"],[0.7,\"#b8e186\"],[0.8,\"#7fbc41\"],[0.9,\"#4d9221\"],[1,\"#276419\"]]},\"xaxis\":{\"gridcolor\":\"white\",\"linecolor\":\"white\",\"ticks\":\"\",\"title\":{\"standoff\":15},\"zerolinecolor\":\"white\",\"automargin\":true,\"zerolinewidth\":2},\"yaxis\":{\"gridcolor\":\"white\",\"linecolor\":\"white\",\"ticks\":\"\",\"title\":{\"standoff\":15},\"zerolinecolor\":\"white\",\"automargin\":true,\"zerolinewidth\":2},\"scene\":{\"xaxis\":{\"backgroundcolor\":\"#E5ECF6\",\"gridcolor\":\"white\",\"linecolor\":\"white\",\"showbackground\":true,\"ticks\":\"\",\"zerolinecolor\":\"white\",\"gridwidth\":2},\"yaxis\":{\"backgroundcolor\":\"#E5ECF6\",\"gridcolor\":\"white\",\"linecolor\":\"white\",\"showbackground\":true,\"ticks\":\"\",\"zerolinecolor\":\"white\",\"gridwidth\":2},\"zaxis\":{\"backgroundcolor\":\"#E5ECF6\",\"gridcolor\":\"white\",\"linecolor\":\"white\",\"showbackground\":true,\"ticks\":\"\",\"zerolinecolor\":\"white\",\"gridwidth\":2}},\"shapedefaults\":{\"line\":{\"color\":\"#2a3f5f\"}},\"annotationdefaults\":{\"arrowcolor\":\"#2a3f5f\",\"arrowhead\":0,\"arrowwidth\":1},\"geo\":{\"bgcolor\":\"white\",\"landcolor\":\"#E5ECF6\",\"subunitcolor\":\"white\",\"showland\":true,\"showlakes\":true,\"lakecolor\":\"white\"},\"title\":{\"x\":0.05},\"mapbox\":{\"style\":\"light\"}}},\"legend\":{\"tracegroupgap\":0},\"title\":{\"text\":\"Porcentaje de Efectividad de Rociadores\"}},                        {\"responsive\": true}                    ).then(function(){\n",
              "                            \n",
              "var gd = document.getElementById('ca536320-5274-4e56-b615-d65638a766dd');\n",
              "var x = new MutationObserver(function (mutations, observer) {{\n",
              "        var display = window.getComputedStyle(gd).display;\n",
              "        if (!display || display === 'none') {{\n",
              "            console.log([gd, 'removed!']);\n",
              "            Plotly.purge(gd);\n",
              "            observer.disconnect();\n",
              "        }}\n",
              "}});\n",
              "\n",
              "// Listen for the removal of the full notebook cells\n",
              "var notebookContainer = gd.closest('#notebook-container');\n",
              "if (notebookContainer) {{\n",
              "    x.observe(notebookContainer, {childList: true});\n",
              "}}\n",
              "\n",
              "// Listen for the clearing of the current output cell\n",
              "var outputEl = gd.closest('.output');\n",
              "if (outputEl) {{\n",
              "    x.observe(outputEl, {childList: true});\n",
              "}}\n",
              "\n",
              "                        })                };                            </script>        </div>\n",
              "</body>\n",
              "</html>"
            ]
          },
          "metadata": {}
        }
      ]
    },
    {
      "cell_type": "code",
      "source": [
        "print(\"El porcentaje de efectividad de los rociadores es:\", porcentaje_efectividad)"
      ],
      "metadata": {
        "colab": {
          "base_uri": "https://localhost:8080/"
        },
        "id": "9SIy4LdTAdFl",
        "outputId": "efc0e4f4-9724-459e-bceb-fc0a725172b4"
      },
      "execution_count": 61,
      "outputs": [
        {
          "output_type": "stream",
          "name": "stdout",
          "text": [
            "El porcentaje de efectividad de los rociadores es: 20.0\n"
          ]
        }
      ]
    },
    {
      "cell_type": "markdown",
      "source": [
        "# 9.  ¿Cuál es el porcentaje de incendios en los que funcionaron efectivamente  las alarmas de humo?\n",
        " tasa de efectividad: Total de incendios donde la alrma funcionó/total de incendios"
      ],
      "metadata": {
        "id": "PmGpmV16ggH7"
      }
    },
    {
      "cell_type": "code",
      "source": [
        "AH.columns"
      ],
      "metadata": {
        "id": "uX7DZJ6rhpH5",
        "colab": {
          "base_uri": "https://localhost:8080/"
        },
        "outputId": "9906c0f4-093c-429f-c6a2-1e49b662c784"
      },
      "execution_count": 62,
      "outputs": [
        {
          "output_type": "execute_result",
          "data": {
            "text/plain": [
              "Index(['YEAR', 'GEO', 'DGUID', 'performance_of_system', 'Incidents&Casualties',\n",
              "       'UOM', 'UOM_ID', 'SCALAR_FACTOR', 'SCALAR_ID', 'VECTOR', 'COORDINATE',\n",
              "       'VALUE', 'STATUS', 'SYMBOL', 'TERMINATED', 'DECIMALS'],\n",
              "      dtype='object')"
            ]
          },
          "metadata": {},
          "execution_count": 62
        }
      ]
    },
    {
      "cell_type": "code",
      "source": [
        "conteo_eventos = AH['Performance of smoke alarm device, residential fires'].value_counts()\n",
        "conteo_eventos"
      ],
      "metadata": {
        "colab": {
          "base_uri": "https://localhost:8080/",
          "height": 539
        },
        "id": "nRyxssQ4SzM6",
        "outputId": "d944c007-bcbe-45d7-bde7-424145f7816c"
      },
      "execution_count": 67,
      "outputs": [
        {
          "output_type": "error",
          "ename": "KeyError",
          "evalue": "ignored",
          "traceback": [
            "\u001b[0;31m---------------------------------------------------------------------------\u001b[0m",
            "\u001b[0;31mKeyError\u001b[0m                                  Traceback (most recent call last)",
            "\u001b[0;32m/usr/local/lib/python3.10/dist-packages/pandas/core/indexes/base.py\u001b[0m in \u001b[0;36mget_loc\u001b[0;34m(self, key, method, tolerance)\u001b[0m\n\u001b[1;32m   3801\u001b[0m             \u001b[0;32mtry\u001b[0m\u001b[0;34m:\u001b[0m\u001b[0;34m\u001b[0m\u001b[0;34m\u001b[0m\u001b[0m\n\u001b[0;32m-> 3802\u001b[0;31m                 \u001b[0;32mreturn\u001b[0m \u001b[0mself\u001b[0m\u001b[0;34m.\u001b[0m\u001b[0m_engine\u001b[0m\u001b[0;34m.\u001b[0m\u001b[0mget_loc\u001b[0m\u001b[0;34m(\u001b[0m\u001b[0mcasted_key\u001b[0m\u001b[0;34m)\u001b[0m\u001b[0;34m\u001b[0m\u001b[0;34m\u001b[0m\u001b[0m\n\u001b[0m\u001b[1;32m   3803\u001b[0m             \u001b[0;32mexcept\u001b[0m \u001b[0mKeyError\u001b[0m \u001b[0;32mas\u001b[0m \u001b[0merr\u001b[0m\u001b[0;34m:\u001b[0m\u001b[0;34m\u001b[0m\u001b[0;34m\u001b[0m\u001b[0m\n",
            "\u001b[0;32m/usr/local/lib/python3.10/dist-packages/pandas/_libs/index.pyx\u001b[0m in \u001b[0;36mpandas._libs.index.IndexEngine.get_loc\u001b[0;34m()\u001b[0m\n",
            "\u001b[0;32m/usr/local/lib/python3.10/dist-packages/pandas/_libs/index.pyx\u001b[0m in \u001b[0;36mpandas._libs.index.IndexEngine.get_loc\u001b[0;34m()\u001b[0m\n",
            "\u001b[0;32mpandas/_libs/hashtable_class_helper.pxi\u001b[0m in \u001b[0;36mpandas._libs.hashtable.PyObjectHashTable.get_item\u001b[0;34m()\u001b[0m\n",
            "\u001b[0;32mpandas/_libs/hashtable_class_helper.pxi\u001b[0m in \u001b[0;36mpandas._libs.hashtable.PyObjectHashTable.get_item\u001b[0;34m()\u001b[0m\n",
            "\u001b[0;31mKeyError\u001b[0m: 'Performance of smoke alarm device, residential fires'",
            "\nThe above exception was the direct cause of the following exception:\n",
            "\u001b[0;31mKeyError\u001b[0m                                  Traceback (most recent call last)",
            "\u001b[0;32m<ipython-input-67-8bd1159ccb06>\u001b[0m in \u001b[0;36m<cell line: 1>\u001b[0;34m()\u001b[0m\n\u001b[0;32m----> 1\u001b[0;31m \u001b[0mconteo_eventos\u001b[0m \u001b[0;34m=\u001b[0m \u001b[0mAH\u001b[0m\u001b[0;34m[\u001b[0m\u001b[0;34m'Performance of smoke alarm device, residential fires'\u001b[0m\u001b[0;34m]\u001b[0m\u001b[0;34m.\u001b[0m\u001b[0mvalue_counts\u001b[0m\u001b[0;34m(\u001b[0m\u001b[0;34m)\u001b[0m\u001b[0;34m\u001b[0m\u001b[0;34m\u001b[0m\u001b[0m\n\u001b[0m\u001b[1;32m      2\u001b[0m \u001b[0mconteo_eventos\u001b[0m\u001b[0;34m\u001b[0m\u001b[0;34m\u001b[0m\u001b[0m\n",
            "\u001b[0;32m/usr/local/lib/python3.10/dist-packages/pandas/core/frame.py\u001b[0m in \u001b[0;36m__getitem__\u001b[0;34m(self, key)\u001b[0m\n\u001b[1;32m   3805\u001b[0m             \u001b[0;32mif\u001b[0m \u001b[0mself\u001b[0m\u001b[0;34m.\u001b[0m\u001b[0mcolumns\u001b[0m\u001b[0;34m.\u001b[0m\u001b[0mnlevels\u001b[0m \u001b[0;34m>\u001b[0m \u001b[0;36m1\u001b[0m\u001b[0;34m:\u001b[0m\u001b[0;34m\u001b[0m\u001b[0;34m\u001b[0m\u001b[0m\n\u001b[1;32m   3806\u001b[0m                 \u001b[0;32mreturn\u001b[0m \u001b[0mself\u001b[0m\u001b[0;34m.\u001b[0m\u001b[0m_getitem_multilevel\u001b[0m\u001b[0;34m(\u001b[0m\u001b[0mkey\u001b[0m\u001b[0;34m)\u001b[0m\u001b[0;34m\u001b[0m\u001b[0;34m\u001b[0m\u001b[0m\n\u001b[0;32m-> 3807\u001b[0;31m             \u001b[0mindexer\u001b[0m \u001b[0;34m=\u001b[0m \u001b[0mself\u001b[0m\u001b[0;34m.\u001b[0m\u001b[0mcolumns\u001b[0m\u001b[0;34m.\u001b[0m\u001b[0mget_loc\u001b[0m\u001b[0;34m(\u001b[0m\u001b[0mkey\u001b[0m\u001b[0;34m)\u001b[0m\u001b[0;34m\u001b[0m\u001b[0;34m\u001b[0m\u001b[0m\n\u001b[0m\u001b[1;32m   3808\u001b[0m             \u001b[0;32mif\u001b[0m \u001b[0mis_integer\u001b[0m\u001b[0;34m(\u001b[0m\u001b[0mindexer\u001b[0m\u001b[0;34m)\u001b[0m\u001b[0;34m:\u001b[0m\u001b[0;34m\u001b[0m\u001b[0;34m\u001b[0m\u001b[0m\n\u001b[1;32m   3809\u001b[0m                 \u001b[0mindexer\u001b[0m \u001b[0;34m=\u001b[0m \u001b[0;34m[\u001b[0m\u001b[0mindexer\u001b[0m\u001b[0;34m]\u001b[0m\u001b[0;34m\u001b[0m\u001b[0;34m\u001b[0m\u001b[0m\n",
            "\u001b[0;32m/usr/local/lib/python3.10/dist-packages/pandas/core/indexes/base.py\u001b[0m in \u001b[0;36mget_loc\u001b[0;34m(self, key, method, tolerance)\u001b[0m\n\u001b[1;32m   3802\u001b[0m                 \u001b[0;32mreturn\u001b[0m \u001b[0mself\u001b[0m\u001b[0;34m.\u001b[0m\u001b[0m_engine\u001b[0m\u001b[0;34m.\u001b[0m\u001b[0mget_loc\u001b[0m\u001b[0;34m(\u001b[0m\u001b[0mcasted_key\u001b[0m\u001b[0;34m)\u001b[0m\u001b[0;34m\u001b[0m\u001b[0;34m\u001b[0m\u001b[0m\n\u001b[1;32m   3803\u001b[0m             \u001b[0;32mexcept\u001b[0m \u001b[0mKeyError\u001b[0m \u001b[0;32mas\u001b[0m \u001b[0merr\u001b[0m\u001b[0;34m:\u001b[0m\u001b[0;34m\u001b[0m\u001b[0;34m\u001b[0m\u001b[0m\n\u001b[0;32m-> 3804\u001b[0;31m                 \u001b[0;32mraise\u001b[0m \u001b[0mKeyError\u001b[0m\u001b[0;34m(\u001b[0m\u001b[0mkey\u001b[0m\u001b[0;34m)\u001b[0m \u001b[0;32mfrom\u001b[0m \u001b[0merr\u001b[0m\u001b[0;34m\u001b[0m\u001b[0;34m\u001b[0m\u001b[0m\n\u001b[0m\u001b[1;32m   3805\u001b[0m             \u001b[0;32mexcept\u001b[0m \u001b[0mTypeError\u001b[0m\u001b[0;34m:\u001b[0m\u001b[0;34m\u001b[0m\u001b[0;34m\u001b[0m\u001b[0m\n\u001b[1;32m   3806\u001b[0m                 \u001b[0;31m# If we have a listlike key, _check_indexing_error will raise\u001b[0m\u001b[0;34m\u001b[0m\u001b[0;34m\u001b[0m\u001b[0m\n",
            "\u001b[0;31mKeyError\u001b[0m: 'Performance of smoke alarm device, residential fires'"
          ]
        }
      ]
    },
    {
      "cell_type": "code",
      "source": [
        "conteo_performance = AH['Performance of smoke alarm device, residential fires'].value_counts()\n",
        "incendios_con_alarma = conteo_performance['Alarm activated']\n",
        "incendios_sin_alarma = total_incendios - incendios_con_alarma\n",
        "data = {'Resultado': ['Alarmas Activadas', 'Alarmas No Activadas'],'Cantidad': [incendios_con_alarma, incendios_sin_alarma]}\n",
        "\n",
        "df = pd.DataFrame(data)\n",
        "\n",
        "fig = px.pie(df, values='Cantidad', names='Resultado', title='Tasa de Efectividad de Alarmas de Humo')\n",
        "\n",
        "fig.show()\n"
      ],
      "metadata": {
        "colab": {
          "base_uri": "https://localhost:8080/",
          "height": 539
        },
        "id": "f5ovFuCwUXln",
        "outputId": "3241398c-698b-4109-e630-23dd86d95250"
      },
      "execution_count": 65,
      "outputs": [
        {
          "output_type": "error",
          "ename": "KeyError",
          "evalue": "ignored",
          "traceback": [
            "\u001b[0;31m---------------------------------------------------------------------------\u001b[0m",
            "\u001b[0;31mKeyError\u001b[0m                                  Traceback (most recent call last)",
            "\u001b[0;32m/usr/local/lib/python3.10/dist-packages/pandas/core/indexes/base.py\u001b[0m in \u001b[0;36mget_loc\u001b[0;34m(self, key, method, tolerance)\u001b[0m\n\u001b[1;32m   3801\u001b[0m             \u001b[0;32mtry\u001b[0m\u001b[0;34m:\u001b[0m\u001b[0;34m\u001b[0m\u001b[0;34m\u001b[0m\u001b[0m\n\u001b[0;32m-> 3802\u001b[0;31m                 \u001b[0;32mreturn\u001b[0m \u001b[0mself\u001b[0m\u001b[0;34m.\u001b[0m\u001b[0m_engine\u001b[0m\u001b[0;34m.\u001b[0m\u001b[0mget_loc\u001b[0m\u001b[0;34m(\u001b[0m\u001b[0mcasted_key\u001b[0m\u001b[0;34m)\u001b[0m\u001b[0;34m\u001b[0m\u001b[0;34m\u001b[0m\u001b[0m\n\u001b[0m\u001b[1;32m   3803\u001b[0m             \u001b[0;32mexcept\u001b[0m \u001b[0mKeyError\u001b[0m \u001b[0;32mas\u001b[0m \u001b[0merr\u001b[0m\u001b[0;34m:\u001b[0m\u001b[0;34m\u001b[0m\u001b[0;34m\u001b[0m\u001b[0m\n",
            "\u001b[0;32m/usr/local/lib/python3.10/dist-packages/pandas/_libs/index.pyx\u001b[0m in \u001b[0;36mpandas._libs.index.IndexEngine.get_loc\u001b[0;34m()\u001b[0m\n",
            "\u001b[0;32m/usr/local/lib/python3.10/dist-packages/pandas/_libs/index.pyx\u001b[0m in \u001b[0;36mpandas._libs.index.IndexEngine.get_loc\u001b[0;34m()\u001b[0m\n",
            "\u001b[0;32mpandas/_libs/hashtable_class_helper.pxi\u001b[0m in \u001b[0;36mpandas._libs.hashtable.PyObjectHashTable.get_item\u001b[0;34m()\u001b[0m\n",
            "\u001b[0;32mpandas/_libs/hashtable_class_helper.pxi\u001b[0m in \u001b[0;36mpandas._libs.hashtable.PyObjectHashTable.get_item\u001b[0;34m()\u001b[0m\n",
            "\u001b[0;31mKeyError\u001b[0m: 'Performance of smoke alarm device, residential fires'",
            "\nThe above exception was the direct cause of the following exception:\n",
            "\u001b[0;31mKeyError\u001b[0m                                  Traceback (most recent call last)",
            "\u001b[0;32m<ipython-input-65-dda4e3e57c4c>\u001b[0m in \u001b[0;36m<cell line: 1>\u001b[0;34m()\u001b[0m\n\u001b[0;32m----> 1\u001b[0;31m \u001b[0mconteo_performance\u001b[0m \u001b[0;34m=\u001b[0m \u001b[0mAH\u001b[0m\u001b[0;34m[\u001b[0m\u001b[0;34m'Performance of smoke alarm device, residential fires'\u001b[0m\u001b[0;34m]\u001b[0m\u001b[0;34m.\u001b[0m\u001b[0mvalue_counts\u001b[0m\u001b[0;34m(\u001b[0m\u001b[0;34m)\u001b[0m\u001b[0;34m\u001b[0m\u001b[0;34m\u001b[0m\u001b[0m\n\u001b[0m\u001b[1;32m      2\u001b[0m \u001b[0mincendios_con_alarma\u001b[0m \u001b[0;34m=\u001b[0m \u001b[0mconteo_performance\u001b[0m\u001b[0;34m[\u001b[0m\u001b[0;34m'Alarm activated'\u001b[0m\u001b[0;34m]\u001b[0m\u001b[0;34m\u001b[0m\u001b[0;34m\u001b[0m\u001b[0m\n\u001b[1;32m      3\u001b[0m \u001b[0mincendios_sin_alarma\u001b[0m \u001b[0;34m=\u001b[0m \u001b[0mtotal_incendios\u001b[0m \u001b[0;34m-\u001b[0m \u001b[0mincendios_con_alarma\u001b[0m\u001b[0;34m\u001b[0m\u001b[0;34m\u001b[0m\u001b[0m\n\u001b[1;32m      4\u001b[0m \u001b[0mdata\u001b[0m \u001b[0;34m=\u001b[0m \u001b[0;34m{\u001b[0m\u001b[0;34m'Resultado'\u001b[0m\u001b[0;34m:\u001b[0m \u001b[0;34m[\u001b[0m\u001b[0;34m'Alarmas Activadas'\u001b[0m\u001b[0;34m,\u001b[0m \u001b[0;34m'Alarmas No Activadas'\u001b[0m\u001b[0;34m]\u001b[0m\u001b[0;34m,\u001b[0m\u001b[0;34m'Cantidad'\u001b[0m\u001b[0;34m:\u001b[0m \u001b[0;34m[\u001b[0m\u001b[0mincendios_con_alarma\u001b[0m\u001b[0;34m,\u001b[0m \u001b[0mincendios_sin_alarma\u001b[0m\u001b[0;34m]\u001b[0m\u001b[0;34m}\u001b[0m\u001b[0;34m\u001b[0m\u001b[0;34m\u001b[0m\u001b[0m\n\u001b[1;32m      5\u001b[0m \u001b[0;34m\u001b[0m\u001b[0m\n",
            "\u001b[0;32m/usr/local/lib/python3.10/dist-packages/pandas/core/frame.py\u001b[0m in \u001b[0;36m__getitem__\u001b[0;34m(self, key)\u001b[0m\n\u001b[1;32m   3805\u001b[0m             \u001b[0;32mif\u001b[0m \u001b[0mself\u001b[0m\u001b[0;34m.\u001b[0m\u001b[0mcolumns\u001b[0m\u001b[0;34m.\u001b[0m\u001b[0mnlevels\u001b[0m \u001b[0;34m>\u001b[0m \u001b[0;36m1\u001b[0m\u001b[0;34m:\u001b[0m\u001b[0;34m\u001b[0m\u001b[0;34m\u001b[0m\u001b[0m\n\u001b[1;32m   3806\u001b[0m                 \u001b[0;32mreturn\u001b[0m \u001b[0mself\u001b[0m\u001b[0;34m.\u001b[0m\u001b[0m_getitem_multilevel\u001b[0m\u001b[0;34m(\u001b[0m\u001b[0mkey\u001b[0m\u001b[0;34m)\u001b[0m\u001b[0;34m\u001b[0m\u001b[0;34m\u001b[0m\u001b[0m\n\u001b[0;32m-> 3807\u001b[0;31m             \u001b[0mindexer\u001b[0m \u001b[0;34m=\u001b[0m \u001b[0mself\u001b[0m\u001b[0;34m.\u001b[0m\u001b[0mcolumns\u001b[0m\u001b[0;34m.\u001b[0m\u001b[0mget_loc\u001b[0m\u001b[0;34m(\u001b[0m\u001b[0mkey\u001b[0m\u001b[0;34m)\u001b[0m\u001b[0;34m\u001b[0m\u001b[0;34m\u001b[0m\u001b[0m\n\u001b[0m\u001b[1;32m   3808\u001b[0m             \u001b[0;32mif\u001b[0m \u001b[0mis_integer\u001b[0m\u001b[0;34m(\u001b[0m\u001b[0mindexer\u001b[0m\u001b[0;34m)\u001b[0m\u001b[0;34m:\u001b[0m\u001b[0;34m\u001b[0m\u001b[0;34m\u001b[0m\u001b[0m\n\u001b[1;32m   3809\u001b[0m                 \u001b[0mindexer\u001b[0m \u001b[0;34m=\u001b[0m \u001b[0;34m[\u001b[0m\u001b[0mindexer\u001b[0m\u001b[0;34m]\u001b[0m\u001b[0;34m\u001b[0m\u001b[0;34m\u001b[0m\u001b[0m\n",
            "\u001b[0;32m/usr/local/lib/python3.10/dist-packages/pandas/core/indexes/base.py\u001b[0m in \u001b[0;36mget_loc\u001b[0;34m(self, key, method, tolerance)\u001b[0m\n\u001b[1;32m   3802\u001b[0m                 \u001b[0;32mreturn\u001b[0m \u001b[0mself\u001b[0m\u001b[0;34m.\u001b[0m\u001b[0m_engine\u001b[0m\u001b[0;34m.\u001b[0m\u001b[0mget_loc\u001b[0m\u001b[0;34m(\u001b[0m\u001b[0mcasted_key\u001b[0m\u001b[0;34m)\u001b[0m\u001b[0;34m\u001b[0m\u001b[0;34m\u001b[0m\u001b[0m\n\u001b[1;32m   3803\u001b[0m             \u001b[0;32mexcept\u001b[0m \u001b[0mKeyError\u001b[0m \u001b[0;32mas\u001b[0m \u001b[0merr\u001b[0m\u001b[0;34m:\u001b[0m\u001b[0;34m\u001b[0m\u001b[0;34m\u001b[0m\u001b[0m\n\u001b[0;32m-> 3804\u001b[0;31m                 \u001b[0;32mraise\u001b[0m \u001b[0mKeyError\u001b[0m\u001b[0;34m(\u001b[0m\u001b[0mkey\u001b[0m\u001b[0;34m)\u001b[0m \u001b[0;32mfrom\u001b[0m \u001b[0merr\u001b[0m\u001b[0;34m\u001b[0m\u001b[0;34m\u001b[0m\u001b[0m\n\u001b[0m\u001b[1;32m   3805\u001b[0m             \u001b[0;32mexcept\u001b[0m \u001b[0mTypeError\u001b[0m\u001b[0;34m:\u001b[0m\u001b[0;34m\u001b[0m\u001b[0;34m\u001b[0m\u001b[0m\n\u001b[1;32m   3806\u001b[0m                 \u001b[0;31m# If we have a listlike key, _check_indexing_error will raise\u001b[0m\u001b[0;34m\u001b[0m\u001b[0;34m\u001b[0m\u001b[0m\n",
            "\u001b[0;31mKeyError\u001b[0m: 'Performance of smoke alarm device, residential fires'"
          ]
        }
      ]
    },
    {
      "cell_type": "markdown",
      "source": [
        "### El porcentaje o tasa de efectividad  de funcionamiento de las alarmas de humo es del 20%."
      ],
      "metadata": {
        "id": "H7UVGPcTB4qW"
      }
    },
    {
      "cell_type": "markdown",
      "source": [
        "# **Se revisa a nivel general, cómo es la distribución de la cantidad de desastres por cada tipo y cuál es el que tiene mayor ocurrencia en el periodo.**"
      ],
      "metadata": {
        "id": "STF8TQJUn0f1"
      }
    },
    {
      "cell_type": "code",
      "source": [
        "desastre=DESA['EVENT TYPE'].value_counts()\n",
        "desastre_df = pd.DataFrame({'EVENT TYPE': desastre.index, 'Cantidad desastres': desastre.values})\n",
        "figd = px.bar(desastre_df, x='EVENT TYPE', y='Cantidad desastres', labels={'EVENT TYPE': 'Tipo de desastre', 'desastre_df': 'Tipo de desastre'})\n",
        "\n",
        "figd.show()\n"
      ],
      "metadata": {
        "id": "F_QBNkProBxv"
      },
      "execution_count": null,
      "outputs": []
    },
    {
      "cell_type": "markdown",
      "source": [
        "### Dentro de la base general de desastres, se encuentra que el desastre de mayor ocurrencia es el de *inundaciones*, en segundo lugar las *tormentas* y en tercer lugar los *incendios*, por lo tanto, hacer énfases en el tipo de desastres de incendios vale la pena, ya que está en el top 3 de ocurrencia, sin embargo, sería interesante indagar sobre algunos datos de las inundaciones y de las tormentas, aunque estos tipos de desastres, tienen menos posibilidades de ser controlados."
      ],
      "metadata": {
        "id": "5dkOvRk8IDIr"
      }
    },
    {
      "cell_type": "markdown",
      "source": [
        "# **Se realiza el ejercicio de ocurrencia de desastres por inundaciones por año**"
      ],
      "metadata": {
        "id": "qF6LawARInX3"
      }
    },
    {
      "cell_type": "code",
      "source": [
        "#Filtramos los registros que corresponden a inundaciones\n",
        "inundaciones = DESA[DESA['EVENT TYPE'] == 'flood']\n",
        "\n",
        "#calculamos la cantidad de inundaciones por año\n",
        "cantidad_Inundaciones_por_año = inundaciones['YEAR'].value_counts().sort_index()\n",
        "\n",
        "dataI = pd.DataFrame({'Año': cantidad_Inundaciones_por_año.index, 'Cantidad de Inundaciones': cantidad_Inundaciones_por_año.values})\n",
        "\n",
        "dataI.plot( 'Año' , 'Cantidad de Inundaciones' )"
      ],
      "metadata": {
        "id": "au-DwK6RI3HQ"
      },
      "execution_count": null,
      "outputs": []
    },
    {
      "cell_type": "markdown",
      "source": [
        "### En comparación con la ocurrencia de incendios, se tiene una misma tendencia, ya que la mayor cantidad de ocurrencia de este tipo desastres ha sido durante los últimos años; de 1970 y 1980 en adelante."
      ],
      "metadata": {
        "id": "UYztnsB1LqP7"
      }
    },
    {
      "cell_type": "markdown",
      "source": [
        "# **Se realiza también el ejercicio de ocurrencia de desastres por tormentas por año para ver su comportamiento en el tiempo**"
      ],
      "metadata": {
        "id": "JY4T8BYvMADR"
      }
    },
    {
      "cell_type": "code",
      "source": [
        "import numpy as np\n",
        "import matplotlib.pyplot as plt\n",
        "\n",
        "#Filtramos los registros que corresponden a tormentas\n",
        "tormentas = DESA[DESA['EVENT TYPE'] == 'storm']\n",
        "\n",
        "#calculamos la cantidad de tormentas por año\n",
        "cantidad_tormentas_por_año = tormentas['YEAR'].value_counts().sort_index()\n",
        "\n",
        "dataT = pd.DataFrame({'Año': cantidad_tormentas_por_año.index, 'Cantidad de tormentas': cantidad_tormentas_por_año.values})\n",
        "\n",
        "dataT.plot( 'Año' , 'Cantidad de tormentas' )\n",
        "\n"
      ],
      "metadata": {
        "id": "z32Q7NIPMMbc"
      },
      "execution_count": null,
      "outputs": []
    },
    {
      "cell_type": "markdown",
      "source": [
        "## En comparación con la ocurrencia de incendios y la ocurrencia de inundaciones, se tiene una misma tendencia, ya que la mayor cantidad de ocurrencia de este tipo desastres ha sido durante los últimos años; de 1970 y 1980 en adelante."
      ],
      "metadata": {
        "id": "EGcHW1icNMoo"
      }
    },
    {
      "cell_type": "markdown",
      "source": [
        "## A nivel general, puede decirse que el top 3 de desastres, conformado por inundaciones, tormentas e incendios, tienen una misma tendencia de comportamiento en el tiempo en cuanto a la cantidad de eventos ocurridos. Podría especularse, que a principios de siglo, quizá la ocurrencia haya sido similar, pero los datos no hayan quedado registrados, ya que la diferencia de la variación entre la frecuencia y cantidad de eventos a principio de siglo y a final de siglo, es bastante notoria."
      ],
      "metadata": {
        "id": "tFZoPyT3NUry"
      }
    },
    {
      "cell_type": "markdown",
      "source": [
        "# **Finalmente, se revisa la cantidad de muertes generadas por estos tres principales tipos de desastre para tener un comparativo de ocurrencia versus impactos.**"
      ],
      "metadata": {
        "id": "K3nFQhEEOXsk"
      }
    },
    {
      "cell_type": "code",
      "source": [
        "eventos = ['fire', 'storm', 'flood']\n",
        "filtro_eventos = DESA['EVENT TYPE'].isin(eventos)\n",
        "datos_filtrados = DESA[filtro_eventos]\n",
        "muertes = datos_filtrados.groupby('EVENT TYPE')['FATALITIES'].sum().reset_index()\n",
        "df_muertes = pd.DataFrame({'Tipo de evento': muertes['EVENT TYPE'], 'Cantidad de muertes': muertes['FATALITIES']})\n",
        "fig = px.bar(df_muertes, x='Tipo de evento', y='Cantidad de muertes',labels={'Tipo de evento': 'Tipo de evento', 'Cantidad de muertes': 'Cantidad de muertes'},title='Cantidad de muertes por tipo de evento')\n",
        "\n",
        "fig.show()\n"
      ],
      "metadata": {
        "colab": {
          "base_uri": "https://localhost:8080/",
          "height": 542
        },
        "id": "4MQSCEMyueZx",
        "outputId": "79ce421b-8719-44f0-ed09-fe3f8d673fd9"
      },
      "execution_count": 68,
      "outputs": [
        {
          "output_type": "display_data",
          "data": {
            "text/html": [
              "<html>\n",
              "<head><meta charset=\"utf-8\" /></head>\n",
              "<body>\n",
              "    <div>            <script src=\"https://cdnjs.cloudflare.com/ajax/libs/mathjax/2.7.5/MathJax.js?config=TeX-AMS-MML_SVG\"></script><script type=\"text/javascript\">if (window.MathJax && window.MathJax.Hub && window.MathJax.Hub.Config) {window.MathJax.Hub.Config({SVG: {font: \"STIX-Web\"}});}</script>                <script type=\"text/javascript\">window.PlotlyConfig = {MathJaxConfig: 'local'};</script>\n",
              "        <script src=\"https://cdn.plot.ly/plotly-2.18.2.min.js\"></script>                <div id=\"d7012aa5-7811-4dc4-9b3c-a3549d7d8895\" class=\"plotly-graph-div\" style=\"height:525px; width:100%;\"></div>            <script type=\"text/javascript\">                                    window.PLOTLYENV=window.PLOTLYENV || {};                                    if (document.getElementById(\"d7012aa5-7811-4dc4-9b3c-a3549d7d8895\")) {                    Plotly.newPlot(                        \"d7012aa5-7811-4dc4-9b3c-a3549d7d8895\",                        [{\"alignmentgroup\":\"True\",\"hovertemplate\":\"Tipo de evento=%{x}<br>Cantidad de muertes=%{y}<extra></extra>\",\"legendgroup\":\"\",\"marker\":{\"color\":\"#636efa\",\"pattern\":{\"shape\":\"\"}},\"name\":\"\",\"offsetgroup\":\"\",\"orientation\":\"v\",\"showlegend\":false,\"textposition\":\"auto\",\"x\":[\"fire\",\"flood\",\"storm\"],\"xaxis\":\"x\",\"y\":[388.0,124.0,1725.0],\"yaxis\":\"y\",\"type\":\"bar\"}],                        {\"template\":{\"data\":{\"histogram2dcontour\":[{\"type\":\"histogram2dcontour\",\"colorbar\":{\"outlinewidth\":0,\"ticks\":\"\"},\"colorscale\":[[0.0,\"#0d0887\"],[0.1111111111111111,\"#46039f\"],[0.2222222222222222,\"#7201a8\"],[0.3333333333333333,\"#9c179e\"],[0.4444444444444444,\"#bd3786\"],[0.5555555555555556,\"#d8576b\"],[0.6666666666666666,\"#ed7953\"],[0.7777777777777778,\"#fb9f3a\"],[0.8888888888888888,\"#fdca26\"],[1.0,\"#f0f921\"]]}],\"choropleth\":[{\"type\":\"choropleth\",\"colorbar\":{\"outlinewidth\":0,\"ticks\":\"\"}}],\"histogram2d\":[{\"type\":\"histogram2d\",\"colorbar\":{\"outlinewidth\":0,\"ticks\":\"\"},\"colorscale\":[[0.0,\"#0d0887\"],[0.1111111111111111,\"#46039f\"],[0.2222222222222222,\"#7201a8\"],[0.3333333333333333,\"#9c179e\"],[0.4444444444444444,\"#bd3786\"],[0.5555555555555556,\"#d8576b\"],[0.6666666666666666,\"#ed7953\"],[0.7777777777777778,\"#fb9f3a\"],[0.8888888888888888,\"#fdca26\"],[1.0,\"#f0f921\"]]}],\"heatmap\":[{\"type\":\"heatmap\",\"colorbar\":{\"outlinewidth\":0,\"ticks\":\"\"},\"colorscale\":[[0.0,\"#0d0887\"],[0.1111111111111111,\"#46039f\"],[0.2222222222222222,\"#7201a8\"],[0.3333333333333333,\"#9c179e\"],[0.4444444444444444,\"#bd3786\"],[0.5555555555555556,\"#d8576b\"],[0.6666666666666666,\"#ed7953\"],[0.7777777777777778,\"#fb9f3a\"],[0.8888888888888888,\"#fdca26\"],[1.0,\"#f0f921\"]]}],\"heatmapgl\":[{\"type\":\"heatmapgl\",\"colorbar\":{\"outlinewidth\":0,\"ticks\":\"\"},\"colorscale\":[[0.0,\"#0d0887\"],[0.1111111111111111,\"#46039f\"],[0.2222222222222222,\"#7201a8\"],[0.3333333333333333,\"#9c179e\"],[0.4444444444444444,\"#bd3786\"],[0.5555555555555556,\"#d8576b\"],[0.6666666666666666,\"#ed7953\"],[0.7777777777777778,\"#fb9f3a\"],[0.8888888888888888,\"#fdca26\"],[1.0,\"#f0f921\"]]}],\"contourcarpet\":[{\"type\":\"contourcarpet\",\"colorbar\":{\"outlinewidth\":0,\"ticks\":\"\"}}],\"contour\":[{\"type\":\"contour\",\"colorbar\":{\"outlinewidth\":0,\"ticks\":\"\"},\"colorscale\":[[0.0,\"#0d0887\"],[0.1111111111111111,\"#46039f\"],[0.2222222222222222,\"#7201a8\"],[0.3333333333333333,\"#9c179e\"],[0.4444444444444444,\"#bd3786\"],[0.5555555555555556,\"#d8576b\"],[0.6666666666666666,\"#ed7953\"],[0.7777777777777778,\"#fb9f3a\"],[0.8888888888888888,\"#fdca26\"],[1.0,\"#f0f921\"]]}],\"surface\":[{\"type\":\"surface\",\"colorbar\":{\"outlinewidth\":0,\"ticks\":\"\"},\"colorscale\":[[0.0,\"#0d0887\"],[0.1111111111111111,\"#46039f\"],[0.2222222222222222,\"#7201a8\"],[0.3333333333333333,\"#9c179e\"],[0.4444444444444444,\"#bd3786\"],[0.5555555555555556,\"#d8576b\"],[0.6666666666666666,\"#ed7953\"],[0.7777777777777778,\"#fb9f3a\"],[0.8888888888888888,\"#fdca26\"],[1.0,\"#f0f921\"]]}],\"mesh3d\":[{\"type\":\"mesh3d\",\"colorbar\":{\"outlinewidth\":0,\"ticks\":\"\"}}],\"scatter\":[{\"fillpattern\":{\"fillmode\":\"overlay\",\"size\":10,\"solidity\":0.2},\"type\":\"scatter\"}],\"parcoords\":[{\"type\":\"parcoords\",\"line\":{\"colorbar\":{\"outlinewidth\":0,\"ticks\":\"\"}}}],\"scatterpolargl\":[{\"type\":\"scatterpolargl\",\"marker\":{\"colorbar\":{\"outlinewidth\":0,\"ticks\":\"\"}}}],\"bar\":[{\"error_x\":{\"color\":\"#2a3f5f\"},\"error_y\":{\"color\":\"#2a3f5f\"},\"marker\":{\"line\":{\"color\":\"#E5ECF6\",\"width\":0.5},\"pattern\":{\"fillmode\":\"overlay\",\"size\":10,\"solidity\":0.2}},\"type\":\"bar\"}],\"scattergeo\":[{\"type\":\"scattergeo\",\"marker\":{\"colorbar\":{\"outlinewidth\":0,\"ticks\":\"\"}}}],\"scatterpolar\":[{\"type\":\"scatterpolar\",\"marker\":{\"colorbar\":{\"outlinewidth\":0,\"ticks\":\"\"}}}],\"histogram\":[{\"marker\":{\"pattern\":{\"fillmode\":\"overlay\",\"size\":10,\"solidity\":0.2}},\"type\":\"histogram\"}],\"scattergl\":[{\"type\":\"scattergl\",\"marker\":{\"colorbar\":{\"outlinewidth\":0,\"ticks\":\"\"}}}],\"scatter3d\":[{\"type\":\"scatter3d\",\"line\":{\"colorbar\":{\"outlinewidth\":0,\"ticks\":\"\"}},\"marker\":{\"colorbar\":{\"outlinewidth\":0,\"ticks\":\"\"}}}],\"scattermapbox\":[{\"type\":\"scattermapbox\",\"marker\":{\"colorbar\":{\"outlinewidth\":0,\"ticks\":\"\"}}}],\"scatterternary\":[{\"type\":\"scatterternary\",\"marker\":{\"colorbar\":{\"outlinewidth\":0,\"ticks\":\"\"}}}],\"scattercarpet\":[{\"type\":\"scattercarpet\",\"marker\":{\"colorbar\":{\"outlinewidth\":0,\"ticks\":\"\"}}}],\"carpet\":[{\"aaxis\":{\"endlinecolor\":\"#2a3f5f\",\"gridcolor\":\"white\",\"linecolor\":\"white\",\"minorgridcolor\":\"white\",\"startlinecolor\":\"#2a3f5f\"},\"baxis\":{\"endlinecolor\":\"#2a3f5f\",\"gridcolor\":\"white\",\"linecolor\":\"white\",\"minorgridcolor\":\"white\",\"startlinecolor\":\"#2a3f5f\"},\"type\":\"carpet\"}],\"table\":[{\"cells\":{\"fill\":{\"color\":\"#EBF0F8\"},\"line\":{\"color\":\"white\"}},\"header\":{\"fill\":{\"color\":\"#C8D4E3\"},\"line\":{\"color\":\"white\"}},\"type\":\"table\"}],\"barpolar\":[{\"marker\":{\"line\":{\"color\":\"#E5ECF6\",\"width\":0.5},\"pattern\":{\"fillmode\":\"overlay\",\"size\":10,\"solidity\":0.2}},\"type\":\"barpolar\"}],\"pie\":[{\"automargin\":true,\"type\":\"pie\"}]},\"layout\":{\"autotypenumbers\":\"strict\",\"colorway\":[\"#636efa\",\"#EF553B\",\"#00cc96\",\"#ab63fa\",\"#FFA15A\",\"#19d3f3\",\"#FF6692\",\"#B6E880\",\"#FF97FF\",\"#FECB52\"],\"font\":{\"color\":\"#2a3f5f\"},\"hovermode\":\"closest\",\"hoverlabel\":{\"align\":\"left\"},\"paper_bgcolor\":\"white\",\"plot_bgcolor\":\"#E5ECF6\",\"polar\":{\"bgcolor\":\"#E5ECF6\",\"angularaxis\":{\"gridcolor\":\"white\",\"linecolor\":\"white\",\"ticks\":\"\"},\"radialaxis\":{\"gridcolor\":\"white\",\"linecolor\":\"white\",\"ticks\":\"\"}},\"ternary\":{\"bgcolor\":\"#E5ECF6\",\"aaxis\":{\"gridcolor\":\"white\",\"linecolor\":\"white\",\"ticks\":\"\"},\"baxis\":{\"gridcolor\":\"white\",\"linecolor\":\"white\",\"ticks\":\"\"},\"caxis\":{\"gridcolor\":\"white\",\"linecolor\":\"white\",\"ticks\":\"\"}},\"coloraxis\":{\"colorbar\":{\"outlinewidth\":0,\"ticks\":\"\"}},\"colorscale\":{\"sequential\":[[0.0,\"#0d0887\"],[0.1111111111111111,\"#46039f\"],[0.2222222222222222,\"#7201a8\"],[0.3333333333333333,\"#9c179e\"],[0.4444444444444444,\"#bd3786\"],[0.5555555555555556,\"#d8576b\"],[0.6666666666666666,\"#ed7953\"],[0.7777777777777778,\"#fb9f3a\"],[0.8888888888888888,\"#fdca26\"],[1.0,\"#f0f921\"]],\"sequentialminus\":[[0.0,\"#0d0887\"],[0.1111111111111111,\"#46039f\"],[0.2222222222222222,\"#7201a8\"],[0.3333333333333333,\"#9c179e\"],[0.4444444444444444,\"#bd3786\"],[0.5555555555555556,\"#d8576b\"],[0.6666666666666666,\"#ed7953\"],[0.7777777777777778,\"#fb9f3a\"],[0.8888888888888888,\"#fdca26\"],[1.0,\"#f0f921\"]],\"diverging\":[[0,\"#8e0152\"],[0.1,\"#c51b7d\"],[0.2,\"#de77ae\"],[0.3,\"#f1b6da\"],[0.4,\"#fde0ef\"],[0.5,\"#f7f7f7\"],[0.6,\"#e6f5d0\"],[0.7,\"#b8e186\"],[0.8,\"#7fbc41\"],[0.9,\"#4d9221\"],[1,\"#276419\"]]},\"xaxis\":{\"gridcolor\":\"white\",\"linecolor\":\"white\",\"ticks\":\"\",\"title\":{\"standoff\":15},\"zerolinecolor\":\"white\",\"automargin\":true,\"zerolinewidth\":2},\"yaxis\":{\"gridcolor\":\"white\",\"linecolor\":\"white\",\"ticks\":\"\",\"title\":{\"standoff\":15},\"zerolinecolor\":\"white\",\"automargin\":true,\"zerolinewidth\":2},\"scene\":{\"xaxis\":{\"backgroundcolor\":\"#E5ECF6\",\"gridcolor\":\"white\",\"linecolor\":\"white\",\"showbackground\":true,\"ticks\":\"\",\"zerolinecolor\":\"white\",\"gridwidth\":2},\"yaxis\":{\"backgroundcolor\":\"#E5ECF6\",\"gridcolor\":\"white\",\"linecolor\":\"white\",\"showbackground\":true,\"ticks\":\"\",\"zerolinecolor\":\"white\",\"gridwidth\":2},\"zaxis\":{\"backgroundcolor\":\"#E5ECF6\",\"gridcolor\":\"white\",\"linecolor\":\"white\",\"showbackground\":true,\"ticks\":\"\",\"zerolinecolor\":\"white\",\"gridwidth\":2}},\"shapedefaults\":{\"line\":{\"color\":\"#2a3f5f\"}},\"annotationdefaults\":{\"arrowcolor\":\"#2a3f5f\",\"arrowhead\":0,\"arrowwidth\":1},\"geo\":{\"bgcolor\":\"white\",\"landcolor\":\"#E5ECF6\",\"subunitcolor\":\"white\",\"showland\":true,\"showlakes\":true,\"lakecolor\":\"white\"},\"title\":{\"x\":0.05},\"mapbox\":{\"style\":\"light\"}}},\"xaxis\":{\"anchor\":\"y\",\"domain\":[0.0,1.0],\"title\":{\"text\":\"Tipo de evento\"}},\"yaxis\":{\"anchor\":\"x\",\"domain\":[0.0,1.0],\"title\":{\"text\":\"Cantidad de muertes\"}},\"legend\":{\"tracegroupgap\":0},\"title\":{\"text\":\"Cantidad de muertes por tipo de evento\"},\"barmode\":\"relative\"},                        {\"responsive\": true}                    ).then(function(){\n",
              "                            \n",
              "var gd = document.getElementById('d7012aa5-7811-4dc4-9b3c-a3549d7d8895');\n",
              "var x = new MutationObserver(function (mutations, observer) {{\n",
              "        var display = window.getComputedStyle(gd).display;\n",
              "        if (!display || display === 'none') {{\n",
              "            console.log([gd, 'removed!']);\n",
              "            Plotly.purge(gd);\n",
              "            observer.disconnect();\n",
              "        }}\n",
              "}});\n",
              "\n",
              "// Listen for the removal of the full notebook cells\n",
              "var notebookContainer = gd.closest('#notebook-container');\n",
              "if (notebookContainer) {{\n",
              "    x.observe(notebookContainer, {childList: true});\n",
              "}}\n",
              "\n",
              "// Listen for the clearing of the current output cell\n",
              "var outputEl = gd.closest('.output');\n",
              "if (outputEl) {{\n",
              "    x.observe(outputEl, {childList: true});\n",
              "}}\n",
              "\n",
              "                        })                };                            </script>        </div>\n",
              "</body>\n",
              "</html>"
            ]
          },
          "metadata": {}
        }
      ]
    },
    {
      "cell_type": "markdown",
      "source": [
        "### Se tiene como resultado que que las tormentas son las que tienen mayor número de muertes con 1725 casos, luego sigue incendios con 388 casos y finalmente las inundaciones a pesar de que tienen mayor ocurrencia como se vio anteriormente, tienen la menor cantidad de muertes en estos tres tipos de desastre con 124 casos."
      ],
      "metadata": {
        "id": "bVktPXDYl9IG"
      }
    }
  ]
}